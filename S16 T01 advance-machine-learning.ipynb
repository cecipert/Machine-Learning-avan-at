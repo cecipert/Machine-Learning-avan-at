{
 "cells": [
  {
   "cell_type": "markdown",
   "id": "afb8759c",
   "metadata": {},
   "source": [
    "# S16 T01 Advanced Machine Learning"
   ]
  },
  {
   "cell_type": "markdown",
   "id": "79203359",
   "metadata": {},
   "source": [
    "## Exercici 1\n",
    "Agafa el conjunt de dades que vulguis i realitza un pipeline i un gridsearch aplicant l'algorisme de Random Forest."
   ]
  },
  {
   "cell_type": "code",
   "execution_count": 143,
   "id": "736881ff",
   "metadata": {},
   "outputs": [],
   "source": [
    "import pandas as pd\n",
    "import numpy as np\n",
    "import matplotlib.pyplot as plt\n",
    "import seaborn as sns\n",
    "\n",
    "from sklearn import metrics\n",
    "\n",
    "from sklearn.ensemble import RandomForestRegressor\n",
    "from sklearn.model_selection import GridSearchCV\n",
    "from sklearn.preprocessing import StandardScaler\n",
    "from sklearn.pipeline import Pipeline\n",
    "from sklearn.model_selection import train_test_split\n",
    "from sklearn.decomposition import PCA\n",
    "from scipy.stats import gaussian_kde"
   ]
  },
  {
   "cell_type": "markdown",
   "id": "a328cfe3",
   "metadata": {},
   "source": [
    "### World Happiness Report\n",
    "Happiness scored according to economic production, social support, etc."
   ]
  },
  {
   "cell_type": "code",
   "execution_count": 59,
   "id": "89c3b416",
   "metadata": {},
   "outputs": [],
   "source": [
    "# Read the data into a dataframe\n",
    "df_raw = pd.read_csv('2019.csv', sep=',')"
   ]
  },
  {
   "cell_type": "code",
   "execution_count": 60,
   "id": "da10c22d",
   "metadata": {},
   "outputs": [
    {
     "data": {
      "text/html": [
       "<div>\n",
       "<style scoped>\n",
       "    .dataframe tbody tr th:only-of-type {\n",
       "        vertical-align: middle;\n",
       "    }\n",
       "\n",
       "    .dataframe tbody tr th {\n",
       "        vertical-align: top;\n",
       "    }\n",
       "\n",
       "    .dataframe thead th {\n",
       "        text-align: right;\n",
       "    }\n",
       "</style>\n",
       "<table border=\"1\" class=\"dataframe\">\n",
       "  <thead>\n",
       "    <tr style=\"text-align: right;\">\n",
       "      <th></th>\n",
       "      <th>Overall rank</th>\n",
       "      <th>Country or region</th>\n",
       "      <th>Score</th>\n",
       "      <th>GDP per capita</th>\n",
       "      <th>Social support</th>\n",
       "      <th>Healthy life expectancy</th>\n",
       "      <th>Freedom to make life choices</th>\n",
       "      <th>Generosity</th>\n",
       "      <th>Perceptions of corruption</th>\n",
       "    </tr>\n",
       "  </thead>\n",
       "  <tbody>\n",
       "    <tr>\n",
       "      <th>46</th>\n",
       "      <td>47</td>\n",
       "      <td>Argentina</td>\n",
       "      <td>6.086</td>\n",
       "      <td>1.092</td>\n",
       "      <td>1.432</td>\n",
       "      <td>0.881</td>\n",
       "      <td>0.471</td>\n",
       "      <td>0.066</td>\n",
       "      <td>0.05</td>\n",
       "    </tr>\n",
       "  </tbody>\n",
       "</table>\n",
       "</div>"
      ],
      "text/plain": [
       "    Overall rank Country or region  Score  GDP per capita  Social support  \\\n",
       "46            47         Argentina  6.086           1.092           1.432   \n",
       "\n",
       "    Healthy life expectancy  Freedom to make life choices  Generosity  \\\n",
       "46                    0.881                         0.471       0.066   \n",
       "\n",
       "    Perceptions of corruption  \n",
       "46                       0.05  "
      ]
     },
     "execution_count": 60,
     "metadata": {},
     "output_type": "execute_result"
    }
   ],
   "source": [
    "# See an example of the data\n",
    "df_raw[df_raw['Country or region']=='Argentina']"
   ]
  },
  {
   "cell_type": "code",
   "execution_count": 61,
   "id": "b81f5698",
   "metadata": {},
   "outputs": [
    {
     "data": {
      "text/plain": [
       "array(['Afghanistan', 'Albania', 'Algeria', 'Argentina', 'Armenia',\n",
       "       'Australia', 'Austria', 'Azerbaijan', 'Bahrain', 'Bangladesh',\n",
       "       'Belarus', 'Belgium', 'Benin', 'Bhutan', 'Bolivia',\n",
       "       'Bosnia and Herzegovina', 'Botswana', 'Brazil', 'Bulgaria',\n",
       "       'Burkina Faso', 'Burundi', 'Cambodia', 'Cameroon', 'Canada',\n",
       "       'Central African Republic', 'Chad', 'Chile', 'China', 'Colombia',\n",
       "       'Comoros', 'Congo (Brazzaville)', 'Congo (Kinshasa)', 'Costa Rica',\n",
       "       'Croatia', 'Cyprus', 'Czech Republic', 'Denmark',\n",
       "       'Dominican Republic', 'Ecuador', 'Egypt', 'El Salvador', 'Estonia',\n",
       "       'Ethiopia', 'Finland', 'France', 'Gabon', 'Gambia', 'Georgia',\n",
       "       'Germany', 'Ghana', 'Greece', 'Guatemala', 'Guinea', 'Haiti',\n",
       "       'Honduras', 'Hong Kong', 'Hungary', 'Iceland', 'India',\n",
       "       'Indonesia', 'Iran', 'Iraq', 'Ireland', 'Israel', 'Italy',\n",
       "       'Ivory Coast', 'Jamaica', 'Japan', 'Jordan', 'Kazakhstan', 'Kenya',\n",
       "       'Kosovo', 'Kuwait', 'Kyrgyzstan', 'Laos', 'Latvia', 'Lebanon',\n",
       "       'Lesotho', 'Liberia', 'Libya', 'Lithuania', 'Luxembourg',\n",
       "       'Madagascar', 'Malawi', 'Malaysia', 'Mali', 'Malta', 'Mauritania',\n",
       "       'Mauritius', 'Mexico', 'Moldova', 'Mongolia', 'Montenegro',\n",
       "       'Morocco', 'Mozambique', 'Myanmar', 'Namibia', 'Nepal',\n",
       "       'Netherlands', 'New Zealand', 'Nicaragua', 'Niger', 'Nigeria',\n",
       "       'North Macedonia', 'Northern Cyprus', 'Norway', 'Pakistan',\n",
       "       'Palestinian Territories', 'Panama', 'Paraguay', 'Peru',\n",
       "       'Philippines', 'Poland', 'Portugal', 'Qatar', 'Romania', 'Russia',\n",
       "       'Rwanda', 'Saudi Arabia', 'Senegal', 'Serbia', 'Sierra Leone',\n",
       "       'Singapore', 'Slovakia', 'Slovenia', 'Somalia', 'South Africa',\n",
       "       'South Korea', 'South Sudan', 'Spain', 'Sri Lanka', 'Swaziland',\n",
       "       'Sweden', 'Switzerland', 'Syria', 'Taiwan', 'Tajikistan',\n",
       "       'Tanzania', 'Thailand', 'Togo', 'Trinidad & Tobago', 'Tunisia',\n",
       "       'Turkey', 'Turkmenistan', 'Uganda', 'Ukraine',\n",
       "       'United Arab Emirates', 'United Kingdom', 'United States',\n",
       "       'Uruguay', 'Uzbekistan', 'Venezuela', 'Vietnam', 'Yemen', 'Zambia',\n",
       "       'Zimbabwe'], dtype=object)"
      ]
     },
     "execution_count": 61,
     "metadata": {},
     "output_type": "execute_result"
    }
   ],
   "source": [
    "df_raw.sort_values(by = ['Country or region'])['Country or region'].unique()"
   ]
  },
  {
   "cell_type": "markdown",
   "id": "77dfe189",
   "metadata": {},
   "source": [
    "There are no regions, so I´ll rename the feature"
   ]
  },
  {
   "cell_type": "code",
   "execution_count": 62,
   "id": "46bdba9e",
   "metadata": {},
   "outputs": [],
   "source": [
    "df_raw = df_raw.rename(columns = {'Country or region' : 'Country'})"
   ]
  },
  {
   "cell_type": "code",
   "execution_count": 63,
   "id": "3de0dd26",
   "metadata": {},
   "outputs": [
    {
     "data": {
      "text/plain": [
       "Overall rank                    0\n",
       "Country                         0\n",
       "Score                           0\n",
       "GDP per capita                  0\n",
       "Social support                  0\n",
       "Healthy life expectancy         0\n",
       "Freedom to make life choices    0\n",
       "Generosity                      0\n",
       "Perceptions of corruption       0\n",
       "dtype: int64"
      ]
     },
     "execution_count": 63,
     "metadata": {},
     "output_type": "execute_result"
    }
   ],
   "source": [
    "# Are ther any nulls?\n",
    "df_raw.isnull().sum()"
   ]
  },
  {
   "cell_type": "code",
   "execution_count": 64,
   "id": "6842332f",
   "metadata": {},
   "outputs": [
    {
     "data": {
      "text/plain": [
       "count    156.000000\n",
       "mean       5.407096\n",
       "std        1.113120\n",
       "min        2.853000\n",
       "25%        4.544500\n",
       "50%        5.379500\n",
       "75%        6.184500\n",
       "max        7.769000\n",
       "Name: Score, dtype: float64"
      ]
     },
     "execution_count": 64,
     "metadata": {},
     "output_type": "execute_result"
    }
   ],
   "source": [
    "# Describe the posible values of the target\n",
    "df_raw.Score.describe()"
   ]
  },
  {
   "cell_type": "code",
   "execution_count": 65,
   "id": "6901c8f5",
   "metadata": {},
   "outputs": [
    {
     "data": {
      "text/plain": [
       "Text(0.5, 1.0, 'Distribution of the target variable')"
      ]
     },
     "execution_count": 65,
     "metadata": {},
     "output_type": "execute_result"
    },
    {
     "data": {
      "image/png": "[encoded data removed]",
      "text/plain": [
       "<Figure size 432x288 with 1 Axes>"
      ]
     },
     "metadata": {
      "needs_background": "light"
     },
     "output_type": "display_data"
    }
   ],
   "source": [
    "# What does it look like?\n",
    "ax = sns.boxplot(x = df_raw['Score'], orient = 'h')\n",
    "ax = sns.swarmplot(x = df_raw['Score'], orient = 'h', color=\".25\")\n",
    "ax.set_title('Distribution of the target variable')"
   ]
  },
  {
   "cell_type": "markdown",
   "id": "e1ad48d2",
   "metadata": {},
   "source": [
    "There are no outliers"
   ]
  },
  {
   "cell_type": "code",
   "execution_count": 66,
   "id": "1749a86d",
   "metadata": {},
   "outputs": [
    {
     "name": "stdout",
     "output_type": "stream",
     "text": [
      "Knowing ['GDP per capita' 'Social support' 'Healthy life expectancy'\n",
      " 'Freedom to make life choices' 'Generosity' 'Perceptions of corruption'], I want to predict the Score\n"
     ]
    }
   ],
   "source": [
    "features = df_raw.columns[3:9].values\n",
    "print(f'Knowing {features}, I want to predict the Score')"
   ]
  },
  {
   "cell_type": "code",
   "execution_count": 78,
   "id": "ed2167ef",
   "metadata": {},
   "outputs": [
    {
     "data": {
      "text/plain": [
       "array([[1.34 , 1.587, 0.986, 0.596, 0.153, 0.393],\n",
       "       [1.383, 1.573, 0.996, 0.592, 0.252, 0.41 ],\n",
       "       [1.488, 1.582, 1.028, 0.603, 0.271, 0.341],\n",
       "       [1.38 , 1.624, 1.026, 0.591, 0.354, 0.118],\n",
       "       [1.396, 1.522, 0.999, 0.557, 0.322, 0.298],\n",
       "       [1.452, 1.526, 1.052, 0.572, 0.263, 0.343],\n",
       "       [1.387, 1.487, 1.009, 0.574, 0.267, 0.373],\n",
       "       [1.303, 1.557, 1.026, 0.585, 0.33 , 0.38 ],\n",
       "       [1.365, 1.505, 1.039, 0.584, 0.285, 0.308],\n",
       "       [1.376, 1.475, 1.016, 0.532, 0.244, 0.226],\n",
       "       [1.372, 1.548, 1.036, 0.557, 0.332, 0.29 ],\n",
       "       [1.034, 1.441, 0.963, 0.558, 0.144, 0.093],\n",
       "       [1.276, 1.455, 1.029, 0.371, 0.261, 0.082],\n",
       "       [1.609, 1.479, 1.012, 0.526, 0.194, 0.316],\n",
       "       [1.333, 1.538, 0.996, 0.45 , 0.348, 0.278],\n",
       "       [1.499, 1.553, 0.999, 0.516, 0.298, 0.31 ],\n",
       "       [1.373, 1.454, 0.987, 0.495, 0.261, 0.265],\n",
       "       [1.356, 1.504, 0.986, 0.473, 0.16 , 0.21 ],\n",
       "       [1.433, 1.457, 0.874, 0.454, 0.28 , 0.128],\n",
       "       [1.269, 1.487, 0.92 , 0.457, 0.046, 0.036],\n",
       "       [1.503, 1.31 , 0.825, 0.598, 0.262, 0.182],\n",
       "       [1.3  , 1.52 , 0.999, 0.564, 0.375, 0.151],\n",
       "       [1.07 , 1.323, 0.861, 0.433, 0.074, 0.073],\n",
       "       [1.324, 1.472, 1.045, 0.436, 0.111, 0.183],\n",
       "       [1.368, 1.43 , 0.914, 0.351, 0.242, 0.097],\n",
       "       [1.159, 1.369, 0.92 , 0.357, 0.187, 0.056],\n",
       "       [0.8  , 1.269, 0.746, 0.535, 0.175, 0.078],\n",
       "       [1.403, 1.357, 0.795, 0.439, 0.08 , 0.132],\n",
       "       [1.684, 1.313, 0.871, 0.555, 0.22 , 0.167],\n",
       "       [1.286, 1.484, 1.062, 0.362, 0.153, 0.079],\n",
       "       [1.149, 1.442, 0.91 , 0.516, 0.109, 0.054],\n",
       "       [1.004, 1.439, 0.802, 0.39 , 0.099, 0.086],\n",
       "       [1.124, 1.465, 0.891, 0.523, 0.127, 0.15 ],\n",
       "       [1.572, 1.463, 1.141, 0.556, 0.271, 0.453],\n",
       "       [0.794, 1.242, 0.789, 0.43 , 0.093, 0.074],\n",
       "       [1.294, 1.488, 1.039, 0.231, 0.158, 0.03 ],\n",
       "       [1.362, 1.368, 0.871, 0.536, 0.255, 0.11 ],\n",
       "       [1.246, 1.504, 0.881, 0.334, 0.121, 0.014],\n",
       "       [1.231, 1.477, 0.713, 0.489, 0.185, 0.016],\n",
       "       [1.206, 1.438, 0.884, 0.483, 0.117, 0.05 ],\n",
       "       [0.745, 1.529, 0.756, 0.631, 0.322, 0.24 ],\n",
       "       [1.238, 1.515, 0.818, 0.291, 0.043, 0.042],\n",
       "       [0.985, 1.41 , 0.841, 0.47 , 0.099, 0.034],\n",
       "       [1.258, 1.523, 0.953, 0.564, 0.144, 0.057],\n",
       "       [0.694, 1.325, 0.835, 0.435, 0.2  , 0.127],\n",
       "       [0.882, 1.232, 0.758, 0.489, 0.262, 0.006],\n",
       "       [1.092, 1.432, 0.881, 0.471, 0.066, 0.05 ],\n",
       "       [1.162, 1.232, 0.825, 0.462, 0.083, 0.005],\n",
       "       [1.263, 1.223, 1.042, 0.406, 0.19 , 0.041],\n",
       "       [0.912, 1.312, 0.868, 0.498, 0.126, 0.087],\n",
       "       [1.5  , 1.319, 0.808, 0.493, 0.142, 0.097],\n",
       "       [1.05 , 1.409, 0.828, 0.557, 0.359, 0.028],\n",
       "       [1.187, 1.465, 0.812, 0.264, 0.075, 0.064],\n",
       "       [1.301, 1.219, 1.036, 0.159, 0.175, 0.056],\n",
       "       [1.237, 1.528, 0.874, 0.495, 0.103, 0.161],\n",
       "       [0.831, 1.478, 0.831, 0.49 , 0.107, 0.028],\n",
       "       [1.12 , 1.402, 0.798, 0.498, 0.215, 0.06 ],\n",
       "       [1.327, 1.419, 1.088, 0.445, 0.069, 0.14 ],\n",
       "       [0.642, 1.236, 0.828, 0.507, 0.246, 0.078],\n",
       "       [1.173, 1.508, 0.729, 0.41 , 0.146, 0.096],\n",
       "       [0.776, 1.209, 0.706, 0.511, 0.137, 0.064],\n",
       "       [1.201, 1.41 , 0.828, 0.199, 0.081, 0.02 ],\n",
       "       [0.855, 1.475, 0.777, 0.514, 0.184, 0.08 ],\n",
       "       [1.263, 1.252, 1.042, 0.417, 0.191, 0.162],\n",
       "       [0.96 , 1.274, 0.854, 0.455, 0.083, 0.027],\n",
       "       [1.221, 1.431, 0.999, 0.508, 0.047, 0.025],\n",
       "       [0.677, 0.886, 0.535, 0.313, 0.22 , 0.098],\n",
       "       [1.183, 1.452, 0.726, 0.334, 0.082, 0.031],\n",
       "       [0.807, 1.293, 0.657, 0.558, 0.117, 0.107],\n",
       "       [1.004, 1.383, 0.854, 0.282, 0.137, 0.039],\n",
       "       [0.685, 1.328, 0.739, 0.245, 0.181, 0.   ],\n",
       "       [1.044, 1.303, 0.673, 0.416, 0.133, 0.152],\n",
       "       [1.051, 1.361, 0.871, 0.197, 0.142, 0.08 ],\n",
       "       [0.493, 1.098, 0.718, 0.389, 0.23 , 0.144],\n",
       "       [1.155, 1.266, 0.914, 0.296, 0.119, 0.022],\n",
       "       [1.438, 1.277, 1.122, 0.44 , 0.258, 0.287],\n",
       "       [1.015, 1.401, 0.779, 0.497, 0.113, 0.101],\n",
       "       [0.945, 1.212, 0.845, 0.212, 0.263, 0.006],\n",
       "       [1.183, 1.36 , 0.808, 0.195, 0.083, 0.106],\n",
       "       [1.221, 1.171, 0.828, 0.508, 0.26 , 0.024],\n",
       "       [1.067, 1.465, 0.789, 0.235, 0.094, 0.142],\n",
       "       [1.181, 1.156, 0.999, 0.067, 0.   , 0.034],\n",
       "       [0.948, 1.531, 0.667, 0.317, 0.235, 0.038],\n",
       "       [0.983, 1.294, 0.838, 0.345, 0.185, 0.034],\n",
       "       [0.696, 1.111, 0.245, 0.426, 0.215, 0.041],\n",
       "       [0.551, 1.438, 0.723, 0.508, 0.3  , 0.023],\n",
       "       [1.052, 1.538, 0.657, 0.394, 0.244, 0.028],\n",
       "       [1.002, 1.16 , 0.785, 0.086, 0.073, 0.114],\n",
       "       [0.801, 0.782, 0.782, 0.418, 0.036, 0.076],\n",
       "       [1.043, 1.147, 0.769, 0.351, 0.035, 0.182],\n",
       "       [0.987, 1.224, 0.815, 0.216, 0.166, 0.027],\n",
       "       [0.931, 1.203, 0.66 , 0.491, 0.498, 0.028],\n",
       "       [1.029, 1.125, 0.893, 0.521, 0.058, 0.1  ],\n",
       "       [0.741, 1.346, 0.851, 0.543, 0.147, 0.073],\n",
       "       [0.813, 1.321, 0.604, 0.457, 0.37 , 0.167],\n",
       "       [0.549, 0.91 , 0.331, 0.381, 0.187, 0.037],\n",
       "       [1.092, 1.513, 0.815, 0.311, 0.081, 0.004],\n",
       "       [0.611, 0.868, 0.486, 0.381, 0.245, 0.04 ],\n",
       "       [0.569, 0.808, 0.232, 0.352, 0.154, 0.09 ],\n",
       "       [0.446, 1.226, 0.677, 0.439, 0.285, 0.089],\n",
       "       [0.837, 1.225, 0.815, 0.383, 0.11 , 0.13 ],\n",
       "       [0.393, 0.437, 0.397, 0.349, 0.175, 0.082],\n",
       "       [0.673, 0.799, 0.508, 0.372, 0.105, 0.093],\n",
       "       [1.057, 1.183, 0.571, 0.295, 0.043, 0.055],\n",
       "       [0.764, 1.03 , 0.551, 0.547, 0.266, 0.164],\n",
       "       [0.96 , 1.351, 0.469, 0.389, 0.13 , 0.055],\n",
       "       [0.947, 0.848, 0.874, 0.383, 0.178, 0.027],\n",
       "       [0.96 , 1.427, 0.805, 0.154, 0.064, 0.047],\n",
       "       [0.574, 1.122, 0.637, 0.609, 0.232, 0.062],\n",
       "       [0.657, 1.247, 0.672, 0.225, 0.103, 0.066],\n",
       "       [0.45 , 1.134, 0.571, 0.292, 0.153, 0.072],\n",
       "       [0.   , 0.698, 0.268, 0.559, 0.243, 0.27 ],\n",
       "       [0.879, 1.313, 0.477, 0.401, 0.07 , 0.056],\n",
       "       [0.138, 0.774, 0.366, 0.318, 0.188, 0.102],\n",
       "       [0.331, 1.056, 0.38 , 0.255, 0.177, 0.113],\n",
       "       [0.85 , 1.055, 0.815, 0.283, 0.095, 0.064],\n",
       "       [1.1  , 0.842, 0.785, 0.305, 0.27 , 0.125],\n",
       "       [0.38 , 0.829, 0.375, 0.332, 0.207, 0.086],\n",
       "       [0.886, 0.666, 0.752, 0.346, 0.043, 0.164],\n",
       "       [0.308, 0.939, 0.428, 0.382, 0.269, 0.167],\n",
       "       [0.512, 0.983, 0.581, 0.431, 0.372, 0.053],\n",
       "       [0.57 , 1.167, 0.489, 0.066, 0.106, 0.088],\n",
       "       [0.204, 0.986, 0.39 , 0.494, 0.197, 0.138],\n",
       "       [0.921, 1.   , 0.815, 0.167, 0.059, 0.055],\n",
       "       [0.562, 0.928, 0.723, 0.527, 0.166, 0.143],\n",
       "       [1.043, 0.98 , 0.574, 0.241, 0.148, 0.089],\n",
       "       [0.094, 1.125, 0.357, 0.269, 0.212, 0.053],\n",
       "       [0.385, 1.105, 0.308, 0.327, 0.153, 0.052],\n",
       "       [0.268, 0.841, 0.242, 0.309, 0.252, 0.045],\n",
       "       [0.949, 1.265, 0.831, 0.47 , 0.244, 0.047],\n",
       "       [0.71 , 1.181, 0.555, 0.525, 0.566, 0.172],\n",
       "       [0.35 , 0.766, 0.192, 0.174, 0.198, 0.078],\n",
       "       [0.82 , 1.39 , 0.739, 0.178, 0.187, 0.01 ],\n",
       "       [0.336, 1.033, 0.532, 0.344, 0.209, 0.1  ],\n",
       "       [0.811, 1.149, 0.   , 0.313, 0.074, 0.135],\n",
       "       [0.332, 1.069, 0.443, 0.356, 0.252, 0.06 ],\n",
       "       [0.913, 1.039, 0.644, 0.241, 0.076, 0.067],\n",
       "       [0.578, 1.058, 0.426, 0.431, 0.247, 0.087],\n",
       "       [0.275, 0.572, 0.41 , 0.293, 0.177, 0.085],\n",
       "       [0.755, 0.765, 0.588, 0.498, 0.2  , 0.085],\n",
       "       [0.073, 0.922, 0.443, 0.37 , 0.233, 0.033],\n",
       "       [0.274, 0.757, 0.505, 0.142, 0.275, 0.078],\n",
       "       [0.274, 0.916, 0.555, 0.148, 0.169, 0.041],\n",
       "       [0.489, 1.169, 0.168, 0.359, 0.107, 0.093],\n",
       "       [0.046, 0.447, 0.38 , 0.22 , 0.176, 0.18 ],\n",
       "       [0.366, 1.114, 0.433, 0.361, 0.151, 0.089],\n",
       "       [0.323, 0.688, 0.449, 0.026, 0.419, 0.11 ],\n",
       "       [1.041, 1.145, 0.538, 0.455, 0.025, 0.1  ],\n",
       "       [0.619, 0.378, 0.44 , 0.013, 0.331, 0.141],\n",
       "       [0.191, 0.56 , 0.495, 0.443, 0.218, 0.089],\n",
       "       [0.287, 1.163, 0.463, 0.143, 0.108, 0.077],\n",
       "       [0.359, 0.711, 0.614, 0.555, 0.217, 0.411],\n",
       "       [0.476, 0.885, 0.499, 0.417, 0.276, 0.147],\n",
       "       [0.35 , 0.517, 0.361, 0.   , 0.158, 0.025],\n",
       "       [0.026, 0.   , 0.105, 0.225, 0.235, 0.035],\n",
       "       [0.306, 0.575, 0.295, 0.01 , 0.202, 0.091]])"
      ]
     },
     "execution_count": 78,
     "metadata": {},
     "output_type": "execute_result"
    }
   ],
   "source": [
    "# Determine the features\n",
    "X = df_raw[features].values\n",
    "X"
   ]
  },
  {
   "cell_type": "code",
   "execution_count": 92,
   "id": "281767e1",
   "metadata": {},
   "outputs": [
    {
     "data": {
      "text/plain": [
       "array([7.769, 7.6  , 7.554, 7.494, 7.488, 7.48 , 7.343, 7.307, 7.278,\n",
       "       7.246, 7.228, 7.167, 7.139, 7.09 , 7.054, 7.021, 6.985, 6.923,\n",
       "       6.892, 6.852, 6.825, 6.726, 6.595, 6.592, 6.446, 6.444, 6.436,\n",
       "       6.375, 6.374, 6.354, 6.321, 6.3  , 6.293, 6.262, 6.253, 6.223,\n",
       "       6.199, 6.198, 6.192, 6.182, 6.174, 6.149, 6.125, 6.118, 6.105,\n",
       "       6.1  , 6.086, 6.07 , 6.046, 6.028, 6.021, 6.008, 5.94 , 5.895,\n",
       "       5.893, 5.89 , 5.888, 5.886, 5.86 , 5.809, 5.779, 5.758, 5.743,\n",
       "       5.718, 5.697, 5.693, 5.653, 5.648, 5.631, 5.603, 5.529, 5.525,\n",
       "       5.523, 5.467, 5.432, 5.43 , 5.425, 5.386, 5.373, 5.339, 5.323,\n",
       "       5.287, 5.285, 5.274, 5.265, 5.261, 5.247, 5.211, 5.208, 5.208,\n",
       "       5.197, 5.192, 5.191, 5.175, 5.082, 5.044, 5.011, 4.996, 4.944,\n",
       "       4.913, 4.906, 4.883, 4.812, 4.799, 4.796, 4.722, 4.719, 4.707,\n",
       "       4.7  , 4.696, 4.681, 4.668, 4.639, 4.628, 4.587, 4.559, 4.548,\n",
       "       4.534, 4.519, 4.516, 4.509, 4.49 , 4.466, 4.461, 4.456, 4.437,\n",
       "       4.418, 4.39 , 4.374, 4.366, 4.36 , 4.35 , 4.332, 4.286, 4.212,\n",
       "       4.189, 4.166, 4.107, 4.085, 4.015, 3.975, 3.973, 3.933, 3.802,\n",
       "       3.775, 3.663, 3.597, 3.488, 3.462, 3.41 , 3.38 , 3.334, 3.231,\n",
       "       3.203, 3.083, 2.853])"
      ]
     },
     "execution_count": 92,
     "metadata": {},
     "output_type": "execute_result"
    }
   ],
   "source": [
    "# Choose the target\n",
    "label = ['Score']\n",
    "y = np.ravel(df_raw[label].values) # use of ravel is because fit demanded a y with less dimensions\n",
    "y"
   ]
  },
  {
   "cell_type": "code",
   "execution_count": 87,
   "id": "811ebada",
   "metadata": {},
   "outputs": [],
   "source": [
    "# Define the train and test groups\n",
    "X_train, X_test, y_train, y_test = train_test_split(X,y,test_size=0.2, random_state=30)"
   ]
  },
  {
   "cell_type": "code",
   "execution_count": 105,
   "id": "222888db",
   "metadata": {},
   "outputs": [],
   "source": [
    "# Choose the parameters to test on Random Forest Regresor\n",
    "parameters = {'RFR__random_state' : [5], 'RFR__n_estimators' : range(50,101,5),\n",
    "              'RFR__min_samples_split' : [2,5,12,20], 'PCA__n_components' :[.95],\n",
    "             'PCA__random_state' : [123]}\n"
   ]
  },
  {
   "cell_type": "code",
   "execution_count": 106,
   "id": "10539071",
   "metadata": {},
   "outputs": [],
   "source": [
    "steps = [('scaler', StandardScaler()), ('PCA', PCA()), ('RFR', RandomForestRegressor())]"
   ]
  },
  {
   "cell_type": "code",
   "execution_count": 107,
   "id": "c32044d7",
   "metadata": {},
   "outputs": [],
   "source": [
    "pipeline = Pipeline(steps) # define the pipeline object."
   ]
  },
  {
   "cell_type": "code",
   "execution_count": 108,
   "id": "06b3065b",
   "metadata": {
    "scrolled": false
   },
   "outputs": [
    {
     "data": {
      "text/plain": [
       "GridSearchCV(cv=5,\n",
       "             estimator=Pipeline(steps=[('scaler', StandardScaler()),\n",
       "                                       ('PCA', PCA()),\n",
       "                                       ('RFR', RandomForestRegressor())]),\n",
       "             param_grid={'PCA__n_components': [0.95],\n",
       "                         'PCA__random_state': [123],\n",
       "                         'RFR__min_samples_split': [2, 5, 12, 20],\n",
       "                         'RFR__n_estimators': range(50, 101, 5),\n",
       "                         'RFR__random_state': [5]})"
      ]
     },
     "execution_count": 108,
     "metadata": {},
     "output_type": "execute_result"
    }
   ],
   "source": [
    "grid = GridSearchCV(pipeline, param_grid=parameters, cv=5)\n",
    "grid.fit(X_train, y_train)\n"
   ]
  },
  {
   "cell_type": "code",
   "execution_count": 117,
   "id": "d05acb77",
   "metadata": {},
   "outputs": [
    {
     "name": "stdout",
     "output_type": "stream",
     "text": [
      "Model score = 0.81\n",
      "Best params: {'PCA__n_components': 0.95, 'PCA__random_state': 123, 'RFR__min_samples_split': 5, 'RFR__n_estimators': 65, 'RFR__random_state': 5}\n"
     ]
    }
   ],
   "source": [
    "print(\"Model score = %3.2f\" %(grid.score(X_test,y_test)))\n",
    "print('Best params:',grid.best_params_)"
   ]
  },
  {
   "cell_type": "code",
   "execution_count": 114,
   "id": "481325b2",
   "metadata": {},
   "outputs": [],
   "source": [
    "pred = grid.predict(X_test)"
   ]
  },
  {
   "cell_type": "code",
   "execution_count": 116,
   "id": "5a302245",
   "metadata": {},
   "outputs": [
    {
     "data": {
      "text/html": [
       "<div>\n",
       "<style scoped>\n",
       "    .dataframe tbody tr th:only-of-type {\n",
       "        vertical-align: middle;\n",
       "    }\n",
       "\n",
       "    .dataframe tbody tr th {\n",
       "        vertical-align: top;\n",
       "    }\n",
       "\n",
       "    .dataframe thead th {\n",
       "        text-align: right;\n",
       "    }\n",
       "</style>\n",
       "<table border=\"1\" class=\"dataframe\">\n",
       "  <thead>\n",
       "    <tr style=\"text-align: right;\">\n",
       "      <th></th>\n",
       "      <th>predicted</th>\n",
       "      <th>real</th>\n",
       "    </tr>\n",
       "  </thead>\n",
       "  <tbody>\n",
       "    <tr>\n",
       "      <th>0</th>\n",
       "      <td>6.174121</td>\n",
       "      <td>6.021</td>\n",
       "    </tr>\n",
       "    <tr>\n",
       "      <th>1</th>\n",
       "      <td>5.588178</td>\n",
       "      <td>5.323</td>\n",
       "    </tr>\n",
       "    <tr>\n",
       "      <th>2</th>\n",
       "      <td>4.605543</td>\n",
       "      <td>5.529</td>\n",
       "    </tr>\n",
       "    <tr>\n",
       "      <th>3</th>\n",
       "      <td>7.031388</td>\n",
       "      <td>7.278</td>\n",
       "    </tr>\n",
       "    <tr>\n",
       "      <th>4</th>\n",
       "      <td>5.760018</td>\n",
       "      <td>5.648</td>\n",
       "    </tr>\n",
       "    <tr>\n",
       "      <th>5</th>\n",
       "      <td>3.885044</td>\n",
       "      <td>3.597</td>\n",
       "    </tr>\n",
       "    <tr>\n",
       "      <th>6</th>\n",
       "      <td>7.055857</td>\n",
       "      <td>7.480</td>\n",
       "    </tr>\n",
       "    <tr>\n",
       "      <th>7</th>\n",
       "      <td>4.514075</td>\n",
       "      <td>4.913</td>\n",
       "    </tr>\n",
       "    <tr>\n",
       "      <th>8</th>\n",
       "      <td>6.611653</td>\n",
       "      <td>6.446</td>\n",
       "    </tr>\n",
       "    <tr>\n",
       "      <th>9</th>\n",
       "      <td>6.929801</td>\n",
       "      <td>7.494</td>\n",
       "    </tr>\n",
       "    <tr>\n",
       "      <th>10</th>\n",
       "      <td>4.823423</td>\n",
       "      <td>5.386</td>\n",
       "    </tr>\n",
       "    <tr>\n",
       "      <th>11</th>\n",
       "      <td>4.028014</td>\n",
       "      <td>4.668</td>\n",
       "    </tr>\n",
       "    <tr>\n",
       "      <th>12</th>\n",
       "      <td>6.458756</td>\n",
       "      <td>6.293</td>\n",
       "    </tr>\n",
       "    <tr>\n",
       "      <th>13</th>\n",
       "      <td>6.230383</td>\n",
       "      <td>6.825</td>\n",
       "    </tr>\n",
       "    <tr>\n",
       "      <th>14</th>\n",
       "      <td>4.536523</td>\n",
       "      <td>4.700</td>\n",
       "    </tr>\n",
       "    <tr>\n",
       "      <th>15</th>\n",
       "      <td>4.393317</td>\n",
       "      <td>5.208</td>\n",
       "    </tr>\n",
       "    <tr>\n",
       "      <th>16</th>\n",
       "      <td>5.327925</td>\n",
       "      <td>5.247</td>\n",
       "    </tr>\n",
       "    <tr>\n",
       "      <th>17</th>\n",
       "      <td>4.548170</td>\n",
       "      <td>3.231</td>\n",
       "    </tr>\n",
       "    <tr>\n",
       "      <th>18</th>\n",
       "      <td>4.017648</td>\n",
       "      <td>4.490</td>\n",
       "    </tr>\n",
       "    <tr>\n",
       "      <th>19</th>\n",
       "      <td>7.107181</td>\n",
       "      <td>7.600</td>\n",
       "    </tr>\n",
       "    <tr>\n",
       "      <th>20</th>\n",
       "      <td>4.423580</td>\n",
       "      <td>5.211</td>\n",
       "    </tr>\n",
       "    <tr>\n",
       "      <th>21</th>\n",
       "      <td>4.565777</td>\n",
       "      <td>4.799</td>\n",
       "    </tr>\n",
       "    <tr>\n",
       "      <th>22</th>\n",
       "      <td>4.132934</td>\n",
       "      <td>4.418</td>\n",
       "    </tr>\n",
       "    <tr>\n",
       "      <th>23</th>\n",
       "      <td>4.557031</td>\n",
       "      <td>5.265</td>\n",
       "    </tr>\n",
       "    <tr>\n",
       "      <th>24</th>\n",
       "      <td>4.460842</td>\n",
       "      <td>4.107</td>\n",
       "    </tr>\n",
       "    <tr>\n",
       "      <th>25</th>\n",
       "      <td>7.006051</td>\n",
       "      <td>7.769</td>\n",
       "    </tr>\n",
       "    <tr>\n",
       "      <th>26</th>\n",
       "      <td>4.502156</td>\n",
       "      <td>4.461</td>\n",
       "    </tr>\n",
       "    <tr>\n",
       "      <th>27</th>\n",
       "      <td>6.064348</td>\n",
       "      <td>6.125</td>\n",
       "    </tr>\n",
       "    <tr>\n",
       "      <th>28</th>\n",
       "      <td>4.533002</td>\n",
       "      <td>5.467</td>\n",
       "    </tr>\n",
       "    <tr>\n",
       "      <th>29</th>\n",
       "      <td>4.648544</td>\n",
       "      <td>4.719</td>\n",
       "    </tr>\n",
       "    <tr>\n",
       "      <th>30</th>\n",
       "      <td>4.420843</td>\n",
       "      <td>4.085</td>\n",
       "    </tr>\n",
       "    <tr>\n",
       "      <th>31</th>\n",
       "      <td>7.067074</td>\n",
       "      <td>7.554</td>\n",
       "    </tr>\n",
       "  </tbody>\n",
       "</table>\n",
       "</div>"
      ],
      "text/plain": [
       "    predicted   real\n",
       "0    6.174121  6.021\n",
       "1    5.588178  5.323\n",
       "2    4.605543  5.529\n",
       "3    7.031388  7.278\n",
       "4    5.760018  5.648\n",
       "5    3.885044  3.597\n",
       "6    7.055857  7.480\n",
       "7    4.514075  4.913\n",
       "8    6.611653  6.446\n",
       "9    6.929801  7.494\n",
       "10   4.823423  5.386\n",
       "11   4.028014  4.668\n",
       "12   6.458756  6.293\n",
       "13   6.230383  6.825\n",
       "14   4.536523  4.700\n",
       "15   4.393317  5.208\n",
       "16   5.327925  5.247\n",
       "17   4.548170  3.231\n",
       "18   4.017648  4.490\n",
       "19   7.107181  7.600\n",
       "20   4.423580  5.211\n",
       "21   4.565777  4.799\n",
       "22   4.132934  4.418\n",
       "23   4.557031  5.265\n",
       "24   4.460842  4.107\n",
       "25   7.006051  7.769\n",
       "26   4.502156  4.461\n",
       "27   6.064348  6.125\n",
       "28   4.533002  5.467\n",
       "29   4.648544  4.719\n",
       "30   4.420843  4.085\n",
       "31   7.067074  7.554"
      ]
     },
     "execution_count": 116,
     "metadata": {},
     "output_type": "execute_result"
    }
   ],
   "source": [
    "res = pd.DataFrame({'predicted': pred, 'real': y_test})\n",
    "res"
   ]
  },
  {
   "cell_type": "code",
   "execution_count": 156,
   "id": "3bf2d8b3",
   "metadata": {
    "scrolled": true
   },
   "outputs": [
    {
     "data": {
      "text/plain": [
       "Text(0.5, 0, 'score')"
      ]
     },
     "execution_count": 156,
     "metadata": {},
     "output_type": "execute_result"
    },
    {
     "data": {
      "image/png": "[encoded data removed]",
      "text/plain": [
       "<Figure size 720x432 with 1 Axes>"
      ]
     },
     "metadata": {
      "needs_background": "light"
     },
     "output_type": "display_data"
    }
   ],
   "source": [
    "# Fig size\n",
    "plt.figure(figsize=(10,6))\n",
    "plt.title('Test values vs predictions')\n",
    "sns.kdeplot(res.real,  fill=True, alpha=.5, label='Real')\n",
    "sns.kdeplot(data=res, x=\"predicted\",  fill=True, alpha=.5, label='Prediction')\n",
    "plt.xlabel('score')\n"
   ]
  },
  {
   "cell_type": "code",
   "execution_count": 136,
   "id": "5cf4cacc",
   "metadata": {},
   "outputs": [
    {
     "name": "stdout",
     "output_type": "stream",
     "text": [
      "Mean Squared Error: 0.28092109471783067\n",
      "R Squared:  0.8120773173730379\n"
     ]
    }
   ],
   "source": [
    "print('Mean Squared Error:', metrics.mean_squared_error(y_test, pred))\n",
    "# the best mean squared error is the one closest to 0 \n",
    "print('R Squared: ', metrics.r2_score(y_test,pred)) # how well fits dependent variables\n",
    "# R squared is the score, it's better when is closer to 1"
   ]
  },
  {
   "cell_type": "markdown",
   "id": "3adef07a",
   "metadata": {},
   "source": [
    "The plot and the metrics reflect that the model could be a little better. Maybe using more input data or trying with another scaler..."
   ]
  },
  {
   "cell_type": "markdown",
   "id": "35f56c38",
   "metadata": {},
   "source": [
    "## Exercici 2\n",
    "Agafa un text en anglès que vulguis, i calcula'n la freqüència de les paraules"
   ]
  },
  {
   "cell_type": "markdown",
   "id": "c80543c4",
   "metadata": {},
   "source": [
    "# Nivell 2\n",
    "## Exercici 1\n",
    "Treu les stopwords i realitza stemming al teu conjunt de dades."
   ]
  },
  {
   "cell_type": "markdown",
   "id": "55bea609",
   "metadata": {},
   "source": [
    "# Nivell 3\n",
    "## Exercici 1\n",
    "Realitza sentiment analysis al teu conjunt de dades."
   ]
  },
  {
   "cell_type": "code",
   "execution_count": null,
   "id": "c15d7506",
   "metadata": {},
   "outputs": [],
   "source": []
  }
 ],
 "metadata": {
  "kernelspec": {
   "display_name": "Python 3",
   "language": "python",
   "name": "python3"
  },
  "language_info": {
   "codemirror_mode": {
    "name": "ipython",
    "version": 3
   },
   "file_extension": ".py",
   "mimetype": "text/x-python",
   "name": "python",
   "nbconvert_exporter": "python",
   "pygments_lexer": "ipython3",
   "version": "3.8.8"
  }
 },
 "nbformat": 4,
 "nbformat_minor": 5
}
