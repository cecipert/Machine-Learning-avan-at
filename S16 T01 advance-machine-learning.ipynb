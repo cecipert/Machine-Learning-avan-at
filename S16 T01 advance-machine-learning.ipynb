{
 "cells": [
  {
   "cell_type": "markdown",
   "id": "00be63a4",
   "metadata": {},
   "source": [
    "# S16 T01 Advanced Machine Learning"
   ]
  },
  {
   "cell_type": "code",
   "execution_count": 33,
   "id": "a5753fc2",
   "metadata": {},
   "outputs": [],
   "source": [
    "import pandas as pd\n",
    "import numpy as np\n",
    "import matplotlib.pyplot as plt\n",
    "import seaborn as sns\n",
    "\n",
    "from sklearn import metrics\n",
    "\n",
    "from sklearn.ensemble import RandomForestRegressor\n",
    "from sklearn.model_selection import GridSearchCV\n",
    "from sklearn.preprocessing import StandardScaler\n",
    "from sklearn.pipeline import Pipeline\n",
    "from sklearn.model_selection import train_test_split\n",
    "from sklearn.decomposition import PCA\n",
    "from scipy.stats import gaussian_kde\n",
    "\n",
    "import nltk\n",
    "from nltk.tokenize import word_tokenize\n",
    "from nltk.probability import FreqDist\n",
    "from nltk.corpus import stopwords\n",
    "from nltk.stem import PorterStemmer\n",
    "from nltk.tokenize import sent_tokenize, word_tokenize\n",
    "from textblob import TextBlob"
   ]
  },
  {
   "cell_type": "markdown",
   "id": "4362d3ac",
   "metadata": {},
   "source": [
    "## Exercici 1\n",
    "Agafa el conjunt de dades que vulguis i realitza un pipeline i un gridsearch aplicant l'algorisme de Random Forest."
   ]
  },
  {
   "cell_type": "markdown",
   "id": "460a45c7",
   "metadata": {},
   "source": [
    "### World Happiness Report\n",
    "Happiness scored according to economic production, social support, etc."
   ]
  },
  {
   "cell_type": "markdown",
   "id": "b7071cd3",
   "metadata": {},
   "source": [
    "Read and preprocess the data:"
   ]
  },
  {
   "cell_type": "code",
   "execution_count": 2,
   "id": "10c132c5",
   "metadata": {},
   "outputs": [],
   "source": [
    "# Read the data into a dataframe\n",
    "df_raw = pd.read_csv('2019.csv', sep=',')"
   ]
  },
  {
   "cell_type": "code",
   "execution_count": 3,
   "id": "3468114e",
   "metadata": {},
   "outputs": [
    {
     "data": {
      "text/html": [
       "<div>\n",
       "<style scoped>\n",
       "    .dataframe tbody tr th:only-of-type {\n",
       "        vertical-align: middle;\n",
       "    }\n",
       "\n",
       "    .dataframe tbody tr th {\n",
       "        vertical-align: top;\n",
       "    }\n",
       "\n",
       "    .dataframe thead th {\n",
       "        text-align: right;\n",
       "    }\n",
       "</style>\n",
       "<table border=\"1\" class=\"dataframe\">\n",
       "  <thead>\n",
       "    <tr style=\"text-align: right;\">\n",
       "      <th></th>\n",
       "      <th>Overall rank</th>\n",
       "      <th>Country or region</th>\n",
       "      <th>Score</th>\n",
       "      <th>GDP per capita</th>\n",
       "      <th>Social support</th>\n",
       "      <th>Healthy life expectancy</th>\n",
       "      <th>Freedom to make life choices</th>\n",
       "      <th>Generosity</th>\n",
       "      <th>Perceptions of corruption</th>\n",
       "    </tr>\n",
       "  </thead>\n",
       "  <tbody>\n",
       "    <tr>\n",
       "      <th>46</th>\n",
       "      <td>47</td>\n",
       "      <td>Argentina</td>\n",
       "      <td>6.086</td>\n",
       "      <td>1.092</td>\n",
       "      <td>1.432</td>\n",
       "      <td>0.881</td>\n",
       "      <td>0.471</td>\n",
       "      <td>0.066</td>\n",
       "      <td>0.05</td>\n",
       "    </tr>\n",
       "  </tbody>\n",
       "</table>\n",
       "</div>"
      ],
      "text/plain": [
       "    Overall rank Country or region  Score  GDP per capita  Social support  \\\n",
       "46            47         Argentina  6.086           1.092           1.432   \n",
       "\n",
       "    Healthy life expectancy  Freedom to make life choices  Generosity  \\\n",
       "46                    0.881                         0.471       0.066   \n",
       "\n",
       "    Perceptions of corruption  \n",
       "46                       0.05  "
      ]
     },
     "execution_count": 3,
     "metadata": {},
     "output_type": "execute_result"
    }
   ],
   "source": [
    "# See an example of the data\n",
    "df_raw[df_raw['Country or region']=='Argentina']"
   ]
  },
  {
   "cell_type": "code",
   "execution_count": 4,
   "id": "7caa78b0",
   "metadata": {},
   "outputs": [
    {
     "data": {
      "text/plain": [
       "array(['Afghanistan', 'Albania', 'Algeria', 'Argentina', 'Armenia',\n",
       "       'Australia', 'Austria', 'Azerbaijan', 'Bahrain', 'Bangladesh',\n",
       "       'Belarus', 'Belgium', 'Benin', 'Bhutan', 'Bolivia',\n",
       "       'Bosnia and Herzegovina', 'Botswana', 'Brazil', 'Bulgaria',\n",
       "       'Burkina Faso', 'Burundi', 'Cambodia', 'Cameroon', 'Canada',\n",
       "       'Central African Republic', 'Chad', 'Chile', 'China', 'Colombia',\n",
       "       'Comoros', 'Congo (Brazzaville)', 'Congo (Kinshasa)', 'Costa Rica',\n",
       "       'Croatia', 'Cyprus', 'Czech Republic', 'Denmark',\n",
       "       'Dominican Republic', 'Ecuador', 'Egypt', 'El Salvador', 'Estonia',\n",
       "       'Ethiopia', 'Finland', 'France', 'Gabon', 'Gambia', 'Georgia',\n",
       "       'Germany', 'Ghana', 'Greece', 'Guatemala', 'Guinea', 'Haiti',\n",
       "       'Honduras', 'Hong Kong', 'Hungary', 'Iceland', 'India',\n",
       "       'Indonesia', 'Iran', 'Iraq', 'Ireland', 'Israel', 'Italy',\n",
       "       'Ivory Coast', 'Jamaica', 'Japan', 'Jordan', 'Kazakhstan', 'Kenya',\n",
       "       'Kosovo', 'Kuwait', 'Kyrgyzstan', 'Laos', 'Latvia', 'Lebanon',\n",
       "       'Lesotho', 'Liberia', 'Libya', 'Lithuania', 'Luxembourg',\n",
       "       'Madagascar', 'Malawi', 'Malaysia', 'Mali', 'Malta', 'Mauritania',\n",
       "       'Mauritius', 'Mexico', 'Moldova', 'Mongolia', 'Montenegro',\n",
       "       'Morocco', 'Mozambique', 'Myanmar', 'Namibia', 'Nepal',\n",
       "       'Netherlands', 'New Zealand', 'Nicaragua', 'Niger', 'Nigeria',\n",
       "       'North Macedonia', 'Northern Cyprus', 'Norway', 'Pakistan',\n",
       "       'Palestinian Territories', 'Panama', 'Paraguay', 'Peru',\n",
       "       'Philippines', 'Poland', 'Portugal', 'Qatar', 'Romania', 'Russia',\n",
       "       'Rwanda', 'Saudi Arabia', 'Senegal', 'Serbia', 'Sierra Leone',\n",
       "       'Singapore', 'Slovakia', 'Slovenia', 'Somalia', 'South Africa',\n",
       "       'South Korea', 'South Sudan', 'Spain', 'Sri Lanka', 'Swaziland',\n",
       "       'Sweden', 'Switzerland', 'Syria', 'Taiwan', 'Tajikistan',\n",
       "       'Tanzania', 'Thailand', 'Togo', 'Trinidad & Tobago', 'Tunisia',\n",
       "       'Turkey', 'Turkmenistan', 'Uganda', 'Ukraine',\n",
       "       'United Arab Emirates', 'United Kingdom', 'United States',\n",
       "       'Uruguay', 'Uzbekistan', 'Venezuela', 'Vietnam', 'Yemen', 'Zambia',\n",
       "       'Zimbabwe'], dtype=object)"
      ]
     },
     "execution_count": 4,
     "metadata": {},
     "output_type": "execute_result"
    }
   ],
   "source": [
    "df_raw.sort_values(by = ['Country or region'])['Country or region'].unique()"
   ]
  },
  {
   "cell_type": "markdown",
   "id": "2874dec8",
   "metadata": {},
   "source": [
    "There are no regions, so I´ll rename the feature"
   ]
  },
  {
   "cell_type": "code",
   "execution_count": 5,
   "id": "0a5cac5f",
   "metadata": {},
   "outputs": [],
   "source": [
    "df_raw = df_raw.rename(columns = {'Country or region' : 'Country'})"
   ]
  },
  {
   "cell_type": "code",
   "execution_count": 6,
   "id": "18bd5bcf",
   "metadata": {},
   "outputs": [
    {
     "data": {
      "text/plain": [
       "Overall rank                    0\n",
       "Country                         0\n",
       "Score                           0\n",
       "GDP per capita                  0\n",
       "Social support                  0\n",
       "Healthy life expectancy         0\n",
       "Freedom to make life choices    0\n",
       "Generosity                      0\n",
       "Perceptions of corruption       0\n",
       "dtype: int64"
      ]
     },
     "execution_count": 6,
     "metadata": {},
     "output_type": "execute_result"
    }
   ],
   "source": [
    "# Are ther any nulls?\n",
    "df_raw.isnull().sum()"
   ]
  },
  {
   "cell_type": "code",
   "execution_count": 7,
   "id": "3ad5c252",
   "metadata": {},
   "outputs": [
    {
     "data": {
      "text/plain": [
       "count    156.000000\n",
       "mean       5.407096\n",
       "std        1.113120\n",
       "min        2.853000\n",
       "25%        4.544500\n",
       "50%        5.379500\n",
       "75%        6.184500\n",
       "max        7.769000\n",
       "Name: Score, dtype: float64"
      ]
     },
     "execution_count": 7,
     "metadata": {},
     "output_type": "execute_result"
    }
   ],
   "source": [
    "# Describe the posible values of the target\n",
    "df_raw.Score.describe()"
   ]
  },
  {
   "cell_type": "code",
   "execution_count": 8,
   "id": "3825a14c",
   "metadata": {},
   "outputs": [
    {
     "data": {
      "text/plain": [
       "Text(0.5, 1.0, 'Distribution of the target variable')"
      ]
     },
     "execution_count": 8,
     "metadata": {},
     "output_type": "execute_result"
    },
    {
     "data": {
      "image/png": "[encoded data removed]",
      "text/plain": [
       "<Figure size 432x288 with 1 Axes>"
      ]
     },
     "metadata": {
      "needs_background": "light"
     },
     "output_type": "display_data"
    }
   ],
   "source": [
    "# What does it look like?\n",
    "ax = sns.boxplot(x = df_raw['Score'], orient = 'h')\n",
    "ax = sns.swarmplot(x = df_raw['Score'], orient = 'h', color=\".25\")\n",
    "ax.set_title('Distribution of the target variable')"
   ]
  },
  {
   "cell_type": "markdown",
   "id": "1b774aab",
   "metadata": {},
   "source": [
    "There are no outliers. All values are within 2 and 8."
   ]
  },
  {
   "cell_type": "code",
   "execution_count": 9,
   "id": "7b1c2267",
   "metadata": {},
   "outputs": [
    {
     "name": "stdout",
     "output_type": "stream",
     "text": [
      "Knowing ['GDP per capita' 'Social support' 'Healthy life expectancy'\n",
      " 'Freedom to make life choices' 'Generosity' 'Perceptions of corruption'], I want to predict the Score\n"
     ]
    }
   ],
   "source": [
    "features = df_raw.columns[3:9].values\n",
    "print(f'Knowing {features}, I want to predict the Score')"
   ]
  },
  {
   "cell_type": "code",
   "execution_count": 10,
   "id": "3e6a7b7f",
   "metadata": {},
   "outputs": [
    {
     "data": {
      "text/plain": [
       "array([[1.34 , 1.587, 0.986, 0.596, 0.153, 0.393],\n",
       "       [1.383, 1.573, 0.996, 0.592, 0.252, 0.41 ],\n",
       "       [1.488, 1.582, 1.028, 0.603, 0.271, 0.341],\n",
       "       [1.38 , 1.624, 1.026, 0.591, 0.354, 0.118],\n",
       "       [1.396, 1.522, 0.999, 0.557, 0.322, 0.298],\n",
       "       [1.452, 1.526, 1.052, 0.572, 0.263, 0.343],\n",
       "       [1.387, 1.487, 1.009, 0.574, 0.267, 0.373],\n",
       "       [1.303, 1.557, 1.026, 0.585, 0.33 , 0.38 ],\n",
       "       [1.365, 1.505, 1.039, 0.584, 0.285, 0.308],\n",
       "       [1.376, 1.475, 1.016, 0.532, 0.244, 0.226],\n",
       "       [1.372, 1.548, 1.036, 0.557, 0.332, 0.29 ],\n",
       "       [1.034, 1.441, 0.963, 0.558, 0.144, 0.093],\n",
       "       [1.276, 1.455, 1.029, 0.371, 0.261, 0.082],\n",
       "       [1.609, 1.479, 1.012, 0.526, 0.194, 0.316],\n",
       "       [1.333, 1.538, 0.996, 0.45 , 0.348, 0.278],\n",
       "       [1.499, 1.553, 0.999, 0.516, 0.298, 0.31 ],\n",
       "       [1.373, 1.454, 0.987, 0.495, 0.261, 0.265],\n",
       "       [1.356, 1.504, 0.986, 0.473, 0.16 , 0.21 ],\n",
       "       [1.433, 1.457, 0.874, 0.454, 0.28 , 0.128],\n",
       "       [1.269, 1.487, 0.92 , 0.457, 0.046, 0.036],\n",
       "       [1.503, 1.31 , 0.825, 0.598, 0.262, 0.182],\n",
       "       [1.3  , 1.52 , 0.999, 0.564, 0.375, 0.151],\n",
       "       [1.07 , 1.323, 0.861, 0.433, 0.074, 0.073],\n",
       "       [1.324, 1.472, 1.045, 0.436, 0.111, 0.183],\n",
       "       [1.368, 1.43 , 0.914, 0.351, 0.242, 0.097],\n",
       "       [1.159, 1.369, 0.92 , 0.357, 0.187, 0.056],\n",
       "       [0.8  , 1.269, 0.746, 0.535, 0.175, 0.078],\n",
       "       [1.403, 1.357, 0.795, 0.439, 0.08 , 0.132],\n",
       "       [1.684, 1.313, 0.871, 0.555, 0.22 , 0.167],\n",
       "       [1.286, 1.484, 1.062, 0.362, 0.153, 0.079],\n",
       "       [1.149, 1.442, 0.91 , 0.516, 0.109, 0.054],\n",
       "       [1.004, 1.439, 0.802, 0.39 , 0.099, 0.086],\n",
       "       [1.124, 1.465, 0.891, 0.523, 0.127, 0.15 ],\n",
       "       [1.572, 1.463, 1.141, 0.556, 0.271, 0.453],\n",
       "       [0.794, 1.242, 0.789, 0.43 , 0.093, 0.074],\n",
       "       [1.294, 1.488, 1.039, 0.231, 0.158, 0.03 ],\n",
       "       [1.362, 1.368, 0.871, 0.536, 0.255, 0.11 ],\n",
       "       [1.246, 1.504, 0.881, 0.334, 0.121, 0.014],\n",
       "       [1.231, 1.477, 0.713, 0.489, 0.185, 0.016],\n",
       "       [1.206, 1.438, 0.884, 0.483, 0.117, 0.05 ],\n",
       "       [0.745, 1.529, 0.756, 0.631, 0.322, 0.24 ],\n",
       "       [1.238, 1.515, 0.818, 0.291, 0.043, 0.042],\n",
       "       [0.985, 1.41 , 0.841, 0.47 , 0.099, 0.034],\n",
       "       [1.258, 1.523, 0.953, 0.564, 0.144, 0.057],\n",
       "       [0.694, 1.325, 0.835, 0.435, 0.2  , 0.127],\n",
       "       [0.882, 1.232, 0.758, 0.489, 0.262, 0.006],\n",
       "       [1.092, 1.432, 0.881, 0.471, 0.066, 0.05 ],\n",
       "       [1.162, 1.232, 0.825, 0.462, 0.083, 0.005],\n",
       "       [1.263, 1.223, 1.042, 0.406, 0.19 , 0.041],\n",
       "       [0.912, 1.312, 0.868, 0.498, 0.126, 0.087],\n",
       "       [1.5  , 1.319, 0.808, 0.493, 0.142, 0.097],\n",
       "       [1.05 , 1.409, 0.828, 0.557, 0.359, 0.028],\n",
       "       [1.187, 1.465, 0.812, 0.264, 0.075, 0.064],\n",
       "       [1.301, 1.219, 1.036, 0.159, 0.175, 0.056],\n",
       "       [1.237, 1.528, 0.874, 0.495, 0.103, 0.161],\n",
       "       [0.831, 1.478, 0.831, 0.49 , 0.107, 0.028],\n",
       "       [1.12 , 1.402, 0.798, 0.498, 0.215, 0.06 ],\n",
       "       [1.327, 1.419, 1.088, 0.445, 0.069, 0.14 ],\n",
       "       [0.642, 1.236, 0.828, 0.507, 0.246, 0.078],\n",
       "       [1.173, 1.508, 0.729, 0.41 , 0.146, 0.096],\n",
       "       [0.776, 1.209, 0.706, 0.511, 0.137, 0.064],\n",
       "       [1.201, 1.41 , 0.828, 0.199, 0.081, 0.02 ],\n",
       "       [0.855, 1.475, 0.777, 0.514, 0.184, 0.08 ],\n",
       "       [1.263, 1.252, 1.042, 0.417, 0.191, 0.162],\n",
       "       [0.96 , 1.274, 0.854, 0.455, 0.083, 0.027],\n",
       "       [1.221, 1.431, 0.999, 0.508, 0.047, 0.025],\n",
       "       [0.677, 0.886, 0.535, 0.313, 0.22 , 0.098],\n",
       "       [1.183, 1.452, 0.726, 0.334, 0.082, 0.031],\n",
       "       [0.807, 1.293, 0.657, 0.558, 0.117, 0.107],\n",
       "       [1.004, 1.383, 0.854, 0.282, 0.137, 0.039],\n",
       "       [0.685, 1.328, 0.739, 0.245, 0.181, 0.   ],\n",
       "       [1.044, 1.303, 0.673, 0.416, 0.133, 0.152],\n",
       "       [1.051, 1.361, 0.871, 0.197, 0.142, 0.08 ],\n",
       "       [0.493, 1.098, 0.718, 0.389, 0.23 , 0.144],\n",
       "       [1.155, 1.266, 0.914, 0.296, 0.119, 0.022],\n",
       "       [1.438, 1.277, 1.122, 0.44 , 0.258, 0.287],\n",
       "       [1.015, 1.401, 0.779, 0.497, 0.113, 0.101],\n",
       "       [0.945, 1.212, 0.845, 0.212, 0.263, 0.006],\n",
       "       [1.183, 1.36 , 0.808, 0.195, 0.083, 0.106],\n",
       "       [1.221, 1.171, 0.828, 0.508, 0.26 , 0.024],\n",
       "       [1.067, 1.465, 0.789, 0.235, 0.094, 0.142],\n",
       "       [1.181, 1.156, 0.999, 0.067, 0.   , 0.034],\n",
       "       [0.948, 1.531, 0.667, 0.317, 0.235, 0.038],\n",
       "       [0.983, 1.294, 0.838, 0.345, 0.185, 0.034],\n",
       "       [0.696, 1.111, 0.245, 0.426, 0.215, 0.041],\n",
       "       [0.551, 1.438, 0.723, 0.508, 0.3  , 0.023],\n",
       "       [1.052, 1.538, 0.657, 0.394, 0.244, 0.028],\n",
       "       [1.002, 1.16 , 0.785, 0.086, 0.073, 0.114],\n",
       "       [0.801, 0.782, 0.782, 0.418, 0.036, 0.076],\n",
       "       [1.043, 1.147, 0.769, 0.351, 0.035, 0.182],\n",
       "       [0.987, 1.224, 0.815, 0.216, 0.166, 0.027],\n",
       "       [0.931, 1.203, 0.66 , 0.491, 0.498, 0.028],\n",
       "       [1.029, 1.125, 0.893, 0.521, 0.058, 0.1  ],\n",
       "       [0.741, 1.346, 0.851, 0.543, 0.147, 0.073],\n",
       "       [0.813, 1.321, 0.604, 0.457, 0.37 , 0.167],\n",
       "       [0.549, 0.91 , 0.331, 0.381, 0.187, 0.037],\n",
       "       [1.092, 1.513, 0.815, 0.311, 0.081, 0.004],\n",
       "       [0.611, 0.868, 0.486, 0.381, 0.245, 0.04 ],\n",
       "       [0.569, 0.808, 0.232, 0.352, 0.154, 0.09 ],\n",
       "       [0.446, 1.226, 0.677, 0.439, 0.285, 0.089],\n",
       "       [0.837, 1.225, 0.815, 0.383, 0.11 , 0.13 ],\n",
       "       [0.393, 0.437, 0.397, 0.349, 0.175, 0.082],\n",
       "       [0.673, 0.799, 0.508, 0.372, 0.105, 0.093],\n",
       "       [1.057, 1.183, 0.571, 0.295, 0.043, 0.055],\n",
       "       [0.764, 1.03 , 0.551, 0.547, 0.266, 0.164],\n",
       "       [0.96 , 1.351, 0.469, 0.389, 0.13 , 0.055],\n",
       "       [0.947, 0.848, 0.874, 0.383, 0.178, 0.027],\n",
       "       [0.96 , 1.427, 0.805, 0.154, 0.064, 0.047],\n",
       "       [0.574, 1.122, 0.637, 0.609, 0.232, 0.062],\n",
       "       [0.657, 1.247, 0.672, 0.225, 0.103, 0.066],\n",
       "       [0.45 , 1.134, 0.571, 0.292, 0.153, 0.072],\n",
       "       [0.   , 0.698, 0.268, 0.559, 0.243, 0.27 ],\n",
       "       [0.879, 1.313, 0.477, 0.401, 0.07 , 0.056],\n",
       "       [0.138, 0.774, 0.366, 0.318, 0.188, 0.102],\n",
       "       [0.331, 1.056, 0.38 , 0.255, 0.177, 0.113],\n",
       "       [0.85 , 1.055, 0.815, 0.283, 0.095, 0.064],\n",
       "       [1.1  , 0.842, 0.785, 0.305, 0.27 , 0.125],\n",
       "       [0.38 , 0.829, 0.375, 0.332, 0.207, 0.086],\n",
       "       [0.886, 0.666, 0.752, 0.346, 0.043, 0.164],\n",
       "       [0.308, 0.939, 0.428, 0.382, 0.269, 0.167],\n",
       "       [0.512, 0.983, 0.581, 0.431, 0.372, 0.053],\n",
       "       [0.57 , 1.167, 0.489, 0.066, 0.106, 0.088],\n",
       "       [0.204, 0.986, 0.39 , 0.494, 0.197, 0.138],\n",
       "       [0.921, 1.   , 0.815, 0.167, 0.059, 0.055],\n",
       "       [0.562, 0.928, 0.723, 0.527, 0.166, 0.143],\n",
       "       [1.043, 0.98 , 0.574, 0.241, 0.148, 0.089],\n",
       "       [0.094, 1.125, 0.357, 0.269, 0.212, 0.053],\n",
       "       [0.385, 1.105, 0.308, 0.327, 0.153, 0.052],\n",
       "       [0.268, 0.841, 0.242, 0.309, 0.252, 0.045],\n",
       "       [0.949, 1.265, 0.831, 0.47 , 0.244, 0.047],\n",
       "       [0.71 , 1.181, 0.555, 0.525, 0.566, 0.172],\n",
       "       [0.35 , 0.766, 0.192, 0.174, 0.198, 0.078],\n",
       "       [0.82 , 1.39 , 0.739, 0.178, 0.187, 0.01 ],\n",
       "       [0.336, 1.033, 0.532, 0.344, 0.209, 0.1  ],\n",
       "       [0.811, 1.149, 0.   , 0.313, 0.074, 0.135],\n",
       "       [0.332, 1.069, 0.443, 0.356, 0.252, 0.06 ],\n",
       "       [0.913, 1.039, 0.644, 0.241, 0.076, 0.067],\n",
       "       [0.578, 1.058, 0.426, 0.431, 0.247, 0.087],\n",
       "       [0.275, 0.572, 0.41 , 0.293, 0.177, 0.085],\n",
       "       [0.755, 0.765, 0.588, 0.498, 0.2  , 0.085],\n",
       "       [0.073, 0.922, 0.443, 0.37 , 0.233, 0.033],\n",
       "       [0.274, 0.757, 0.505, 0.142, 0.275, 0.078],\n",
       "       [0.274, 0.916, 0.555, 0.148, 0.169, 0.041],\n",
       "       [0.489, 1.169, 0.168, 0.359, 0.107, 0.093],\n",
       "       [0.046, 0.447, 0.38 , 0.22 , 0.176, 0.18 ],\n",
       "       [0.366, 1.114, 0.433, 0.361, 0.151, 0.089],\n",
       "       [0.323, 0.688, 0.449, 0.026, 0.419, 0.11 ],\n",
       "       [1.041, 1.145, 0.538, 0.455, 0.025, 0.1  ],\n",
       "       [0.619, 0.378, 0.44 , 0.013, 0.331, 0.141],\n",
       "       [0.191, 0.56 , 0.495, 0.443, 0.218, 0.089],\n",
       "       [0.287, 1.163, 0.463, 0.143, 0.108, 0.077],\n",
       "       [0.359, 0.711, 0.614, 0.555, 0.217, 0.411],\n",
       "       [0.476, 0.885, 0.499, 0.417, 0.276, 0.147],\n",
       "       [0.35 , 0.517, 0.361, 0.   , 0.158, 0.025],\n",
       "       [0.026, 0.   , 0.105, 0.225, 0.235, 0.035],\n",
       "       [0.306, 0.575, 0.295, 0.01 , 0.202, 0.091]])"
      ]
     },
     "execution_count": 10,
     "metadata": {},
     "output_type": "execute_result"
    }
   ],
   "source": [
    "# Determine the features\n",
    "X = df_raw[features].values\n",
    "X"
   ]
  },
  {
   "cell_type": "code",
   "execution_count": 11,
   "id": "aae22679",
   "metadata": {},
   "outputs": [
    {
     "data": {
      "text/plain": [
       "array([7.769, 7.6  , 7.554, 7.494, 7.488, 7.48 , 7.343, 7.307, 7.278,\n",
       "       7.246, 7.228, 7.167, 7.139, 7.09 , 7.054, 7.021, 6.985, 6.923,\n",
       "       6.892, 6.852, 6.825, 6.726, 6.595, 6.592, 6.446, 6.444, 6.436,\n",
       "       6.375, 6.374, 6.354, 6.321, 6.3  , 6.293, 6.262, 6.253, 6.223,\n",
       "       6.199, 6.198, 6.192, 6.182, 6.174, 6.149, 6.125, 6.118, 6.105,\n",
       "       6.1  , 6.086, 6.07 , 6.046, 6.028, 6.021, 6.008, 5.94 , 5.895,\n",
       "       5.893, 5.89 , 5.888, 5.886, 5.86 , 5.809, 5.779, 5.758, 5.743,\n",
       "       5.718, 5.697, 5.693, 5.653, 5.648, 5.631, 5.603, 5.529, 5.525,\n",
       "       5.523, 5.467, 5.432, 5.43 , 5.425, 5.386, 5.373, 5.339, 5.323,\n",
       "       5.287, 5.285, 5.274, 5.265, 5.261, 5.247, 5.211, 5.208, 5.208,\n",
       "       5.197, 5.192, 5.191, 5.175, 5.082, 5.044, 5.011, 4.996, 4.944,\n",
       "       4.913, 4.906, 4.883, 4.812, 4.799, 4.796, 4.722, 4.719, 4.707,\n",
       "       4.7  , 4.696, 4.681, 4.668, 4.639, 4.628, 4.587, 4.559, 4.548,\n",
       "       4.534, 4.519, 4.516, 4.509, 4.49 , 4.466, 4.461, 4.456, 4.437,\n",
       "       4.418, 4.39 , 4.374, 4.366, 4.36 , 4.35 , 4.332, 4.286, 4.212,\n",
       "       4.189, 4.166, 4.107, 4.085, 4.015, 3.975, 3.973, 3.933, 3.802,\n",
       "       3.775, 3.663, 3.597, 3.488, 3.462, 3.41 , 3.38 , 3.334, 3.231,\n",
       "       3.203, 3.083, 2.853])"
      ]
     },
     "execution_count": 11,
     "metadata": {},
     "output_type": "execute_result"
    }
   ],
   "source": [
    "# Choose the target\n",
    "label = ['Score']\n",
    "y = np.ravel(df_raw[label].values) # use of ravel is because fit demanded a y with less dimensions\n",
    "y"
   ]
  },
  {
   "cell_type": "code",
   "execution_count": 12,
   "id": "d8b2eb17",
   "metadata": {},
   "outputs": [],
   "source": [
    "# Define the train and test groups\n",
    "X_train, X_test, y_train, y_test = train_test_split(X,y,test_size=0.2, random_state=30)"
   ]
  },
  {
   "cell_type": "markdown",
   "id": "b6e974a6",
   "metadata": {},
   "source": [
    "Build the pipeline and aplly Random Forest Regressor:"
   ]
  },
  {
   "cell_type": "code",
   "execution_count": 13,
   "id": "067f04b8",
   "metadata": {},
   "outputs": [],
   "source": [
    "# Choose the parameters to test on Random Forest Regresor\n",
    "parameters = {'RFR__random_state' : [5], 'RFR__n_estimators' : range(50,101,5),\n",
    "              'RFR__min_samples_split' : [2,5,12,20], 'PCA__n_components' :[.95],\n",
    "             'PCA__random_state' : [123]}\n"
   ]
  },
  {
   "cell_type": "code",
   "execution_count": 14,
   "id": "92d33167",
   "metadata": {},
   "outputs": [],
   "source": [
    "steps = [('scaler', StandardScaler()), ('PCA', PCA()), ('RFR', RandomForestRegressor())]"
   ]
  },
  {
   "cell_type": "code",
   "execution_count": 15,
   "id": "435fa64c",
   "metadata": {},
   "outputs": [],
   "source": [
    "pipeline = Pipeline(steps) # define the pipeline object."
   ]
  },
  {
   "cell_type": "code",
   "execution_count": 16,
   "id": "cf5e29d1",
   "metadata": {
    "scrolled": false
   },
   "outputs": [
    {
     "data": {
      "text/plain": [
       "GridSearchCV(cv=5,\n",
       "             estimator=Pipeline(steps=[('scaler', StandardScaler()),\n",
       "                                       ('PCA', PCA()),\n",
       "                                       ('RFR', RandomForestRegressor())]),\n",
       "             param_grid={'PCA__n_components': [0.95],\n",
       "                         'PCA__random_state': [123],\n",
       "                         'RFR__min_samples_split': [2, 5, 12, 20],\n",
       "                         'RFR__n_estimators': range(50, 101, 5),\n",
       "                         'RFR__random_state': [5]})"
      ]
     },
     "execution_count": 16,
     "metadata": {},
     "output_type": "execute_result"
    }
   ],
   "source": [
    "grid = GridSearchCV(pipeline, param_grid=parameters, cv=5)\n",
    "grid.fit(X_train, y_train)\n"
   ]
  },
  {
   "cell_type": "code",
   "execution_count": 17,
   "id": "1b543000",
   "metadata": {},
   "outputs": [
    {
     "name": "stdout",
     "output_type": "stream",
     "text": [
      "Model score = 0.81\n",
      "Best params: {'PCA__n_components': 0.95, 'PCA__random_state': 123, 'RFR__min_samples_split': 5, 'RFR__n_estimators': 65, 'RFR__random_state': 5}\n"
     ]
    }
   ],
   "source": [
    "print(\"Model score = %3.2f\" %(grid.score(X_test,y_test)))\n",
    "print('Best params:',grid.best_params_)"
   ]
  },
  {
   "cell_type": "code",
   "execution_count": 18,
   "id": "4b26ae70",
   "metadata": {},
   "outputs": [],
   "source": [
    "pred = grid.predict(X_test)"
   ]
  },
  {
   "cell_type": "code",
   "execution_count": 19,
   "id": "19479beb",
   "metadata": {},
   "outputs": [
    {
     "data": {
      "text/html": [
       "<div>\n",
       "<style scoped>\n",
       "    .dataframe tbody tr th:only-of-type {\n",
       "        vertical-align: middle;\n",
       "    }\n",
       "\n",
       "    .dataframe tbody tr th {\n",
       "        vertical-align: top;\n",
       "    }\n",
       "\n",
       "    .dataframe thead th {\n",
       "        text-align: right;\n",
       "    }\n",
       "</style>\n",
       "<table border=\"1\" class=\"dataframe\">\n",
       "  <thead>\n",
       "    <tr style=\"text-align: right;\">\n",
       "      <th></th>\n",
       "      <th>predicted</th>\n",
       "      <th>real</th>\n",
       "    </tr>\n",
       "  </thead>\n",
       "  <tbody>\n",
       "    <tr>\n",
       "      <th>0</th>\n",
       "      <td>6.174121</td>\n",
       "      <td>6.021</td>\n",
       "    </tr>\n",
       "    <tr>\n",
       "      <th>1</th>\n",
       "      <td>5.588178</td>\n",
       "      <td>5.323</td>\n",
       "    </tr>\n",
       "    <tr>\n",
       "      <th>2</th>\n",
       "      <td>4.605543</td>\n",
       "      <td>5.529</td>\n",
       "    </tr>\n",
       "    <tr>\n",
       "      <th>3</th>\n",
       "      <td>7.031388</td>\n",
       "      <td>7.278</td>\n",
       "    </tr>\n",
       "    <tr>\n",
       "      <th>4</th>\n",
       "      <td>5.760018</td>\n",
       "      <td>5.648</td>\n",
       "    </tr>\n",
       "    <tr>\n",
       "      <th>5</th>\n",
       "      <td>3.885044</td>\n",
       "      <td>3.597</td>\n",
       "    </tr>\n",
       "    <tr>\n",
       "      <th>6</th>\n",
       "      <td>7.055857</td>\n",
       "      <td>7.480</td>\n",
       "    </tr>\n",
       "    <tr>\n",
       "      <th>7</th>\n",
       "      <td>4.514075</td>\n",
       "      <td>4.913</td>\n",
       "    </tr>\n",
       "    <tr>\n",
       "      <th>8</th>\n",
       "      <td>6.611653</td>\n",
       "      <td>6.446</td>\n",
       "    </tr>\n",
       "    <tr>\n",
       "      <th>9</th>\n",
       "      <td>6.929801</td>\n",
       "      <td>7.494</td>\n",
       "    </tr>\n",
       "    <tr>\n",
       "      <th>10</th>\n",
       "      <td>4.823423</td>\n",
       "      <td>5.386</td>\n",
       "    </tr>\n",
       "    <tr>\n",
       "      <th>11</th>\n",
       "      <td>4.028014</td>\n",
       "      <td>4.668</td>\n",
       "    </tr>\n",
       "    <tr>\n",
       "      <th>12</th>\n",
       "      <td>6.458756</td>\n",
       "      <td>6.293</td>\n",
       "    </tr>\n",
       "    <tr>\n",
       "      <th>13</th>\n",
       "      <td>6.230383</td>\n",
       "      <td>6.825</td>\n",
       "    </tr>\n",
       "    <tr>\n",
       "      <th>14</th>\n",
       "      <td>4.536523</td>\n",
       "      <td>4.700</td>\n",
       "    </tr>\n",
       "    <tr>\n",
       "      <th>15</th>\n",
       "      <td>4.393317</td>\n",
       "      <td>5.208</td>\n",
       "    </tr>\n",
       "    <tr>\n",
       "      <th>16</th>\n",
       "      <td>5.327925</td>\n",
       "      <td>5.247</td>\n",
       "    </tr>\n",
       "    <tr>\n",
       "      <th>17</th>\n",
       "      <td>4.548170</td>\n",
       "      <td>3.231</td>\n",
       "    </tr>\n",
       "    <tr>\n",
       "      <th>18</th>\n",
       "      <td>4.017648</td>\n",
       "      <td>4.490</td>\n",
       "    </tr>\n",
       "    <tr>\n",
       "      <th>19</th>\n",
       "      <td>7.107181</td>\n",
       "      <td>7.600</td>\n",
       "    </tr>\n",
       "    <tr>\n",
       "      <th>20</th>\n",
       "      <td>4.423580</td>\n",
       "      <td>5.211</td>\n",
       "    </tr>\n",
       "    <tr>\n",
       "      <th>21</th>\n",
       "      <td>4.565777</td>\n",
       "      <td>4.799</td>\n",
       "    </tr>\n",
       "    <tr>\n",
       "      <th>22</th>\n",
       "      <td>4.132934</td>\n",
       "      <td>4.418</td>\n",
       "    </tr>\n",
       "    <tr>\n",
       "      <th>23</th>\n",
       "      <td>4.557031</td>\n",
       "      <td>5.265</td>\n",
       "    </tr>\n",
       "    <tr>\n",
       "      <th>24</th>\n",
       "      <td>4.460842</td>\n",
       "      <td>4.107</td>\n",
       "    </tr>\n",
       "    <tr>\n",
       "      <th>25</th>\n",
       "      <td>7.006051</td>\n",
       "      <td>7.769</td>\n",
       "    </tr>\n",
       "    <tr>\n",
       "      <th>26</th>\n",
       "      <td>4.502156</td>\n",
       "      <td>4.461</td>\n",
       "    </tr>\n",
       "    <tr>\n",
       "      <th>27</th>\n",
       "      <td>6.064348</td>\n",
       "      <td>6.125</td>\n",
       "    </tr>\n",
       "    <tr>\n",
       "      <th>28</th>\n",
       "      <td>4.533002</td>\n",
       "      <td>5.467</td>\n",
       "    </tr>\n",
       "    <tr>\n",
       "      <th>29</th>\n",
       "      <td>4.648544</td>\n",
       "      <td>4.719</td>\n",
       "    </tr>\n",
       "    <tr>\n",
       "      <th>30</th>\n",
       "      <td>4.420843</td>\n",
       "      <td>4.085</td>\n",
       "    </tr>\n",
       "    <tr>\n",
       "      <th>31</th>\n",
       "      <td>7.067074</td>\n",
       "      <td>7.554</td>\n",
       "    </tr>\n",
       "  </tbody>\n",
       "</table>\n",
       "</div>"
      ],
      "text/plain": [
       "    predicted   real\n",
       "0    6.174121  6.021\n",
       "1    5.588178  5.323\n",
       "2    4.605543  5.529\n",
       "3    7.031388  7.278\n",
       "4    5.760018  5.648\n",
       "5    3.885044  3.597\n",
       "6    7.055857  7.480\n",
       "7    4.514075  4.913\n",
       "8    6.611653  6.446\n",
       "9    6.929801  7.494\n",
       "10   4.823423  5.386\n",
       "11   4.028014  4.668\n",
       "12   6.458756  6.293\n",
       "13   6.230383  6.825\n",
       "14   4.536523  4.700\n",
       "15   4.393317  5.208\n",
       "16   5.327925  5.247\n",
       "17   4.548170  3.231\n",
       "18   4.017648  4.490\n",
       "19   7.107181  7.600\n",
       "20   4.423580  5.211\n",
       "21   4.565777  4.799\n",
       "22   4.132934  4.418\n",
       "23   4.557031  5.265\n",
       "24   4.460842  4.107\n",
       "25   7.006051  7.769\n",
       "26   4.502156  4.461\n",
       "27   6.064348  6.125\n",
       "28   4.533002  5.467\n",
       "29   4.648544  4.719\n",
       "30   4.420843  4.085\n",
       "31   7.067074  7.554"
      ]
     },
     "execution_count": 19,
     "metadata": {},
     "output_type": "execute_result"
    }
   ],
   "source": [
    "res = pd.DataFrame({'predicted': pred, 'real': y_test})\n",
    "res"
   ]
  },
  {
   "cell_type": "code",
   "execution_count": 20,
   "id": "eae477ae",
   "metadata": {
    "scrolled": true
   },
   "outputs": [
    {
     "data": {
      "text/plain": [
       "<matplotlib.legend.Legend at 0x1dc48ae9820>"
      ]
     },
     "execution_count": 20,
     "metadata": {},
     "output_type": "execute_result"
    },
    {
     "data": {
      "image/png": "[encoded data removed]",
      "text/plain": [
       "<Figure size 576x360 with 1 Axes>"
      ]
     },
     "metadata": {
      "needs_background": "light"
     },
     "output_type": "display_data"
    }
   ],
   "source": [
    "# Plot the difference between test values and predictions\n",
    "plt.figure(figsize=(8,5))\n",
    "plt.title('Test values vs predictions')\n",
    "sns.kdeplot(res.real,  fill=True, alpha=.5, label='Real')\n",
    "sns.kdeplot(data=res, x=\"predicted\",  fill=True, alpha=.5, label='Prediction')\n",
    "plt.xlabel('score')\n",
    "plt.legend()\n"
   ]
  },
  {
   "cell_type": "code",
   "execution_count": 21,
   "id": "8b2253e1",
   "metadata": {},
   "outputs": [
    {
     "name": "stdout",
     "output_type": "stream",
     "text": [
      "Mean Squared Error: 0.28092109471783067\n",
      "R Squared:  0.8120773173730379\n"
     ]
    }
   ],
   "source": [
    "print('Mean Squared Error:', metrics.mean_squared_error(y_test, pred))\n",
    "# the best mean squared error is the one closest to 0 \n",
    "print('R Squared: ', metrics.r2_score(y_test,pred)) # how well fits dependent variables\n",
    "# R squared is the score, it's better when is closer to 1"
   ]
  },
  {
   "cell_type": "markdown",
   "id": "a08f76be",
   "metadata": {},
   "source": [
    "The plot and the metrics reflect that the model could be a little better. Maybe using more input data or trying with another scaler..."
   ]
  },
  {
   "cell_type": "markdown",
   "id": "a46b4181",
   "metadata": {},
   "source": [
    "## Exercici 2\n",
    "Agafa un text en anglès que vulguis, i calcula'n la freqüència de les paraules"
   ]
  },
  {
   "cell_type": "code",
   "execution_count": 22,
   "id": "62977b7c",
   "metadata": {},
   "outputs": [
    {
     "name": "stdout",
     "output_type": "stream",
     "text": [
      "Welcome to Modern World History!  This is the textbook for an undergraduate survey course taught at all the universities and most of the colleges in the Minnesota State system. Similar courses are taught at institutions around the United States and the world, so the authors have made the text available as an open educational resource that teachers and learners can read, adapt, and reuse to meet their needs. We’d like to hear from people who have found the text useful, and we’re always open to questions and suggestions.\n",
      "\n",
      "Readers of this text may have varying levels of familiarity with the events of World History before the modern period we will be covering. Occasionally understanding the text may require a bit of background that will help contextualize the material we are covering. This introduction will cover some of that background.\n",
      "\n",
      "The Agricultural Revolution\n",
      "Farming developed in a number of different parts of the ancient world, before the beginning of recorded history. That means it’s very difficult for historians to describe early agricultural societies in as much detail as we’d like. Also, because there are none of the written records historians typically use to understand the past, we rely to a much greater extent on archaeologists, anthropologists, and other specialists for the data that informs our histories. And because the science supporting these fields has advanced rapidly in recent years, our understanding of this prehistoric period has also changed – sometimes abruptly.\n",
      "\n",
      " \n",
      "\n",
      "neolithic grindstone\n",
      "A neolithic (stone age) grindstone, used to process grain seeds collected by gatherers and later cultivated by farmers.\n",
      "Farming was once believed to have developed in the Middle East at sites such as Jericho and Mesopotamia six or seven thousand years ago, where the ancestors of modern Europeans were usually credited with the invention of agriculture. More recently, responding to evidence of prehistoric farming in Africa, India, and China, some scholars suggested agriculture may have developed more or less independently in several regions of the world. But it was difficult to imagine how such parallel development could have occurred, with people in different parts of the world not only making the same basic discoveries but making them pretty much simultaneously. Even more recently, scientists have begun to suspect this confusion may reflect the difficulty of finding archaeological evidence, since plant materials decay in the ground much more quickly than arrowheads and stone spear points. And some have suggested we may have been thinking about agriculture wrong.\n",
      "\n",
      "It now seems likely that agriculture began in a very gradual process that goes back much farther than we had imagined. Humans as a species began in southern Africa some 300,000 years ago and after a population crisis about 150,000 years ago, modern humans seem to have left Africa between 80,000 and 100,000 years ago. They were not the first members of the human family that left Africa: Homo erectus, Neanderthals, and Denisovans all lived in Europe and Asia until they were displaced by Homo sapiens.\n",
      "\n",
      " \n",
      "\n",
      "Migration patterns of Homo sapiens\n",
      "A recent (2015) map showing updated theories of human migration out of Africa, including major archaeological sites.\n",
      "In the early millennia of their spread across the connected continents of Africa, Europe, and Asia, modern humans lived mobile lives as hunter-gatherers. According to archaeologists, many left traces of their presence in the area north of the Black Sea from about 80,000 to about 50,000 years ago. Although they may have favored certain locations for long periods of time, ancient people were forced to follow the herds they hunted and to seek new food sources when conditions changed. Climate changed very slowly, but the cycle of glaciation was a factor in human development; especially the most recent ice age which began about 36,000 years ago and lasted until about 11,000 years ago. This ice age displaced both animal and human populations, and also allowed some people to migrate to the Americas, as we will see.\n",
      "\n",
      "Agriculture probably began when hunter-gatherers began favoring certain plants and weeding around them to help them grow larger and make them easier to reach. At some point, people discovered that seeds dropped into rubbish heaps sprouted into new plants. People probably began planting or transplanting their favorites closer to home, so they would not always have to go far, looking for food. This horticulture or part-time farming may have begun before these ancient humans began to spread from the Black Sea area westward into Europe and east into Asia, which would explain the seemingly coincidental parallel development of farming across much of the globe. Various regions may have each developed their distinctive versions of what we now recognize as agriculture from a deep pool of common techniques.\n",
      "\n",
      "Wheat was discovered in a region we call the fertile crescent, stretching from the Persian Gulf to the eastern Mediterranean. As cultivation spread and surpluses of grain were produced, civilizations like those of Egypt and Mesopotamia (today’s Iraq) rose between 6,000 and 5,000 years ago. About the same time (possibly a bit earlier) residents of the Pearl River estuary in what is now China began cultivating rice in flooded fields called paddies. The three other staple crops of the modern world (corn, potatoes, and cassava) were developed between 9,000 and 7,000 years ago by natives of the Americas, as we will discuss below.\n",
      "\n",
      "The transition from nomadic hunt-and-gather groups to more complex societies based on agriculture (and the specialization and segmentation of work) allowed for the development of sedentary cultures which established governments, writing and number systems, and hierarchal social systems able to build impressive structures, defend (and sometimes expand) their borders, and create art and music. Let’s look briefly at the ancient societies of Africa, Europe, Asia, and the Americas to prepare for our coverage of them in the early modern period in the opening chapters.\n",
      "\n",
      "Questions for Discussion\n",
      "\n",
      "Is it significant that historians must rely on information from other fields like archaeology to tell the story of the ancient world?\n",
      "Why does it matter where agriculture first developed?\n",
      "Does considering human migrations in the deep past affect your opinions on race and ethnicity?\n",
      " \n",
      "\n",
      "Ancient Kingdoms of North Africa and the Eastern Mediterranean\n",
      "The ancient dynasties of the Egyptian empire developed along the Nile beginning around 3100 BCE, built on the wheat surpluses made possible by the annual flooding of the Nile River.  Among the most visible and lasting achievements of the Egyptian empires are the pyramids of Giza, built between 2600-2400 BCE to serve as burial tombs for several emperors. The Egyptian empires lasted for nearly 2300 years before being conquered, in succession, by the Assyrians, Persians, and Greeks between about 700 BCE and 332 BCE.\n",
      "\n",
      " \n",
      "\n",
      "Giza pyramid complex\n",
      "The Giza pyramid complex, with Cairo in the background.\n",
      "The societies of ancient Greece, particularly in Athens, directly influenced culture and intellectual life in Europe and the Middle East to the present day. Greek dramas and tragedies continue to be studied and performed; Pythagoras’ mathematical discoveries are still taught in schools; and the thinking of Socrates, Plato, and Aristotle are the basis for Western philosophy and political science today. The words “democracy” and “republic” come from these ancient Greeks. Greek ideas and culture were adopted by the Romans and spread throughout their empire—indeed, many Greek gods became Roman gods under different names.\n",
      "\n",
      "Ancient Rome was a republic for nearly 500 years, expanding its territory from the city of Rome on the western coast of the Italian peninsula to nearly all lands surrounding the Mediterranean Sea, including the former Greek and Egyptian empires and even England. The Romans spread their language (Latin) and their Latin alphabet to western Europe in particular. After a period of political crisis, the Republic was replaced with an Emperor under Caesar Augustus in 27 BCE.\n",
      "\n",
      "The Egyptian, Greek, Assyrian, Persian, and Roman empires all encountered the Hebrew people, who maintained their own independent kingdom of Israel around 1000 BCE.  The Hebrew prophet Moses, influenced by spiritual ideas from the various societies, developed the concept of only one god for his people. Moses’ monotheism was an unusual innovation in an era when most societies worshipped several gods and many honored the gods of other cultures. The Ten Commandments and the laws and regulations attributed to Moses in the Torah not only formed the basis of Judaism, but also Christianity and later Islam—all religions which only worship a single god.\n",
      "\n",
      " \n",
      "\n",
      "Map of Roman Empire in 117 CE\n",
      "The Roman Empire at its greatest extent, in 117 CE.\n",
      "Shortly after the Romans conquered the region of Israel, Jesus of Nazareth, a Jewish thinker, began preaching a new more peaceful and inclusive religion of salvation. He was turned over by enemies to the Romans, who crucified him in approximately 33 CE.  His followers, led especially by Paul (said to have never met Jesus), preached that Jesus was the Son of God and invited Gentiles (people who were not Jews) to join the faith. The new religion was especially embraced by slaves in the Roman Empire who were attracted to the promise of forgiveness, of a single, all-powerful God’s unending love, and of eternal life after death. The Romans, who saw the new religion as a challenge to state religious authority, sometimes persecuted Christians.\n",
      "\n",
      "In 330 CE, the Roman Emperor Constantine banned persecution of Christians, and by 400 AC, Christianity had replaced the worship of Rome’s traditional gods and goddesses as the state religion of the Roman Empire. Because Constantine embraced the new faith, the Roman Catholic Church is the most direct descendent of the Roman Empire. The Pope, leader of the Catholic Church, still lives in Rome, and the vestments of Catholic priests (and the clergy of some other liturgical Christian denominations) are similar to those worn by fourth-century Roman officials.\n",
      "\n",
      "Questions for Discussion\n",
      "\n",
      "On what types of historical evidence do you think references to people such as Moses, Jesus, and Muhammad are based? How might these sources differ from the archaeological sources mentioned previously?\n",
      "How do the cultures of ancient Europe continue to influence life in the modern world?\n",
      " \n",
      "\n",
      "The Eastern Roman Empire and the Fall of Rome\n",
      "Constantine moved the capital of the Roman Empire to a second imperial capital in 330 CE. Byzantium, which he renamed Constantinople, was a powerful fortress controlling the Bosphorus Strait which connects the Black Sea to the Mediterranean. The city of Byzantium, already a thousand years old when Constantine moved there, served as the eastern administrative center of the empire and continued using Greek, rather than Latin, as its official language. A somewhat separate Christian church developed in this Greek part of the empire, based on the idea that the different archbishops controlled spiritual matters as a group, and that the Pope in Rome was only another archbishop, equal to the others. After 1000 CE, Catholics in the west and the Greek Orthodox in the east split from one another.\n",
      "\n",
      "During the fifth century CE, Germanic tribes from northern Europe invaded the Roman Empire.  They, in turn, were fleeing from Attila the Hun and other invaders from Asia. Eventually, the city of Rome itself fell to the barbarians in 476 CE. Western Europe was divided up among various Germanic warlords. But although the empire had ended the Roman Catholic Church remained strong. Over the next 500 years, Christianity spread throughout the region and was embraced by local and regional rulers. The Church preserved much of the culture of the Roman Empire, including its language, Latin, which was used in liturgies and ceremonies until 1965.\n",
      "\n",
      " \n",
      "\n",
      "Map of Europe in 476 CE\n",
      "When Rome fell in 476 CE, Western Europe was divided into a number of kingdoms, although the Eastern Roman (Byzantine) Empire persisted.\n",
      "Germanic languages were transformed through their contact with Latin speakers. The English language is a good example of both Germanic and Latin influences. Consider how time is measured: the months of the year are all from the Roman calendar, with the first six months named after Roman gods, and July and August named after the early emperors Julius Caesar and Caesar Augustus. The remaining months are ordinal numbers seven through ten—although in a confusing change, the Catholic Church decided to begin the calendar in January, making “December” the twelfth month instead of the tenth. The days of the week, however, reveal both Latin and Germanic influences: Saturday, Sunday, and Monday come from the sacred Roman orbs in the sky—Spanish, French and other more Latin languages continue in this vein for the other four days, but not English, which honors the barbarian gods Tieu, Woden, Thor, and Frija for the remainder of the week.\n",
      "\n",
      "The Eastern Roman Empire (Byzantium) lasted for nearly another 1000 years after the fall of Rome. You can tell which European peoples were converted by Catholic missionaries and which were proselytized by Orthodox preachers by looking at their alphabets—Russia, the Ukraine, and Bulgaria, for example, use the Greek-based “Cyrillic” alphabet, while all western European languages use a version of the Latin alphabet.\n",
      "\n",
      "Islam and Its Influence\n",
      "In 610 CE, the Prophet Muhammad began preaching and organizing a new religion—Islam—on the Arabian Peninsula in the region of Mecca. The Prophet’s teachings, later gathered in the Holy Quran, built upon Judaism and Christianity. Mecca itself was long a site of religious pilgrimage honoring the Hebrew patriarch Abraham, and Jesus is considered as an important prophet in Islam. By the time of Muhammad’s passing in 632, Islam was well-established in the eastern Arabian Peninsula; within the next one hundred years, it became the dominant religion in North Africa, the Middle East, and Persia. By 1200, Muslim rulers also dominated South Asia and the Iberian Peninsula.\n",
      "\n",
      "1787 map of Mecca\n",
      "An 18th-century map of Mecca, showing the Al-Haram Mosque and the Ka’bah, which millions of Muslims visit on pilgrimages every year.\n",
      "Islam brought stability to the region and trade, learning, and the exchange of ideas flourished.  The extent of Muslim trade is notable in the establishment of a center of Islamic study in Timbuktu in the middle of northern Sub-Saharan Africa, located across the Sahara Desert from Mecca in today’s Mali. Religious conversion often accompanied Arab merchant activity. Indeed, the nation with the largest Muslim population in the world, Indonesia, is a South East Asian archipelago located thousands of miles from the Arabian Peninsula; Arab traders first introduced their religion there in the 1200s. The Arab world benefitted from relatively stable administrations and commercial links that allowed merchants to bring new technology, science, and mathematics from India and China to the region, which Arab scholars refined in their own centers of learning.\n",
      "\n",
      "Muslims, like Christians, Jews, and followers of all other world religions, may share common sacred writings and liturgical traditions, but are also divided by different theological interpretations and religious practices. In Islam, a principal division stems from an early debate over who should have led the religion after the Prophet: should it have been a member of his family, or simply anyone who was an effective and dynamic leader? Sunnis, 90% of Muslims today, stem from the group who believed in the latter, while Shi’ites, some 10% of all Muslims, include the (often martyred) descendants of the Prophet as early principle imams (spiritual leaders) of Islam. As will be discussed later, the rulers of Persia—today’s Iran—embraced Shi’ism, while most of their neighbors are Sunni. Although Sunnis and Shi’ites fought one another in the early years of Islam, many have also lived together in relative peace for centuries, until the last few decades (which will be examined in later chapters).\n",
      "\n",
      "Questions for Discussion\n",
      "\n",
      "How do you think the memory of the Roman Empire affected Europeans?\n",
      "How did conflict between Muslims and Christians shape European history?\n",
      " \n",
      "\n",
      "The Center of World Population: Asia\n",
      "After thousands of years of hunting and gathering, the ancient people of northern China began cultivating millet and rice at about the same time and in much the same way that people of the Middle East grew wheat and people of the Americas grew maize, potatoes, and cassava. China’s recorded history began about 2000 BCE, or over four thousand years ago, so historians have a pretty good idea what happened there in the distant past. Based on irrigated rice agriculture, the population of China grew to 50 to 60 million people as early as 2,000 years ago. This population was originally divided into several small kingdoms whose ruling families were connected through political marriages. Beginning in 221 BCE, the most influential and powerful family organized the kingdoms into an empire covering much of the territory of modern China.  This empire  lasted over two thousand years under a series of over a dozen dynasties until the fall of the Qing dynasty in 1911 and the establishment of the Republic of China.\n",
      "\n",
      "In the region that is now Pakistan and India, Indus Valley cities such as Mohenjo-daro and Harappa, which reached their maturity by about 2600 BCE, each housed 30,000 to 60,000 people. These cultures grew on an agricultural base focused on wheat, barley, and millet. The permanent nature of sedentary agricultural societies led thinkers to consider in more complex ways how people should live correctly in the world, which led to the establishment of both religious and civil structures that are the ancestors and sources of many of the world governments and religions which still exist today. During the Vedic period in India, Hinduism took root beginning around 2000 BCE, based on stories of gods and goddesses, and their relationships with one another and the world.  The spiritual richness of South Asia inspired the Buddha (who was originally from today’s Nepal) to engage in his own spiritual journey to enlightenment in the fifth century BCE.  Buddhist ideas inspired the spiritual aspects of Chinese, Japanese, and Southeast Asian thought. \n",
      "\n",
      " \n",
      "\n",
      "Map of Roman and Han Empires\n",
      "The extent of the Roman and Han Empires around the year 1 CE.\n",
      "The earliest emperors of China began large public works programs including construction of what they called Long Walls which later formed the basis of the Great Wall, partly to protect from northern tribes and partly to expand their territory northward. Around 200 BCE, the second Chinese dynasty, the Han, established a trade route called the Silk Road linking China through central Asia with Europe. Artifacts from the Roman Empire have been found in China and silk (which China developed before 3000 BCE) became a luxury fabric in Greece and Rome. The next dynasty, the Sui, dug the Grand Canal to connect the Yellow and Yangtze Rivers in the sixth century CE. The canal allowed rice, wheat, and millet to be transported on a protected inland waterway instead of being shipped on the ocean where shipments could be threatened by pirates. China also led the world in iron, copper, and porcelain production as well as in the “Four Great Inventions”: the compass, gunpowder, paper-making, and printing.\n",
      "\n",
      "Questions for Discussion\n",
      "\n",
      "Is it significant that China and India have always been centers of world population?\n",
      "Why do agricultural surpluses encourage the building of cities, kingdoms, and empires?\n",
      "Is it surprising to you that the Han and Roman Empires existed at the same time and that there was trade between Asia and Europe via the Silk Road?\n",
      " \n",
      "\n",
      "The Isolated Americas\n",
      "The people living in the Americas were separated by climate change from Eurasia for nearly 12,000 years after the end of the ice age that had created Beringia between what is now Alaska and Siberia, and allowed Eurasians to cross over into the Americas. During this period, which we should remember is twice as long as recorded history, the Native Americans were not idle. When they had arrived in the Americas, they found very few large animal species available to domesticate. Like the  Europeans, Asians, and Africans, Native Americans experienced their own agricultural revolution after a long period of hunting and gathering; but instead of domesticating cattle, horses, sheep, goats, pigs, and chickens, Americans developed certain plants, creating  three of the world’s current top five staple crops.\n",
      "\n",
      " \n",
      "\n",
      "teosinte to maize\n",
      "An image depicting Teosinte, a Maize-teosinte hybrid, and Maize, developed 7,000 to 10,000 years ago in central Mexico.\n",
      "Staple crops produce the foods that provide the greatest percentage of the calories people eat. It might surprise you that today only about fifteen staple crops account for 90% of the calories people eat every day. The top five are responsible for nearly three quarters, including feed for the animals whose meat we eat. They were all discovered/invented by ancient people between six and ten thousand years ago, and three of the five were invented in the Americas. The world’s five top five staples today (in order of importance) are maize (corn), rice, wheat, potatoes, and cassava. Only rice and wheat were known to Europe, Asia, and Africa before contact with the Americas. Natives of what is now Mexico developed maize from a native grass called teosinte beginning about nine thousand years ago, and its use spread to nearly every part of the Americas. Over generations, women (who were the farmers in ancient Mexico) selectively bred the grass to produce more and bigger seeds. Maize is currently the most important staple in the world for both human and animal feed, as well as in industrial uses like High Fructose Corn Syrup, plastics and fuel.\n",
      "\n",
      "Andean natives in what is now Peru and Bolivia created many varieties of potatoes beginning 10,000 years ago. Andean women developed different varieties for different growing conditions and learned to freeze dry potatoes for long-term storage. And the people of the Amazon region not only discovered manioc trees growing in the rainforest, but developed processes to turn the trees’ poisonous roots into cassava (what we know as tapioca) between 10,000 and 7,000 years ago. Raw cassava root is toxic. So in addition to domesticating the plant, Amazonian tree farmers had to develop technologies (combinations of boiling, drying, and chemical leaching) to remove the cyanide compounds and make the manioc useful. Along with rice and wheat developed in Eurasia, maize, potatoes, and manioc are the most important staple crops in the modern world, feeding billions of people. We have ancient native Americans to thank for them.\n",
      "\n",
      " \n",
      "\n",
      "Manioc\n",
      "Cassava roots need to be processed to remove poisons before they can be eaten.\n",
      "Of course, eating nothing but maize, potatoes, and cassava would be a very bland diet. The indigenous in central Mexico developed other plants to flavor their cuisine: the various types of hot peppers, beans, and tomatoes present in Mexican food today were enjoyed by the Olmecs, Toltecs, and Mexica hundreds of years before their encounter with Europeans in the sixteenth century. The Meso-Americans also ground cocoa beans and added hot water, peppers, and honey to make hot chocolate–even today, millions of Latin Americans begin and end their day with a cup, prepared in a traditional olleta with a hand-held batidor, using chunks of chocolate. However, such a delicious drink was originally reserved for the nobility, and cocoa beans themselves were often used as a kind of currency.\n",
      "\n",
      "Questions for Discussion\n",
      "\n",
      "Why would it matter that there were no large animal species in the Americas for natives to domesticate?\n",
      "Is it significant that the people breeding new staple crops in the Americas were mostly women?\n",
      " \n",
      "\n",
      "We will look more closely in the next several chapters at the cultures of all these regions, as they entered the modern era. Although the people of each continent and region developed different traditions and customs, their agriculturally-based cultures shared a lot of similarities and their civilizations were all comparably advanced at the beginning of our survey. with that introduction, let’s begin.\n",
      "\n",
      "\n"
     ]
    }
   ],
   "source": [
    "# read a text file already in the directory\n",
    "f = open(\"modern-history.txt\", \"r\")\n",
    "text= f.read()\n",
    "print(text)\n"
   ]
  },
  {
   "cell_type": "code",
   "execution_count": 23,
   "id": "b1fa333b",
   "metadata": {},
   "outputs": [
    {
     "data": {
      "text/plain": [
       "'welcome to modern world history!  this is the textbook for an undergraduate survey course taught at all the universities and most of the colleges in the minnesota state system. similar courses are taught at institutions around the united states and the world, so the authors have made the text available as an open educational resource that teachers and learners can read, adapt, and reuse to meet their needs. we’d like to hear from people who have found the text useful, and we’re always open to questions and suggestions.\\n\\nreaders of this text may have varying levels of familiarity with the events of world history before the modern period we will be covering. occasionally understanding the text may require a bit of background that will help contextualize the material we are covering. this introduction will cover some of that background.\\n\\nthe agricultural revolution\\nfarming developed in a number of different parts of the ancient world, before the beginning of recorded history. that means it’s very difficult for historians to describe early agricultural societies in as much detail as we’d like. also, because there are none of the written records historians typically use to understand the past, we rely to a much greater extent on archaeologists, anthropologists, and other specialists for the data that informs our histories. and because the science supporting these fields has advanced rapidly in recent years, our understanding of this prehistoric period has also changed – sometimes abruptly.\\n\\n \\n\\nneolithic grindstone\\na neolithic (stone age) grindstone, used to process grain seeds collected by gatherers and later cultivated by farmers.\\nfarming was once believed to have developed in the middle east at sites such as jericho and mesopotamia six or seven thousand years ago, where the ancestors of modern europeans were usually credited with the invention of agriculture. more recently, responding to evidence of prehistoric farming in africa, india, and china, some scholars suggested agriculture may have developed more or less independently in several regions of the world. but it was difficult to imagine how such parallel development could have occurred, with people in different parts of the world not only making the same basic discoveries but making them pretty much simultaneously. even more recently, scientists have begun to suspect this confusion may reflect the difficulty of finding archaeological evidence, since plant materials decay in the ground much more quickly than arrowheads and stone spear points. and some have suggested we may have been thinking about agriculture wrong.\\n\\nit now seems likely that agriculture began in a very gradual process that goes back much farther than we had imagined. humans as a species began in southern africa some 300,000 years ago and after a population crisis about 150,000 years ago, modern humans seem to have left africa between 80,000 and 100,000 years ago. they were not the first members of the human family that left africa: homo erectus, neanderthals, and denisovans all lived in europe and asia until they were displaced by homo sapiens.\\n\\n \\n\\nmigration patterns of homo sapiens\\na recent (2015) map showing updated theories of human migration out of africa, including major archaeological sites.\\nin the early millennia of their spread across the connected continents of africa, europe, and asia, modern humans lived mobile lives as hunter-gatherers. according to archaeologists, many left traces of their presence in the area north of the black sea from about 80,000 to about 50,000 years ago. although they may have favored certain locations for long periods of time, ancient people were forced to follow the herds they hunted and to seek new food sources when conditions changed. climate changed very slowly, but the cycle of glaciation was a factor in human development; especially the most recent ice age which began about 36,000 years ago and lasted until about 11,000 years ago. this ice age displaced both animal and human populations, and also allowed some people to migrate to the americas, as we will see.\\n\\nagriculture probably began when hunter-gatherers began favoring certain plants and weeding around them to help them grow larger and make them easier to reach. at some point, people discovered that seeds dropped into rubbish heaps sprouted into new plants. people probably began planting or transplanting their favorites closer to home, so they would not always have to go far, looking for food. this horticulture or part-time farming may have begun before these ancient humans began to spread from the black sea area westward into europe and east into asia, which would explain the seemingly coincidental parallel development of farming across much of the globe. various regions may have each developed their distinctive versions of what we now recognize as agriculture from a deep pool of common techniques.\\n\\nwheat was discovered in a region we call the fertile crescent, stretching from the persian gulf to the eastern mediterranean. as cultivation spread and surpluses of grain were produced, civilizations like those of egypt and mesopotamia (today’s iraq) rose between 6,000 and 5,000 years ago. about the same time (possibly a bit earlier) residents of the pearl river estuary in what is now china began cultivating rice in flooded fields called paddies. the three other staple crops of the modern world (corn, potatoes, and cassava) were developed between 9,000 and 7,000 years ago by natives of the americas, as we will discuss below.\\n\\nthe transition from nomadic hunt-and-gather groups to more complex societies based on agriculture (and the specialization and segmentation of work) allowed for the development of sedentary cultures which established governments, writing and number systems, and hierarchal social systems able to build impressive structures, defend (and sometimes expand) their borders, and create art and music. let’s look briefly at the ancient societies of africa, europe, asia, and the americas to prepare for our coverage of them in the early modern period in the opening chapters.\\n\\nquestions for discussion\\n\\nis it significant that historians must rely on information from other fields like archaeology to tell the story of the ancient world?\\nwhy does it matter where agriculture first developed?\\ndoes considering human migrations in the deep past affect your opinions on race and ethnicity?\\n \\n\\nancient kingdoms of north africa and the eastern mediterranean\\nthe ancient dynasties of the egyptian empire developed along the nile beginning around 3100 bce, built on the wheat surpluses made possible by the annual flooding of the nile river.  among the most visible and lasting achievements of the egyptian empires are the pyramids of giza, built between 2600-2400 bce to serve as burial tombs for several emperors. the egyptian empires lasted for nearly 2300 years before being conquered, in succession, by the assyrians, persians, and greeks between about 700 bce and 332 bce.\\n\\n \\n\\ngiza pyramid complex\\nthe giza pyramid complex, with cairo in the background.\\nthe societies of ancient greece, particularly in athens, directly influenced culture and intellectual life in europe and the middle east to the present day. greek dramas and tragedies continue to be studied and performed; pythagoras’ mathematical discoveries are still taught in schools; and the thinking of socrates, plato, and aristotle are the basis for western philosophy and political science today. the words “democracy” and “republic” come from these ancient greeks. greek ideas and culture were adopted by the romans and spread throughout their empire—indeed, many greek gods became roman gods under different names.\\n\\nancient rome was a republic for nearly 500 years, expanding its territory from the city of rome on the western coast of the italian peninsula to nearly all lands surrounding the mediterranean sea, including the former greek and egyptian empires and even england. the romans spread their language (latin) and their latin alphabet to western europe in particular. after a period of political crisis, the republic was replaced with an emperor under caesar augustus in 27 bce.\\n\\nthe egyptian, greek, assyrian, persian, and roman empires all encountered the hebrew people, who maintained their own independent kingdom of israel around 1000 bce.  the hebrew prophet moses, influenced by spiritual ideas from the various societies, developed the concept of only one god for his people. moses’ monotheism was an unusual innovation in an era when most societies worshipped several gods and many honored the gods of other cultures. the ten commandments and the laws and regulations attributed to moses in the torah not only formed the basis of judaism, but also christianity and later islam—all religions which only worship a single god.\\n\\n \\n\\nmap of roman empire in 117 ce\\nthe roman empire at its greatest extent, in 117 ce.\\nshortly after the romans conquered the region of israel, jesus of nazareth, a jewish thinker, began preaching a new more peaceful and inclusive religion of salvation. he was turned over by enemies to the romans, who crucified him in approximately 33 ce.  his followers, led especially by paul (said to have never met jesus), preached that jesus was the son of god and invited gentiles (people who were not jews) to join the faith. the new religion was especially embraced by slaves in the roman empire who were attracted to the promise of forgiveness, of a single, all-powerful god’s unending love, and of eternal life after death. the romans, who saw the new religion as a challenge to state religious authority, sometimes persecuted christians.\\n\\nin 330 ce, the roman emperor constantine banned persecution of christians, and by 400 ac, christianity had replaced the worship of rome’s traditional gods and goddesses as the state religion of the roman empire. because constantine embraced the new faith, the roman catholic church is the most direct descendent of the roman empire. the pope, leader of the catholic church, still lives in rome, and the vestments of catholic priests (and the clergy of some other liturgical christian denominations) are similar to those worn by fourth-century roman officials.\\n\\nquestions for discussion\\n\\non what types of historical evidence do you think references to people such as moses, jesus, and muhammad are based? how might these sources differ from the archaeological sources mentioned previously?\\nhow do the cultures of ancient europe continue to influence life in the modern world?\\n \\n\\nthe eastern roman empire and the fall of rome\\nconstantine moved the capital of the roman empire to a second imperial capital in 330 ce. byzantium, which he renamed constantinople, was a powerful fortress controlling the bosphorus strait which connects the black sea to the mediterranean. the city of byzantium, already a thousand years old when constantine moved there, served as the eastern administrative center of the empire and continued using greek, rather than latin, as its official language. a somewhat separate christian church developed in this greek part of the empire, based on the idea that the different archbishops controlled spiritual matters as a group, and that the pope in rome was only another archbishop, equal to the others. after 1000 ce, catholics in the west and the greek orthodox in the east split from one another.\\n\\nduring the fifth century ce, germanic tribes from northern europe invaded the roman empire.  they, in turn, were fleeing from attila the hun and other invaders from asia. eventually, the city of rome itself fell to the barbarians in 476 ce. western europe was divided up among various germanic warlords. but although the empire had ended the roman catholic church remained strong. over the next 500 years, christianity spread throughout the region and was embraced by local and regional rulers. the church preserved much of the culture of the roman empire, including its language, latin, which was used in liturgies and ceremonies until 1965.\\n\\n \\n\\nmap of europe in 476 ce\\nwhen rome fell in 476 ce, western europe was divided into a number of kingdoms, although the eastern roman (byzantine) empire persisted.\\ngermanic languages were transformed through their contact with latin speakers. the english language is a good example of both germanic and latin influences. consider how time is measured: the months of the year are all from the roman calendar, with the first six months named after roman gods, and july and august named after the early emperors julius caesar and caesar augustus. the remaining months are ordinal numbers seven through ten—although in a confusing change, the catholic church decided to begin the calendar in january, making “december” the twelfth month instead of the tenth. the days of the week, however, reveal both latin and germanic influences: saturday, sunday, and monday come from the sacred roman orbs in the sky—spanish, french and other more latin languages continue in this vein for the other four days, but not english, which honors the barbarian gods tieu, woden, thor, and frija for the remainder of the week.\\n\\nthe eastern roman empire (byzantium) lasted for nearly another 1000 years after the fall of rome. you can tell which european peoples were converted by catholic missionaries and which were proselytized by orthodox preachers by looking at their alphabets—russia, the ukraine, and bulgaria, for example, use the greek-based “cyrillic” alphabet, while all western european languages use a version of the latin alphabet.\\n\\nislam and its influence\\nin 610 ce, the prophet muhammad began preaching and organizing a new religion—islam—on the arabian peninsula in the region of mecca. the prophet’s teachings, later gathered in the holy quran, built upon judaism and christianity. mecca itself was long a site of religious pilgrimage honoring the hebrew patriarch abraham, and jesus is considered as an important prophet in islam. by the time of muhammad’s passing in 632, islam was well-established in the eastern arabian peninsula; within the next one hundred years, it became the dominant religion in north africa, the middle east, and persia. by 1200, muslim rulers also dominated south asia and the iberian peninsula.\\n\\n1787 map of mecca\\nan 18th-century map of mecca, showing the al-haram mosque and the ka’bah, which millions of muslims visit on pilgrimages every year.\\nislam brought stability to the region and trade, learning, and the exchange of ideas flourished.  the extent of muslim trade is notable in the establishment of a center of islamic study in timbuktu in the middle of northern sub-saharan africa, located across the sahara desert from mecca in today’s mali. religious conversion often accompanied arab merchant activity. indeed, the nation with the largest muslim population in the world, indonesia, is a south east asian archipelago located thousands of miles from the arabian peninsula; arab traders first introduced their religion there in the 1200s. the arab world benefitted from relatively stable administrations and commercial links that allowed merchants to bring new technology, science, and mathematics from india and china to the region, which arab scholars refined in their own centers of learning.\\n\\nmuslims, like christians, jews, and followers of all other world religions, may share common sacred writings and liturgical traditions, but are also divided by different theological interpretations and religious practices. in islam, a principal division stems from an early debate over who should have led the religion after the prophet: should it have been a member of his family, or simply anyone who was an effective and dynamic leader? sunnis, 90% of muslims today, stem from the group who believed in the latter, while shi’ites, some 10% of all muslims, include the (often martyred) descendants of the prophet as early principle imams (spiritual leaders) of islam. as will be discussed later, the rulers of persia—today’s iran—embraced shi’ism, while most of their neighbors are sunni. although sunnis and shi’ites fought one another in the early years of islam, many have also lived together in relative peace for centuries, until the last few decades (which will be examined in later chapters).\\n\\nquestions for discussion\\n\\nhow do you think the memory of the roman empire affected europeans?\\nhow did conflict between muslims and christians shape european history?\\n \\n\\nthe center of world population: asia\\nafter thousands of years of hunting and gathering, the ancient people of northern china began cultivating millet and rice at about the same time and in much the same way that people of the middle east grew wheat and people of the americas grew maize, potatoes, and cassava. china’s recorded history began about 2000 bce, or over four thousand years ago, so historians have a pretty good idea what happened there in the distant past. based on irrigated rice agriculture, the population of china grew to 50 to 60 million people as early as 2,000 years ago. this population was originally divided into several small kingdoms whose ruling families were connected through political marriages. beginning in 221 bce, the most influential and powerful family organized the kingdoms into an empire covering much of the territory of modern china.  this empire  lasted over two thousand years under a series of over a dozen dynasties until the fall of the qing dynasty in 1911 and the establishment of the republic of china.\\n\\nin the region that is now pakistan and india, indus valley cities such as mohenjo-daro and harappa, which reached their maturity by about 2600 bce, each housed 30,000 to 60,000 people. these cultures grew on an agricultural base focused on wheat, barley, and millet. the permanent nature of sedentary agricultural societies led thinkers to consider in more complex ways how people should live correctly in the world, which led to the establishment of both religious and civil structures that are the ancestors and sources of many of the world governments and religions which still exist today. during the vedic period in india, hinduism took root beginning around 2000 bce, based on stories of gods and goddesses, and their relationships with one another and the world.  the spiritual richness of south asia inspired the buddha (who was originally from today’s nepal) to engage in his own spiritual journey to enlightenment in the fifth century bce.  buddhist ideas inspired the spiritual aspects of chinese, japanese, and southeast asian thought. \\n\\n \\n\\nmap of roman and han empires\\nthe extent of the roman and han empires around the year 1 ce.\\nthe earliest emperors of china began large public works programs including construction of what they called long walls which later formed the basis of the great wall, partly to protect from northern tribes and partly to expand their territory northward. around 200 bce, the second chinese dynasty, the han, established a trade route called the silk road linking china through central asia with europe. artifacts from the roman empire have been found in china and silk (which china developed before 3000 bce) became a luxury fabric in greece and rome. the next dynasty, the sui, dug the grand canal to connect the yellow and yangtze rivers in the sixth century ce. the canal allowed rice, wheat, and millet to be transported on a protected inland waterway instead of being shipped on the ocean where shipments could be threatened by pirates. china also led the world in iron, copper, and porcelain production as well as in the “four great inventions”: the compass, gunpowder, paper-making, and printing.\\n\\nquestions for discussion\\n\\nis it significant that china and india have always been centers of world population?\\nwhy do agricultural surpluses encourage the building of cities, kingdoms, and empires?\\nis it surprising to you that the han and roman empires existed at the same time and that there was trade between asia and europe via the silk road?\\n \\n\\nthe isolated americas\\nthe people living in the americas were separated by climate change from eurasia for nearly 12,000 years after the end of the ice age that had created beringia between what is now alaska and siberia, and allowed eurasians to cross over into the americas. during this period, which we should remember is twice as long as recorded history, the native americans were not idle. when they had arrived in the americas, they found very few large animal species available to domesticate. like the  europeans, asians, and africans, native americans experienced their own agricultural revolution after a long period of hunting and gathering; but instead of domesticating cattle, horses, sheep, goats, pigs, and chickens, americans developed certain plants, creating  three of the world’s current top five staple crops.\\n\\n \\n\\nteosinte to maize\\nan image depicting teosinte, a maize-teosinte hybrid, and maize, developed 7,000 to 10,000 years ago in central mexico.\\nstaple crops produce the foods that provide the greatest percentage of the calories people eat. it might surprise you that today only about fifteen staple crops account for 90% of the calories people eat every day. the top five are responsible for nearly three quarters, including feed for the animals whose meat we eat. they were all discovered/invented by ancient people between six and ten thousand years ago, and three of the five were invented in the americas. the world’s five top five staples today (in order of importance) are maize (corn), rice, wheat, potatoes, and cassava. only rice and wheat were known to europe, asia, and africa before contact with the americas. natives of what is now mexico developed maize from a native grass called teosinte beginning about nine thousand years ago, and its use spread to nearly every part of the americas. over generations, women (who were the farmers in ancient mexico) selectively bred the grass to produce more and bigger seeds. maize is currently the most important staple in the world for both human and animal feed, as well as in industrial uses like high fructose corn syrup, plastics and fuel.\\n\\nandean natives in what is now peru and bolivia created many varieties of potatoes beginning 10,000 years ago. andean women developed different varieties for different growing conditions and learned to freeze dry potatoes for long-term storage. and the people of the amazon region not only discovered manioc trees growing in the rainforest, but developed processes to turn the trees’ poisonous roots into cassava (what we know as tapioca) between 10,000 and 7,000 years ago. raw cassava root is toxic. so in addition to domesticating the plant, amazonian tree farmers had to develop technologies (combinations of boiling, drying, and chemical leaching) to remove the cyanide compounds and make the manioc useful. along with rice and wheat developed in eurasia, maize, potatoes, and manioc are the most important staple crops in the modern world, feeding billions of people. we have ancient native americans to thank for them.\\n\\n \\n\\nmanioc\\ncassava roots need to be processed to remove poisons before they can be eaten.\\nof course, eating nothing but maize, potatoes, and cassava would be a very bland diet. the indigenous in central mexico developed other plants to flavor their cuisine: the various types of hot peppers, beans, and tomatoes present in mexican food today were enjoyed by the olmecs, toltecs, and mexica hundreds of years before their encounter with europeans in the sixteenth century. the meso-americans also ground cocoa beans and added hot water, peppers, and honey to make hot chocolate–even today, millions of latin americans begin and end their day with a cup, prepared in a traditional olleta with a hand-held batidor, using chunks of chocolate. however, such a delicious drink was originally reserved for the nobility, and cocoa beans themselves were often used as a kind of currency.\\n\\nquestions for discussion\\n\\nwhy would it matter that there were no large animal species in the americas for natives to domesticate?\\nis it significant that the people breeding new staple crops in the americas were mostly women?\\n \\n\\nwe will look more closely in the next several chapters at the cultures of all these regions, as they entered the modern era. although the people of each continent and region developed different traditions and customs, their agriculturally-based cultures shared a lot of similarities and their civilizations were all comparably advanced at the beginning of our survey. with that introduction, let’s begin.\\n\\n'"
      ]
     },
     "execution_count": 23,
     "metadata": {},
     "output_type": "execute_result"
    }
   ],
   "source": [
    "# I change the case to lower, \n",
    "# if I don´t do this 'The' and 'the' will be different words\n",
    "text = text.lower()\n",
    "text"
   ]
  },
  {
   "cell_type": "code",
   "execution_count": 24,
   "id": "63a7eadc",
   "metadata": {},
   "outputs": [
    {
     "name": "stdout",
     "output_type": "stream",
     "text": [
      "['welcome', 'to', 'modern', 'world', 'history', 'this', 'is', 'the', 'textbook', 'for', 'an', 'undergraduate', 'survey', 'course', 'taught', 'at', 'all', 'the', 'universities', 'and', 'most', 'of', 'the', 'colleges', 'in', 'the', 'minnesota', 'state', 'system', 'similar', 'courses', 'are', 'taught', 'at', 'institutions', 'around', 'the', 'united', 'states', 'and', 'the', 'world', 'so', 'the', 'authors', 'have', 'made', 'the', 'text', 'available', 'as', 'an', 'open', 'educational', 'resource', 'that', 'teachers', 'and', 'learners', 'can', 'read', 'adapt', 'and', 'reuse', 'to', 'meet', 'their', 'needs', 'we', 'd', 'like', 'to', 'hear', 'from', 'people', 'who', 'have', 'found', 'the', 'text', 'useful', 'and', 'we', 're', 'always', 'open', 'to', 'questions', 'and', 'suggestions', 'readers', 'of', 'this', 'text', 'may', 'have', 'varying', 'levels', 'of', 'familiarity', 'with', 'the', 'events', 'of', 'world', 'history', 'before', 'the', 'modern', 'period', 'we', 'will', 'be', 'covering', 'occasionally', 'understanding', 'the', 'text', 'may', 'require', 'a', 'bit', 'of', 'background', 'that', 'will', 'help', 'contextualize', 'the', 'material', 'we', 'are', 'covering', 'this', 'introduction', 'will', 'cover', 'some', 'of', 'that', 'background', 'the', 'agricultural', 'revolution', 'farming', 'developed', 'in', 'a', 'number', 'of', 'different', 'parts', 'of', 'the', 'ancient', 'world', 'before', 'the', 'beginning', 'of', 'recorded', 'history', 'that', 'means', 'it', 's', 'very', 'difficult', 'for', 'historians', 'to', 'describe', 'early', 'agricultural', 'societies', 'in', 'as', 'much', 'detail', 'as', 'we', 'd', 'like', 'also', 'because', 'there', 'are', 'none', 'of', 'the', 'written', 'records', 'historians', 'typically', 'use', 'to', 'understand', 'the', 'past', 'we', 'rely', 'to', 'a', 'much', 'greater', 'extent', 'on', 'archaeologists', 'anthropologists', 'and', 'other', 'specialists', 'for', 'the', 'data', 'that', 'informs', 'our', 'histories', 'and', 'because', 'the', 'science', 'supporting', 'these', 'fields', 'has', 'advanced', 'rapidly', 'in', 'recent', 'years', 'our', 'understanding', 'of', 'this', 'prehistoric', 'period', 'has', 'also', 'changed', 'sometimes', 'abruptly', 'neolithic', 'grindstone', 'a', 'neolithic', 'stone', 'age', 'grindstone', 'used', 'to', 'process', 'grain', 'seeds', 'collected', 'by', 'gatherers', 'and', 'later', 'cultivated', 'by', 'farmers', 'farming', 'was', 'once', 'believed', 'to', 'have', 'developed', 'in', 'the', 'middle', 'east', 'at', 'sites', 'such', 'as', 'jericho', 'and', 'mesopotamia', 'six', 'or', 'seven', 'thousand', 'years', 'ago', 'where', 'the', 'ancestors', 'of', 'modern', 'europeans', 'were', 'usually', 'credited', 'with', 'the', 'invention', 'of', 'agriculture', 'more', 'recently', 'responding', 'to', 'evidence', 'of', 'prehistoric', 'farming', 'in', 'africa', 'india', 'and', 'china', 'some', 'scholars', 'suggested', 'agriculture', 'may', 'have', 'developed', 'more', 'or', 'less', 'independently', 'in', 'several', 'regions', 'of', 'the', 'world', 'but', 'it', 'was', 'difficult', 'to', 'imagine', 'how', 'such', 'parallel', 'development', 'could', 'have', 'occurred', 'with', 'people', 'in', 'different', 'parts', 'of', 'the', 'world', 'not', 'only', 'making', 'the', 'same', 'basic', 'discoveries', 'but', 'making', 'them', 'pretty', 'much', 'simultaneously', 'even', 'more', 'recently', 'scientists', 'have', 'begun', 'to', 'suspect', 'this', 'confusion', 'may', 'reflect', 'the', 'difficulty', 'of', 'finding', 'archaeological', 'evidence', 'since', 'plant', 'materials', 'decay', 'in', 'the', 'ground', 'much', 'more', 'quickly', 'than', 'arrowheads', 'and', 'stone', 'spear', 'points', 'and', 'some', 'have', 'suggested', 'we', 'may', 'have', 'been', 'thinking', 'about', 'agriculture', 'wrong', 'it', 'now', 'seems', 'likely', 'that', 'agriculture', 'began', 'in', 'a', 'very', 'gradual', 'process', 'that', 'goes', 'back', 'much', 'farther', 'than', 'we', 'had', 'imagined', 'humans', 'as', 'a', 'species', 'began', 'in', 'southern', 'africa', 'some', '300', '000', 'years', 'ago', 'and', 'after', 'a', 'population', 'crisis', 'about', '150', '000', 'years', 'ago', 'modern', 'humans', 'seem', 'to', 'have', 'left', 'africa', 'between', '80', '000', 'and', '100', '000', 'years', 'ago', 'they', 'were', 'not', 'the', 'first', 'members', 'of', 'the', 'human', 'family', 'that', 'left', 'africa', 'homo', 'erectus', 'neanderthals', 'and', 'denisovans', 'all', 'lived', 'in', 'europe', 'and', 'asia', 'until', 'they', 'were', 'displaced', 'by', 'homo', 'sapiens', 'migration', 'patterns', 'of', 'homo', 'sapiens', 'a', 'recent', '2015', 'map', 'showing', 'updated', 'theories', 'of', 'human', 'migration', 'out', 'of', 'africa', 'including', 'major', 'archaeological', 'sites', 'in', 'the', 'early', 'millennia', 'of', 'their', 'spread', 'across', 'the', 'connected', 'continents', 'of', 'africa', 'europe', 'and', 'asia', 'modern', 'humans', 'lived', 'mobile', 'lives', 'as', 'hunter', 'gatherers', 'according', 'to', 'archaeologists', 'many', 'left', 'traces', 'of', 'their', 'presence', 'in', 'the', 'area', 'north', 'of', 'the', 'black', 'sea', 'from', 'about', '80', '000', 'to', 'about', '50', '000', 'years', 'ago', 'although', 'they', 'may', 'have', 'favored', 'certain', 'locations', 'for', 'long', 'periods', 'of', 'time', 'ancient', 'people', 'were', 'forced', 'to', 'follow', 'the', 'herds', 'they', 'hunted', 'and', 'to', 'seek', 'new', 'food', 'sources', 'when', 'conditions', 'changed', 'climate', 'changed', 'very', 'slowly', 'but', 'the', 'cycle', 'of', 'glaciation', 'was', 'a', 'factor', 'in', 'human', 'development', 'especially', 'the', 'most', 'recent', 'ice', 'age', 'which', 'began', 'about', '36', '000', 'years', 'ago', 'and', 'lasted', 'until', 'about', '11', '000', 'years', 'ago', 'this', 'ice', 'age', 'displaced', 'both', 'animal', 'and', 'human', 'populations', 'and', 'also', 'allowed', 'some', 'people', 'to', 'migrate', 'to', 'the', 'americas', 'as', 'we', 'will', 'see', 'agriculture', 'probably', 'began', 'when', 'hunter', 'gatherers', 'began', 'favoring', 'certain', 'plants', 'and', 'weeding', 'around', 'them', 'to', 'help', 'them', 'grow', 'larger', 'and', 'make', 'them', 'easier', 'to', 'reach', 'at', 'some', 'point', 'people', 'discovered', 'that', 'seeds', 'dropped', 'into', 'rubbish', 'heaps', 'sprouted', 'into', 'new', 'plants', 'people', 'probably', 'began', 'planting', 'or', 'transplanting', 'their', 'favorites', 'closer', 'to', 'home', 'so', 'they', 'would', 'not', 'always', 'have', 'to', 'go', 'far', 'looking', 'for', 'food', 'this', 'horticulture', 'or', 'part', 'time', 'farming', 'may', 'have', 'begun', 'before', 'these', 'ancient', 'humans', 'began', 'to', 'spread', 'from', 'the', 'black', 'sea', 'area', 'westward', 'into', 'europe', 'and', 'east', 'into', 'asia', 'which', 'would', 'explain', 'the', 'seemingly', 'coincidental', 'parallel', 'development', 'of', 'farming', 'across', 'much', 'of', 'the', 'globe', 'various', 'regions', 'may', 'have', 'each', 'developed', 'their', 'distinctive', 'versions', 'of', 'what', 'we', 'now', 'recognize', 'as', 'agriculture', 'from', 'a', 'deep', 'pool', 'of', 'common', 'techniques', 'wheat', 'was', 'discovered', 'in', 'a', 'region', 'we', 'call', 'the', 'fertile', 'crescent', 'stretching', 'from', 'the', 'persian', 'gulf', 'to', 'the', 'eastern', 'mediterranean', 'as', 'cultivation', 'spread', 'and', 'surpluses', 'of', 'grain', 'were', 'produced', 'civilizations', 'like', 'those', 'of', 'egypt', 'and', 'mesopotamia', 'today', 's', 'iraq', 'rose', 'between', '6', '000', 'and', '5', '000', 'years', 'ago', 'about', 'the', 'same', 'time', 'possibly', 'a', 'bit', 'earlier', 'residents', 'of', 'the', 'pearl', 'river', 'estuary', 'in', 'what', 'is', 'now', 'china', 'began', 'cultivating', 'rice', 'in', 'flooded', 'fields', 'called', 'paddies', 'the', 'three', 'other', 'staple', 'crops', 'of', 'the', 'modern', 'world', 'corn', 'potatoes', 'and', 'cassava', 'were', 'developed', 'between', '9', '000', 'and', '7', '000', 'years', 'ago', 'by', 'natives', 'of', 'the', 'americas', 'as', 'we', 'will', 'discuss', 'below', 'the', 'transition', 'from', 'nomadic', 'hunt', 'and', 'gather', 'groups', 'to', 'more', 'complex', 'societies', 'based', 'on', 'agriculture', 'and', 'the', 'specialization', 'and', 'segmentation', 'of', 'work', 'allowed', 'for', 'the', 'development', 'of', 'sedentary', 'cultures', 'which', 'established', 'governments', 'writing', 'and', 'number', 'systems', 'and', 'hierarchal', 'social', 'systems', 'able', 'to', 'build', 'impressive', 'structures', 'defend', 'and', 'sometimes', 'expand', 'their', 'borders', 'and', 'create', 'art', 'and', 'music', 'let', 's', 'look', 'briefly', 'at', 'the', 'ancient', 'societies', 'of', 'africa', 'europe', 'asia', 'and', 'the', 'americas', 'to', 'prepare', 'for', 'our', 'coverage', 'of', 'them', 'in', 'the', 'early', 'modern', 'period', 'in', 'the', 'opening', 'chapters', 'questions', 'for', 'discussion', 'is', 'it', 'significant', 'that', 'historians', 'must', 'rely', 'on', 'information', 'from', 'other', 'fields', 'like', 'archaeology', 'to', 'tell', 'the', 'story', 'of', 'the', 'ancient', 'world', 'why', 'does', 'it', 'matter', 'where', 'agriculture', 'first', 'developed', 'does', 'considering', 'human', 'migrations', 'in', 'the', 'deep', 'past', 'affect', 'your', 'opinions', 'on', 'race', 'and', 'ethnicity', 'ancient', 'kingdoms', 'of', 'north', 'africa', 'and', 'the', 'eastern', 'mediterranean', 'the', 'ancient', 'dynasties', 'of', 'the', 'egyptian', 'empire', 'developed', 'along', 'the', 'nile', 'beginning', 'around', '3100', 'bce', 'built', 'on', 'the', 'wheat', 'surpluses', 'made', 'possible', 'by', 'the', 'annual', 'flooding', 'of', 'the', 'nile', 'river', 'among', 'the', 'most', 'visible', 'and', 'lasting', 'achievements', 'of', 'the', 'egyptian', 'empires', 'are', 'the', 'pyramids', 'of', 'giza', 'built', 'between', '2600', '2400', 'bce', 'to', 'serve', 'as', 'burial', 'tombs', 'for', 'several', 'emperors', 'the', 'egyptian', 'empires', 'lasted', 'for', 'nearly', '2300', 'years', 'before', 'being', 'conquered', 'in', 'succession', 'by', 'the', 'assyrians', 'persians', 'and', 'greeks', 'between', 'about', '700', 'bce', 'and', '332', 'bce', 'giza', 'pyramid', 'complex', 'the', 'giza', 'pyramid', 'complex', 'with', 'cairo', 'in', 'the', 'background', 'the', 'societies', 'of', 'ancient', 'greece', 'particularly', 'in', 'athens', 'directly', 'influenced', 'culture', 'and', 'intellectual', 'life', 'in', 'europe', 'and', 'the', 'middle', 'east', 'to', 'the', 'present', 'day', 'greek', 'dramas', 'and', 'tragedies', 'continue', 'to', 'be', 'studied', 'and', 'performed', 'pythagoras', 'mathematical', 'discoveries', 'are', 'still', 'taught', 'in', 'schools', 'and', 'the', 'thinking', 'of', 'socrates', 'plato', 'and', 'aristotle', 'are', 'the', 'basis', 'for', 'western', 'philosophy', 'and', 'political', 'science', 'today', 'the', 'words', 'democracy', 'and', 'republic', 'come', 'from', 'these', 'ancient', 'greeks', 'greek', 'ideas', 'and', 'culture', 'were', 'adopted', 'by', 'the', 'romans', 'and', 'spread', 'throughout', 'their', 'empire', 'indeed', 'many', 'greek', 'gods', 'became', 'roman', 'gods', 'under', 'different', 'names', 'ancient', 'rome', 'was', 'a', 'republic', 'for', 'nearly', '500', 'years', 'expanding', 'its', 'territory', 'from', 'the', 'city', 'of', 'rome', 'on', 'the', 'western', 'coast', 'of', 'the', 'italian', 'peninsula', 'to', 'nearly', 'all', 'lands', 'surrounding', 'the', 'mediterranean', 'sea', 'including', 'the', 'former', 'greek', 'and', 'egyptian', 'empires', 'and', 'even', 'england', 'the', 'romans', 'spread', 'their', 'language', 'latin', 'and', 'their', 'latin', 'alphabet', 'to', 'western', 'europe', 'in', 'particular', 'after', 'a', 'period', 'of', 'political', 'crisis', 'the', 'republic', 'was', 'replaced', 'with', 'an', 'emperor', 'under', 'caesar', 'augustus', 'in', '27', 'bce', 'the', 'egyptian', 'greek', 'assyrian', 'persian', 'and', 'roman', 'empires', 'all', 'encountered', 'the', 'hebrew', 'people', 'who', 'maintained', 'their', 'own', 'independent', 'kingdom', 'of', 'israel', 'around', '1000', 'bce', 'the', 'hebrew', 'prophet', 'moses', 'influenced', 'by', 'spiritual', 'ideas', 'from', 'the', 'various', 'societies', 'developed', 'the', 'concept', 'of', 'only', 'one', 'god', 'for', 'his', 'people', 'moses', 'monotheism', 'was', 'an', 'unusual', 'innovation', 'in', 'an', 'era', 'when', 'most', 'societies', 'worshipped', 'several', 'gods', 'and', 'many', 'honored', 'the', 'gods', 'of', 'other', 'cultures', 'the', 'ten', 'commandments', 'and', 'the', 'laws', 'and', 'regulations', 'attributed', 'to', 'moses', 'in', 'the', 'torah', 'not', 'only', 'formed', 'the', 'basis', 'of', 'judaism', 'but', 'also', 'christianity', 'and', 'later', 'islam', 'all', 'religions', 'which', 'only', 'worship', 'a', 'single', 'god', 'map', 'of', 'roman', 'empire', 'in', '117', 'ce', 'the', 'roman', 'empire', 'at', 'its', 'greatest', 'extent', 'in', '117', 'ce', 'shortly', 'after', 'the', 'romans', 'conquered', 'the', 'region', 'of', 'israel', 'jesus', 'of', 'nazareth', 'a', 'jewish', 'thinker', 'began', 'preaching', 'a', 'new', 'more', 'peaceful', 'and', 'inclusive', 'religion', 'of', 'salvation', 'he', 'was', 'turned', 'over', 'by', 'enemies', 'to', 'the', 'romans', 'who', 'crucified', 'him', 'in', 'approximately', '33', 'ce', 'his', 'followers', 'led', 'especially', 'by', 'paul', 'said', 'to', 'have', 'never', 'met', 'jesus', 'preached', 'that', 'jesus', 'was', 'the', 'son', 'of', 'god', 'and', 'invited', 'gentiles', 'people', 'who', 'were', 'not', 'jews', 'to', 'join', 'the', 'faith', 'the', 'new', 'religion', 'was', 'especially', 'embraced', 'by', 'slaves', 'in', 'the', 'roman', 'empire', 'who', 'were', 'attracted', 'to', 'the', 'promise', 'of', 'forgiveness', 'of', 'a', 'single', 'all', 'powerful', 'god', 's', 'unending', 'love', 'and', 'of', 'eternal', 'life', 'after', 'death', 'the', 'romans', 'who', 'saw', 'the', 'new', 'religion', 'as', 'a', 'challenge', 'to', 'state', 'religious', 'authority', 'sometimes', 'persecuted', 'christians', 'in', '330', 'ce', 'the', 'roman', 'emperor', 'constantine', 'banned', 'persecution', 'of', 'christians', 'and', 'by', '400', 'ac', 'christianity', 'had', 'replaced', 'the', 'worship', 'of', 'rome', 's', 'traditional', 'gods', 'and', 'goddesses', 'as', 'the', 'state', 'religion', 'of', 'the', 'roman', 'empire', 'because', 'constantine', 'embraced', 'the', 'new', 'faith', 'the', 'roman', 'catholic', 'church', 'is', 'the', 'most', 'direct', 'descendent', 'of', 'the', 'roman', 'empire', 'the', 'pope', 'leader', 'of', 'the', 'catholic', 'church', 'still', 'lives', 'in', 'rome', 'and', 'the', 'vestments', 'of', 'catholic', 'priests', 'and', 'the', 'clergy', 'of', 'some', 'other', 'liturgical', 'christian', 'denominations', 'are', 'similar', 'to', 'those', 'worn', 'by', 'fourth', 'century', 'roman', 'officials', 'questions', 'for', 'discussion', 'on', 'what', 'types', 'of', 'historical', 'evidence', 'do', 'you', 'think', 'references', 'to', 'people', 'such', 'as', 'moses', 'jesus', 'and', 'muhammad', 'are', 'based', 'how', 'might', 'these', 'sources', 'differ', 'from', 'the', 'archaeological', 'sources', 'mentioned', 'previously', 'how', 'do', 'the', 'cultures', 'of', 'ancient', 'europe', 'continue', 'to', 'influence', 'life', 'in', 'the', 'modern', 'world', 'the', 'eastern', 'roman', 'empire', 'and', 'the', 'fall', 'of', 'rome', 'constantine', 'moved', 'the', 'capital', 'of', 'the', 'roman', 'empire', 'to', 'a', 'second', 'imperial', 'capital', 'in', '330', 'ce', 'byzantium', 'which', 'he', 'renamed', 'constantinople', 'was', 'a', 'powerful', 'fortress', 'controlling', 'the', 'bosphorus', 'strait', 'which', 'connects', 'the', 'black', 'sea', 'to', 'the', 'mediterranean', 'the', 'city', 'of', 'byzantium', 'already', 'a', 'thousand', 'years', 'old', 'when', 'constantine', 'moved', 'there', 'served', 'as', 'the', 'eastern', 'administrative', 'center', 'of', 'the', 'empire', 'and', 'continued', 'using', 'greek', 'rather', 'than', 'latin', 'as', 'its', 'official', 'language', 'a', 'somewhat', 'separate', 'christian', 'church', 'developed', 'in', 'this', 'greek', 'part', 'of', 'the', 'empire', 'based', 'on', 'the', 'idea', 'that', 'the', 'different', 'archbishops', 'controlled', 'spiritual', 'matters', 'as', 'a', 'group', 'and', 'that', 'the', 'pope', 'in', 'rome', 'was', 'only', 'another', 'archbishop', 'equal', 'to', 'the', 'others', 'after', '1000', 'ce', 'catholics', 'in', 'the', 'west', 'and', 'the', 'greek', 'orthodox', 'in', 'the', 'east', 'split', 'from', 'one', 'another', 'during', 'the', 'fifth', 'century', 'ce', 'germanic', 'tribes', 'from', 'northern', 'europe', 'invaded', 'the', 'roman', 'empire', 'they', 'in', 'turn', 'were', 'fleeing', 'from', 'attila', 'the', 'hun', 'and', 'other', 'invaders', 'from', 'asia', 'eventually', 'the', 'city', 'of', 'rome', 'itself', 'fell', 'to', 'the', 'barbarians', 'in', '476', 'ce', 'western', 'europe', 'was', 'divided', 'up', 'among', 'various', 'germanic', 'warlords', 'but', 'although', 'the', 'empire', 'had', 'ended', 'the', 'roman', 'catholic', 'church', 'remained', 'strong', 'over', 'the', 'next', '500', 'years', 'christianity', 'spread', 'throughout', 'the', 'region', 'and', 'was', 'embraced', 'by', 'local', 'and', 'regional', 'rulers', 'the', 'church', 'preserved', 'much', 'of', 'the', 'culture', 'of', 'the', 'roman', 'empire', 'including', 'its', 'language', 'latin', 'which', 'was', 'used', 'in', 'liturgies', 'and', 'ceremonies', 'until', '1965', 'map', 'of', 'europe', 'in', '476', 'ce', 'when', 'rome', 'fell', 'in', '476', 'ce', 'western', 'europe', 'was', 'divided', 'into', 'a', 'number', 'of', 'kingdoms', 'although', 'the', 'eastern', 'roman', 'byzantine', 'empire', 'persisted', 'germanic', 'languages', 'were', 'transformed', 'through', 'their', 'contact', 'with', 'latin', 'speakers', 'the', 'english', 'language', 'is', 'a', 'good', 'example', 'of', 'both', 'germanic', 'and', 'latin', 'influences', 'consider', 'how', 'time', 'is', 'measured', 'the', 'months', 'of', 'the', 'year', 'are', 'all', 'from', 'the', 'roman', 'calendar', 'with', 'the', 'first', 'six', 'months', 'named', 'after', 'roman', 'gods', 'and', 'july', 'and', 'august', 'named', 'after', 'the', 'early', 'emperors', 'julius', 'caesar', 'and', 'caesar', 'augustus', 'the', 'remaining', 'months', 'are', 'ordinal', 'numbers', 'seven', 'through', 'ten', 'although', 'in', 'a', 'confusing', 'change', 'the', 'catholic', 'church', 'decided', 'to', 'begin', 'the', 'calendar', 'in', 'january', 'making', 'december', 'the', 'twelfth', 'month', 'instead', 'of', 'the', 'tenth', 'the', 'days', 'of', 'the', 'week', 'however', 'reveal', 'both', 'latin', 'and', 'germanic', 'influences', 'saturday', 'sunday', 'and', 'monday', 'come', 'from', 'the', 'sacred', 'roman', 'orbs', 'in', 'the', 'sky', 'spanish', 'french', 'and', 'other', 'more', 'latin', 'languages', 'continue', 'in', 'this', 'vein', 'for', 'the', 'other', 'four', 'days', 'but', 'not', 'english', 'which', 'honors', 'the', 'barbarian', 'gods', 'tieu', 'woden', 'thor', 'and', 'frija', 'for', 'the', 'remainder', 'of', 'the', 'week', 'the', 'eastern', 'roman', 'empire', 'byzantium', 'lasted', 'for', 'nearly', 'another', '1000', 'years', 'after', 'the', 'fall', 'of', 'rome', 'you', 'can', 'tell', 'which', 'european', 'peoples', 'were', 'converted', 'by', 'catholic', 'missionaries', 'and', 'which', 'were', 'proselytized', 'by', 'orthodox', 'preachers', 'by', 'looking', 'at', 'their', 'alphabets', 'russia', 'the', 'ukraine', 'and', 'bulgaria', 'for', 'example', 'use', 'the', 'greek', 'based', 'cyrillic', 'alphabet', 'while', 'all', 'western', 'european', 'languages', 'use', 'a', 'version', 'of', 'the', 'latin', 'alphabet', 'islam', 'and', 'its', 'influence', 'in', '610', 'ce', 'the', 'prophet', 'muhammad', 'began', 'preaching', 'and', 'organizing', 'a', 'new', 'religion', 'islam', 'on', 'the', 'arabian', 'peninsula', 'in', 'the', 'region', 'of', 'mecca', 'the', 'prophet', 's', 'teachings', 'later', 'gathered', 'in', 'the', 'holy', 'quran', 'built', 'upon', 'judaism', 'and', 'christianity', 'mecca', 'itself', 'was', 'long', 'a', 'site', 'of', 'religious', 'pilgrimage', 'honoring', 'the', 'hebrew', 'patriarch', 'abraham', 'and', 'jesus', 'is', 'considered', 'as', 'an', 'important', 'prophet', 'in', 'islam', 'by', 'the', 'time', 'of', 'muhammad', 's', 'passing', 'in', '632', 'islam', 'was', 'well', 'established', 'in', 'the', 'eastern', 'arabian', 'peninsula', 'within', 'the', 'next', 'one', 'hundred', 'years', 'it', 'became', 'the', 'dominant', 'religion', 'in', 'north', 'africa', 'the', 'middle', 'east', 'and', 'persia', 'by', '1200', 'muslim', 'rulers', 'also', 'dominated', 'south', 'asia', 'and', 'the', 'iberian', 'peninsula', '1787', 'map', 'of', 'mecca', 'an', '18th', 'century', 'map', 'of', 'mecca', 'showing', 'the', 'al', 'haram', 'mosque', 'and', 'the', 'ka', 'bah', 'which', 'millions', 'of', 'muslims', 'visit', 'on', 'pilgrimages', 'every', 'year', 'islam', 'brought', 'stability', 'to', 'the', 'region', 'and', 'trade', 'learning', 'and', 'the', 'exchange', 'of', 'ideas', 'flourished', 'the', 'extent', 'of', 'muslim', 'trade', 'is', 'notable', 'in', 'the', 'establishment', 'of', 'a', 'center', 'of', 'islamic', 'study', 'in', 'timbuktu', 'in', 'the', 'middle', 'of', 'northern', 'sub', 'saharan', 'africa', 'located', 'across', 'the', 'sahara', 'desert', 'from', 'mecca', 'in', 'today', 's', 'mali', 'religious', 'conversion', 'often', 'accompanied', 'arab', 'merchant', 'activity', 'indeed', 'the', 'nation', 'with', 'the', 'largest', 'muslim', 'population', 'in', 'the', 'world', 'indonesia', 'is', 'a', 'south', 'east', 'asian', 'archipelago', 'located', 'thousands', 'of', 'miles', 'from', 'the', 'arabian', 'peninsula', 'arab', 'traders', 'first', 'introduced', 'their', 'religion', 'there', 'in', 'the', '1200s', 'the', 'arab', 'world', 'benefitted', 'from', 'relatively', 'stable', 'administrations', 'and', 'commercial', 'links', 'that', 'allowed', 'merchants', 'to', 'bring', 'new', 'technology', 'science', 'and', 'mathematics', 'from', 'india', 'and', 'china', 'to', 'the', 'region', 'which', 'arab', 'scholars', 'refined', 'in', 'their', 'own', 'centers', 'of', 'learning', 'muslims', 'like', 'christians', 'jews', 'and', 'followers', 'of', 'all', 'other', 'world', 'religions', 'may', 'share', 'common', 'sacred', 'writings', 'and', 'liturgical', 'traditions', 'but', 'are', 'also', 'divided', 'by', 'different', 'theological', 'interpretations', 'and', 'religious', 'practices', 'in', 'islam', 'a', 'principal', 'division', 'stems', 'from', 'an', 'early', 'debate', 'over', 'who', 'should', 'have', 'led', 'the', 'religion', 'after', 'the', 'prophet', 'should', 'it', 'have', 'been', 'a', 'member', 'of', 'his', 'family', 'or', 'simply', 'anyone', 'who', 'was', 'an', 'effective', 'and', 'dynamic', 'leader', 'sunnis', '90', 'of', 'muslims', 'today', 'stem', 'from', 'the', 'group', 'who', 'believed', 'in', 'the', 'latter', 'while', 'shi', 'ites', 'some', '10', 'of', 'all', 'muslims', 'include', 'the', 'often', 'martyred', 'descendants', 'of', 'the', 'prophet', 'as', 'early', 'principle', 'imams', 'spiritual', 'leaders', 'of', 'islam', 'as', 'will', 'be', 'discussed', 'later', 'the', 'rulers', 'of', 'persia', 'today', 's', 'iran', 'embraced', 'shi', 'ism', 'while', 'most', 'of', 'their', 'neighbors', 'are', 'sunni', 'although', 'sunnis', 'and', 'shi', 'ites', 'fought', 'one', 'another', 'in', 'the', 'early', 'years', 'of', 'islam', 'many', 'have', 'also', 'lived', 'together', 'in', 'relative', 'peace', 'for', 'centuries', 'until', 'the', 'last', 'few', 'decades', 'which', 'will', 'be', 'examined', 'in', 'later', 'chapters', 'questions', 'for', 'discussion', 'how', 'do', 'you', 'think', 'the', 'memory', 'of', 'the', 'roman', 'empire', 'affected', 'europeans', 'how', 'did', 'conflict', 'between', 'muslims', 'and', 'christians', 'shape', 'european', 'history', 'the', 'center', 'of', 'world', 'population', 'asia', 'after', 'thousands', 'of', 'years', 'of', 'hunting', 'and', 'gathering', 'the', 'ancient', 'people', 'of', 'northern', 'china', 'began', 'cultivating', 'millet', 'and', 'rice', 'at', 'about', 'the', 'same', 'time', 'and', 'in', 'much', 'the', 'same', 'way', 'that', 'people', 'of', 'the', 'middle', 'east', 'grew', 'wheat', 'and', 'people', 'of', 'the', 'americas', 'grew', 'maize', 'potatoes', 'and', 'cassava', 'china', 's', 'recorded', 'history', 'began', 'about', '2000', 'bce', 'or', 'over', 'four', 'thousand', 'years', 'ago', 'so', 'historians', 'have', 'a', 'pretty', 'good', 'idea', 'what', 'happened', 'there', 'in', 'the', 'distant', 'past', 'based', 'on', 'irrigated', 'rice', 'agriculture', 'the', 'population', 'of', 'china', 'grew', 'to', '50', 'to', '60', 'million', 'people', 'as', 'early', 'as', '2', '000', 'years', 'ago', 'this', 'population', 'was', 'originally', 'divided', 'into', 'several', 'small', 'kingdoms', 'whose', 'ruling', 'families', 'were', 'connected', 'through', 'political', 'marriages', 'beginning', 'in', '221', 'bce', 'the', 'most', 'influential', 'and', 'powerful', 'family', 'organized', 'the', 'kingdoms', 'into', 'an', 'empire', 'covering', 'much', 'of', 'the', 'territory', 'of', 'modern', 'china', 'this', 'empire', 'lasted', 'over', 'two', 'thousand', 'years', 'under', 'a', 'series', 'of', 'over', 'a', 'dozen', 'dynasties', 'until', 'the', 'fall', 'of', 'the', 'qing', 'dynasty', 'in', '1911', 'and', 'the', 'establishment', 'of', 'the', 'republic', 'of', 'china', 'in', 'the', 'region', 'that', 'is', 'now', 'pakistan', 'and', 'india', 'indus', 'valley', 'cities', 'such', 'as', 'mohenjo', 'daro', 'and', 'harappa', 'which', 'reached', 'their', 'maturity', 'by', 'about', '2600', 'bce', 'each', 'housed', '30', '000', 'to', '60', '000', 'people', 'these', 'cultures', 'grew', 'on', 'an', 'agricultural', 'base', 'focused', 'on', 'wheat', 'barley', 'and', 'millet', 'the', 'permanent', 'nature', 'of', 'sedentary', 'agricultural', 'societies', 'led', 'thinkers', 'to', 'consider', 'in', 'more', 'complex', 'ways', 'how', 'people', 'should', 'live', 'correctly', 'in', 'the', 'world', 'which', 'led', 'to', 'the', 'establishment', 'of', 'both', 'religious', 'and', 'civil', 'structures', 'that', 'are', 'the', 'ancestors', 'and', 'sources', 'of', 'many', 'of', 'the', 'world', 'governments', 'and', 'religions', 'which', 'still', 'exist', 'today', 'during', 'the', 'vedic', 'period', 'in', 'india', 'hinduism', 'took', 'root', 'beginning', 'around', '2000', 'bce', 'based', 'on', 'stories', 'of', 'gods', 'and', 'goddesses', 'and', 'their', 'relationships', 'with', 'one', 'another', 'and', 'the', 'world', 'the', 'spiritual', 'richness', 'of', 'south', 'asia', 'inspired', 'the', 'buddha', 'who', 'was', 'originally', 'from', 'today', 's', 'nepal', 'to', 'engage', 'in', 'his', 'own', 'spiritual', 'journey', 'to', 'enlightenment', 'in', 'the', 'fifth', 'century', 'bce', 'buddhist', 'ideas', 'inspired', 'the', 'spiritual', 'aspects', 'of', 'chinese', 'japanese', 'and', 'southeast', 'asian', 'thought', 'map', 'of', 'roman', 'and', 'han', 'empires', 'the', 'extent', 'of', 'the', 'roman', 'and', 'han', 'empires', 'around', 'the', 'year', '1', 'ce', 'the', 'earliest', 'emperors', 'of', 'china', 'began', 'large', 'public', 'works', 'programs', 'including', 'construction', 'of', 'what', 'they', 'called', 'long', 'walls', 'which', 'later', 'formed', 'the', 'basis', 'of', 'the', 'great', 'wall', 'partly', 'to', 'protect', 'from', 'northern', 'tribes', 'and', 'partly', 'to', 'expand', 'their', 'territory', 'northward', 'around', '200', 'bce', 'the', 'second', 'chinese', 'dynasty', 'the', 'han', 'established', 'a', 'trade', 'route', 'called', 'the', 'silk', 'road', 'linking', 'china', 'through', 'central', 'asia', 'with', 'europe', 'artifacts', 'from', 'the', 'roman', 'empire', 'have', 'been', 'found', 'in', 'china', 'and', 'silk', 'which', 'china', 'developed', 'before', '3000', 'bce', 'became', 'a', 'luxury', 'fabric', 'in', 'greece', 'and', 'rome', 'the', 'next', 'dynasty', 'the', 'sui', 'dug', 'the', 'grand', 'canal', 'to', 'connect', 'the', 'yellow', 'and', 'yangtze', 'rivers', 'in', 'the', 'sixth', 'century', 'ce', 'the', 'canal', 'allowed', 'rice', 'wheat', 'and', 'millet', 'to', 'be', 'transported', 'on', 'a', 'protected', 'inland', 'waterway', 'instead', 'of', 'being', 'shipped', 'on', 'the', 'ocean', 'where', 'shipments', 'could', 'be', 'threatened', 'by', 'pirates', 'china', 'also', 'led', 'the', 'world', 'in', 'iron', 'copper', 'and', 'porcelain', 'production', 'as', 'well', 'as', 'in', 'the', 'four', 'great', 'inventions', 'the', 'compass', 'gunpowder', 'paper', 'making', 'and', 'printing', 'questions', 'for', 'discussion', 'is', 'it', 'significant', 'that', 'china', 'and', 'india', 'have', 'always', 'been', 'centers', 'of', 'world', 'population', 'why', 'do', 'agricultural', 'surpluses', 'encourage', 'the', 'building', 'of', 'cities', 'kingdoms', 'and', 'empires', 'is', 'it', 'surprising', 'to', 'you', 'that', 'the', 'han', 'and', 'roman', 'empires', 'existed', 'at', 'the', 'same', 'time', 'and', 'that', 'there', 'was', 'trade', 'between', 'asia', 'and', 'europe', 'via', 'the', 'silk', 'road', 'the', 'isolated', 'americas', 'the', 'people', 'living', 'in', 'the', 'americas', 'were', 'separated', 'by', 'climate', 'change', 'from', 'eurasia', 'for', 'nearly', '12', '000', 'years', 'after', 'the', 'end', 'of', 'the', 'ice', 'age', 'that', 'had', 'created', 'beringia', 'between', 'what', 'is', 'now', 'alaska', 'and', 'siberia', 'and', 'allowed', 'eurasians', 'to', 'cross', 'over', 'into', 'the', 'americas', 'during', 'this', 'period', 'which', 'we', 'should', 'remember', 'is', 'twice', 'as', 'long', 'as', 'recorded', 'history', 'the', 'native', 'americans', 'were', 'not', 'idle', 'when', 'they', 'had', 'arrived', 'in', 'the', 'americas', 'they', 'found', 'very', 'few', 'large', 'animal', 'species', 'available', 'to', 'domesticate', 'like', 'the', 'europeans', 'asians', 'and', 'africans', 'native', 'americans', 'experienced', 'their', 'own', 'agricultural', 'revolution', 'after', 'a', 'long', 'period', 'of', 'hunting', 'and', 'gathering', 'but', 'instead', 'of', 'domesticating', 'cattle', 'horses', 'sheep', 'goats', 'pigs', 'and', 'chickens', 'americans', 'developed', 'certain', 'plants', 'creating', 'three', 'of', 'the', 'world', 's', 'current', 'top', 'five', 'staple', 'crops', 'teosinte', 'to', 'maize', 'an', 'image', 'depicting', 'teosinte', 'a', 'maize', 'teosinte', 'hybrid', 'and', 'maize', 'developed', '7', '000', 'to', '10', '000', 'years', 'ago', 'in', 'central', 'mexico', 'staple', 'crops', 'produce', 'the', 'foods', 'that', 'provide', 'the', 'greatest', 'percentage', 'of', 'the', 'calories', 'people', 'eat', 'it', 'might', 'surprise', 'you', 'that', 'today', 'only', 'about', 'fifteen', 'staple', 'crops', 'account', 'for', '90', 'of', 'the', 'calories', 'people', 'eat', 'every', 'day', 'the', 'top', 'five', 'are', 'responsible', 'for', 'nearly', 'three', 'quarters', 'including', 'feed', 'for', 'the', 'animals', 'whose', 'meat', 'we', 'eat', 'they', 'were', 'all', 'discovered', 'invented', 'by', 'ancient', 'people', 'between', 'six', 'and', 'ten', 'thousand', 'years', 'ago', 'and', 'three', 'of', 'the', 'five', 'were', 'invented', 'in', 'the', 'americas', 'the', 'world', 's', 'five', 'top', 'five', 'staples', 'today', 'in', 'order', 'of', 'importance', 'are', 'maize', 'corn', 'rice', 'wheat', 'potatoes', 'and', 'cassava', 'only', 'rice', 'and', 'wheat', 'were', 'known', 'to', 'europe', 'asia', 'and', 'africa', 'before', 'contact', 'with', 'the', 'americas', 'natives', 'of', 'what', 'is', 'now', 'mexico', 'developed', 'maize', 'from', 'a', 'native', 'grass', 'called', 'teosinte', 'beginning', 'about', 'nine', 'thousand', 'years', 'ago', 'and', 'its', 'use', 'spread', 'to', 'nearly', 'every', 'part', 'of', 'the', 'americas', 'over', 'generations', 'women', 'who', 'were', 'the', 'farmers', 'in', 'ancient', 'mexico', 'selectively', 'bred', 'the', 'grass', 'to', 'produce', 'more', 'and', 'bigger', 'seeds', 'maize', 'is', 'currently', 'the', 'most', 'important', 'staple', 'in', 'the', 'world', 'for', 'both', 'human', 'and', 'animal', 'feed', 'as', 'well', 'as', 'in', 'industrial', 'uses', 'like', 'high', 'fructose', 'corn', 'syrup', 'plastics', 'and', 'fuel', 'andean', 'natives', 'in', 'what', 'is', 'now', 'peru', 'and', 'bolivia', 'created', 'many', 'varieties', 'of', 'potatoes', 'beginning', '10', '000', 'years', 'ago', 'andean', 'women', 'developed', 'different', 'varieties', 'for', 'different', 'growing', 'conditions', 'and', 'learned', 'to', 'freeze', 'dry', 'potatoes', 'for', 'long', 'term', 'storage', 'and', 'the', 'people', 'of', 'the', 'amazon', 'region', 'not', 'only', 'discovered', 'manioc', 'trees', 'growing', 'in', 'the', 'rainforest', 'but', 'developed', 'processes', 'to', 'turn', 'the', 'trees', 'poisonous', 'roots', 'into', 'cassava', 'what', 'we', 'know', 'as', 'tapioca', 'between', '10', '000', 'and', '7', '000', 'years', 'ago', 'raw', 'cassava', 'root', 'is', 'toxic', 'so', 'in', 'addition', 'to', 'domesticating', 'the', 'plant', 'amazonian', 'tree', 'farmers', 'had', 'to', 'develop', 'technologies', 'combinations', 'of', 'boiling', 'drying', 'and', 'chemical', 'leaching', 'to', 'remove', 'the', 'cyanide', 'compounds', 'and', 'make', 'the', 'manioc', 'useful', 'along', 'with', 'rice', 'and', 'wheat', 'developed', 'in', 'eurasia', 'maize', 'potatoes', 'and', 'manioc', 'are', 'the', 'most', 'important', 'staple', 'crops', 'in', 'the', 'modern', 'world', 'feeding', 'billions', 'of', 'people', 'we', 'have', 'ancient', 'native', 'americans', 'to', 'thank', 'for', 'them', 'manioc', 'cassava', 'roots', 'need', 'to', 'be', 'processed', 'to', 'remove', 'poisons', 'before', 'they', 'can', 'be', 'eaten', 'of', 'course', 'eating', 'nothing', 'but', 'maize', 'potatoes', 'and', 'cassava', 'would', 'be', 'a', 'very', 'bland', 'diet', 'the', 'indigenous', 'in', 'central', 'mexico', 'developed', 'other', 'plants', 'to', 'flavor', 'their', 'cuisine', 'the', 'various', 'types', 'of', 'hot', 'peppers', 'beans', 'and', 'tomatoes', 'present', 'in', 'mexican', 'food', 'today', 'were', 'enjoyed', 'by', 'the', 'olmecs', 'toltecs', 'and', 'mexica', 'hundreds', 'of', 'years', 'before', 'their', 'encounter', 'with', 'europeans', 'in', 'the', 'sixteenth', 'century', 'the', 'meso', 'americans', 'also', 'ground', 'cocoa', 'beans', 'and', 'added', 'hot', 'water', 'peppers', 'and', 'honey', 'to', 'make', 'hot', 'chocolate', 'even', 'today', 'millions', 'of', 'latin', 'americans', 'begin', 'and', 'end', 'their', 'day', 'with', 'a', 'cup', 'prepared', 'in', 'a', 'traditional', 'olleta', 'with', 'a', 'hand', 'held', 'batidor', 'using', 'chunks', 'of', 'chocolate', 'however', 'such', 'a', 'delicious', 'drink', 'was', 'originally', 'reserved', 'for', 'the', 'nobility', 'and', 'cocoa', 'beans', 'themselves', 'were', 'often', 'used', 'as', 'a', 'kind', 'of', 'currency', 'questions', 'for', 'discussion', 'why', 'would', 'it', 'matter', 'that', 'there', 'were', 'no', 'large', 'animal', 'species', 'in', 'the', 'americas', 'for', 'natives', 'to', 'domesticate', 'is', 'it', 'significant', 'that', 'the', 'people', 'breeding', 'new', 'staple', 'crops', 'in', 'the', 'americas', 'were', 'mostly', 'women', 'we', 'will', 'look', 'more', 'closely', 'in', 'the', 'next', 'several', 'chapters', 'at', 'the', 'cultures', 'of', 'all', 'these', 'regions', 'as', 'they', 'entered', 'the', 'modern', 'era', 'although', 'the', 'people', 'of', 'each', 'continent', 'and', 'region', 'developed', 'different', 'traditions', 'and', 'customs', 'their', 'agriculturally', 'based', 'cultures', 'shared', 'a', 'lot', 'of', 'similarities', 'and', 'their', 'civilizations', 'were', 'all', 'comparably', 'advanced', 'at', 'the', 'beginning', 'of', 'our', 'survey', 'with', 'that', 'introduction', 'let', 's', 'begin']\n"
     ]
    }
   ],
   "source": [
    "# Use nltk to tokenize the words\n",
    "# this first option takes punctuation marks as words\n",
    "# words = word_tokenize(text)\n",
    "\n",
    "# using this regular expression we leave behind punctuation marks\n",
    "tokenizer = nltk.RegexpTokenizer(r\"\\w+\")\n",
    "words = tokenizer.tokenize(text)\n",
    "\n",
    "print(words)"
   ]
  },
  {
   "cell_type": "code",
   "execution_count": 25,
   "id": "4c3c4040",
   "metadata": {},
   "outputs": [
    {
     "name": "stdout",
     "output_type": "stream",
     "text": [
      "<FreqDist with 1249 samples and 3993 outcomes>\n"
     ]
    }
   ],
   "source": [
    "# find the frequency distributions of words\n",
    "fdist = FreqDist(words)\n",
    "print(fdist)"
   ]
  },
  {
   "cell_type": "markdown",
   "id": "402415ce",
   "metadata": {},
   "source": [
    "List the most frecuent words:"
   ]
  },
  {
   "cell_type": "code",
   "execution_count": 26,
   "id": "f81538d8",
   "metadata": {},
   "outputs": [
    {
     "data": {
      "text/plain": [
       "[('the', 315),\n",
       " ('and', 170),\n",
       " ('of', 164),\n",
       " ('in', 105),\n",
       " ('to', 81),\n",
       " ('a', 50),\n",
       " ('for', 32),\n",
       " ('as', 32),\n",
       " ('from', 28),\n",
       " ('years', 28),\n",
       " ('that', 26),\n",
       " ('by', 25),\n",
       " ('were', 25),\n",
       " ('roman', 25),\n",
       " ('their', 24)]"
      ]
     },
     "execution_count": 26,
     "metadata": {},
     "output_type": "execute_result"
    }
   ],
   "source": [
    "# display the most frecuent words\n",
    "fdist.most_common(15)"
   ]
  },
  {
   "cell_type": "markdown",
   "id": "51126ac8",
   "metadata": {},
   "source": [
    "After the first 15 words the frecuency decreases a lot. Most of this \"top ten\" words add no meaning. Most are \"stopwords\". \n"
   ]
  },
  {
   "cell_type": "code",
   "execution_count": 27,
   "id": "e8d344c0",
   "metadata": {},
   "outputs": [
    {
     "data": {
      "image/png": "[encoded data removed]",
      "text/plain": [
       "<Figure size 432x288 with 1 Axes>"
      ]
     },
     "metadata": {
      "needs_background": "light"
     },
     "output_type": "display_data"
    }
   ],
   "source": [
    "# plot the most frecuent words\n",
    "fdist.plot(18,cumulative=False, title='Most frecuent words in the text')\n",
    "plt.show()"
   ]
  },
  {
   "cell_type": "markdown",
   "id": "3665b4d4",
   "metadata": {},
   "source": [
    "# Nivell 2\n",
    "## Exercici 1\n",
    "Treu les stopwords i realitza stemming al teu conjunt de dades."
   ]
  },
  {
   "cell_type": "markdown",
   "id": "12ef08fa",
   "metadata": {},
   "source": [
    "Drop the stopwords form the list of words:"
   ]
  },
  {
   "cell_type": "code",
   "execution_count": 28,
   "id": "a99c6c2c",
   "metadata": {},
   "outputs": [
    {
     "name": "stdout",
     "output_type": "stream",
     "text": [
      "{'now', 'hers', 'but', 'won', 'didn', 'during', 'of', 'wasn', \"hasn't\", 'yourselves', 'above', 'not', \"it's\", 'through', 'how', 'aren', 'a', 'below', \"you're\", 'no', 'been', 'being', 'were', 'was', 'under', 'between', 'over', 'again', 'nor', 'most', 'each', 'd', 'too', 'ma', 'who', \"aren't\", 't', 'as', 're', 'mustn', 'ourselves', 'these', \"you've\", 'himself', 'have', 'and', 'off', 'needn', 'is', 'can', 'i', 'some', 'does', 'why', 'she', 'are', 'his', 'once', 'mightn', 'ain', 'because', \"haven't\", \"didn't\", 'isn', 'he', \"wouldn't\", 'against', 'o', 'for', 'couldn', 'this', 'don', \"hadn't\", 'few', \"isn't\", 'very', \"doesn't\", 'before', 'up', 'it', \"shouldn't\", 'or', \"couldn't\", 'did', 'other', \"weren't\", 'has', 'where', 'after', \"she's\", 'my', 'to', 'him', \"don't\", 'shan', 'that', 'myself', 'be', 'such', 'at', 'what', 'so', 'more', 'if', 'themselves', 'am', 'their', 'with', 'on', 've', 'hasn', \"won't\", 'they', 'yours', 'weren', \"needn't\", 'here', 'the', \"that'll\", 'in', 'ours', 'should', 'having', 'y', \"you'd\", 'them', 'wouldn', 'those', 'out', 'further', 'our', 'there', 'own', 'doing', 'your', 'hadn', 'about', 'same', 'theirs', 'just', \"mustn't\", \"should've\", 'when', 'you', 'by', 'while', 'from', 'any', 'until', 'only', 'will', \"mightn't\", 'both', 'had', 'than', \"wasn't\", 'we', 'an', 'which', 'all', 's', \"you'll\", 'down', 'me', 'into', 'then', \"shan't\", 'its', 'do', 'itself', 'shouldn', 'll', 'm', 'herself', 'her', 'yourself', 'haven', 'whom', 'doesn'}\n"
     ]
    }
   ],
   "source": [
    "# define the set of stopwords to use. \n",
    "# These are words with no meaning on its own\n",
    "stop_words=set(stopwords.words(\"english\"))\n",
    "print(stop_words)"
   ]
  },
  {
   "cell_type": "code",
   "execution_count": 29,
   "id": "1aed0975",
   "metadata": {},
   "outputs": [
    {
     "name": "stdout",
     "output_type": "stream",
     "text": [
      "Filterd words: ['welcome', 'modern', 'world', 'history', 'textbook', 'undergraduate', 'survey', 'course', 'taught', 'universities', 'colleges', 'minnesota', 'state', 'system', 'similar', 'courses', 'taught', 'institutions', 'around', 'united', 'states', 'world', 'authors', 'made', 'text', 'available', 'open', 'educational', 'resource', 'teachers', 'learners', 'read', 'adapt', 'reuse', 'meet', 'needs', 'like', 'hear', 'people', 'found', 'text', 'useful', 'always', 'open', 'questions', 'suggestions', 'readers', 'text', 'may', 'varying', 'levels', 'familiarity', 'events', 'world', 'history', 'modern', 'period', 'covering', 'occasionally', 'understanding', 'text', 'may', 'require', 'bit', 'background', 'help', 'contextualize', 'material', 'covering', 'introduction', 'cover', 'background', 'agricultural', 'revolution', 'farming', 'developed', 'number', 'different', 'parts', 'ancient', 'world', 'beginning', 'recorded', 'history', 'means', 'difficult', 'historians', 'describe', 'early', 'agricultural', 'societies', 'much', 'detail', 'like', 'also', 'none', 'written', 'records', 'historians', 'typically', 'use', 'understand', 'past', 'rely', 'much', 'greater', 'extent', 'archaeologists', 'anthropologists', 'specialists', 'data', 'informs', 'histories', 'science', 'supporting', 'fields', 'advanced', 'rapidly', 'recent', 'years', 'understanding', 'prehistoric', 'period', 'also', 'changed', 'sometimes', 'abruptly', 'neolithic', 'grindstone', 'neolithic', 'stone', 'age', 'grindstone', 'used', 'process', 'grain', 'seeds', 'collected', 'gatherers', 'later', 'cultivated', 'farmers', 'farming', 'believed', 'developed', 'middle', 'east', 'sites', 'jericho', 'mesopotamia', 'six', 'seven', 'thousand', 'years', 'ago', 'ancestors', 'modern', 'europeans', 'usually', 'credited', 'invention', 'agriculture', 'recently', 'responding', 'evidence', 'prehistoric', 'farming', 'africa', 'india', 'china', 'scholars', 'suggested', 'agriculture', 'may', 'developed', 'less', 'independently', 'several', 'regions', 'world', 'difficult', 'imagine', 'parallel', 'development', 'could', 'occurred', 'people', 'different', 'parts', 'world', 'making', 'basic', 'discoveries', 'making', 'pretty', 'much', 'simultaneously', 'even', 'recently', 'scientists', 'begun', 'suspect', 'confusion', 'may', 'reflect', 'difficulty', 'finding', 'archaeological', 'evidence', 'since', 'plant', 'materials', 'decay', 'ground', 'much', 'quickly', 'arrowheads', 'stone', 'spear', 'points', 'suggested', 'may', 'thinking', 'agriculture', 'wrong', 'seems', 'likely', 'agriculture', 'began', 'gradual', 'process', 'goes', 'back', 'much', 'farther', 'imagined', 'humans', 'species', 'began', 'southern', 'africa', '300', '000', 'years', 'ago', 'population', 'crisis', '150', '000', 'years', 'ago', 'modern', 'humans', 'seem', 'left', 'africa', '80', '000', '100', '000', 'years', 'ago', 'first', 'members', 'human', 'family', 'left', 'africa', 'homo', 'erectus', 'neanderthals', 'denisovans', 'lived', 'europe', 'asia', 'displaced', 'homo', 'sapiens', 'migration', 'patterns', 'homo', 'sapiens', 'recent', '2015', 'map', 'showing', 'updated', 'theories', 'human', 'migration', 'africa', 'including', 'major', 'archaeological', 'sites', 'early', 'millennia', 'spread', 'across', 'connected', 'continents', 'africa', 'europe', 'asia', 'modern', 'humans', 'lived', 'mobile', 'lives', 'hunter', 'gatherers', 'according', 'archaeologists', 'many', 'left', 'traces', 'presence', 'area', 'north', 'black', 'sea', '80', '000', '50', '000', 'years', 'ago', 'although', 'may', 'favored', 'certain', 'locations', 'long', 'periods', 'time', 'ancient', 'people', 'forced', 'follow', 'herds', 'hunted', 'seek', 'new', 'food', 'sources', 'conditions', 'changed', 'climate', 'changed', 'slowly', 'cycle', 'glaciation', 'factor', 'human', 'development', 'especially', 'recent', 'ice', 'age', 'began', '36', '000', 'years', 'ago', 'lasted', '11', '000', 'years', 'ago', 'ice', 'age', 'displaced', 'animal', 'human', 'populations', 'also', 'allowed', 'people', 'migrate', 'americas', 'see', 'agriculture', 'probably', 'began', 'hunter', 'gatherers', 'began', 'favoring', 'certain', 'plants', 'weeding', 'around', 'help', 'grow', 'larger', 'make', 'easier', 'reach', 'point', 'people', 'discovered', 'seeds', 'dropped', 'rubbish', 'heaps', 'sprouted', 'new', 'plants', 'people', 'probably', 'began', 'planting', 'transplanting', 'favorites', 'closer', 'home', 'would', 'always', 'go', 'far', 'looking', 'food', 'horticulture', 'part', 'time', 'farming', 'may', 'begun', 'ancient', 'humans', 'began', 'spread', 'black', 'sea', 'area', 'westward', 'europe', 'east', 'asia', 'would', 'explain', 'seemingly', 'coincidental', 'parallel', 'development', 'farming', 'across', 'much', 'globe', 'various', 'regions', 'may', 'developed', 'distinctive', 'versions', 'recognize', 'agriculture', 'deep', 'pool', 'common', 'techniques', 'wheat', 'discovered', 'region', 'call', 'fertile', 'crescent', 'stretching', 'persian', 'gulf', 'eastern', 'mediterranean', 'cultivation', 'spread', 'surpluses', 'grain', 'produced', 'civilizations', 'like', 'egypt', 'mesopotamia', 'today', 'iraq', 'rose', '6', '000', '5', '000', 'years', 'ago', 'time', 'possibly', 'bit', 'earlier', 'residents', 'pearl', 'river', 'estuary', 'china', 'began', 'cultivating', 'rice', 'flooded', 'fields', 'called', 'paddies', 'three', 'staple', 'crops', 'modern', 'world', 'corn', 'potatoes', 'cassava', 'developed', '9', '000', '7', '000', 'years', 'ago', 'natives', 'americas', 'discuss', 'transition', 'nomadic', 'hunt', 'gather', 'groups', 'complex', 'societies', 'based', 'agriculture', 'specialization', 'segmentation', 'work', 'allowed', 'development', 'sedentary', 'cultures', 'established', 'governments', 'writing', 'number', 'systems', 'hierarchal', 'social', 'systems', 'able', 'build', 'impressive', 'structures', 'defend', 'sometimes', 'expand', 'borders', 'create', 'art', 'music', 'let', 'look', 'briefly', 'ancient', 'societies', 'africa', 'europe', 'asia', 'americas', 'prepare', 'coverage', 'early', 'modern', 'period', 'opening', 'chapters', 'questions', 'discussion', 'significant', 'historians', 'must', 'rely', 'information', 'fields', 'like', 'archaeology', 'tell', 'story', 'ancient', 'world', 'matter', 'agriculture', 'first', 'developed', 'considering', 'human', 'migrations', 'deep', 'past', 'affect', 'opinions', 'race', 'ethnicity', 'ancient', 'kingdoms', 'north', 'africa', 'eastern', 'mediterranean', 'ancient', 'dynasties', 'egyptian', 'empire', 'developed', 'along', 'nile', 'beginning', 'around', '3100', 'bce', 'built', 'wheat', 'surpluses', 'made', 'possible', 'annual', 'flooding', 'nile', 'river', 'among', 'visible', 'lasting', 'achievements', 'egyptian', 'empires', 'pyramids', 'giza', 'built', '2600', '2400', 'bce', 'serve', 'burial', 'tombs', 'several', 'emperors', 'egyptian', 'empires', 'lasted', 'nearly', '2300', 'years', 'conquered', 'succession', 'assyrians', 'persians', 'greeks', '700', 'bce', '332', 'bce', 'giza', 'pyramid', 'complex', 'giza', 'pyramid', 'complex', 'cairo', 'background', 'societies', 'ancient', 'greece', 'particularly', 'athens', 'directly', 'influenced', 'culture', 'intellectual', 'life', 'europe', 'middle', 'east', 'present', 'day', 'greek', 'dramas', 'tragedies', 'continue', 'studied', 'performed', 'pythagoras', 'mathematical', 'discoveries', 'still', 'taught', 'schools', 'thinking', 'socrates', 'plato', 'aristotle', 'basis', 'western', 'philosophy', 'political', 'science', 'today', 'words', 'democracy', 'republic', 'come', 'ancient', 'greeks', 'greek', 'ideas', 'culture', 'adopted', 'romans', 'spread', 'throughout', 'empire', 'indeed', 'many', 'greek', 'gods', 'became', 'roman', 'gods', 'different', 'names', 'ancient', 'rome', 'republic', 'nearly', '500', 'years', 'expanding', 'territory', 'city', 'rome', 'western', 'coast', 'italian', 'peninsula', 'nearly', 'lands', 'surrounding', 'mediterranean', 'sea', 'including', 'former', 'greek', 'egyptian', 'empires', 'even', 'england', 'romans', 'spread', 'language', 'latin', 'latin', 'alphabet', 'western', 'europe', 'particular', 'period', 'political', 'crisis', 'republic', 'replaced', 'emperor', 'caesar', 'augustus', '27', 'bce', 'egyptian', 'greek', 'assyrian', 'persian', 'roman', 'empires', 'encountered', 'hebrew', 'people', 'maintained', 'independent', 'kingdom', 'israel', 'around', '1000', 'bce', 'hebrew', 'prophet', 'moses', 'influenced', 'spiritual', 'ideas', 'various', 'societies', 'developed', 'concept', 'one', 'god', 'people', 'moses', 'monotheism', 'unusual', 'innovation', 'era', 'societies', 'worshipped', 'several', 'gods', 'many', 'honored', 'gods', 'cultures', 'ten', 'commandments', 'laws', 'regulations', 'attributed', 'moses', 'torah', 'formed', 'basis', 'judaism', 'also', 'christianity', 'later', 'islam', 'religions', 'worship', 'single', 'god', 'map', 'roman', 'empire', '117', 'ce', 'roman', 'empire', 'greatest', 'extent', '117', 'ce', 'shortly', 'romans', 'conquered', 'region', 'israel', 'jesus', 'nazareth', 'jewish', 'thinker', 'began', 'preaching', 'new', 'peaceful', 'inclusive', 'religion', 'salvation', 'turned', 'enemies', 'romans', 'crucified', 'approximately', '33', 'ce', 'followers', 'led', 'especially', 'paul', 'said', 'never', 'met', 'jesus', 'preached', 'jesus', 'son', 'god', 'invited', 'gentiles', 'people', 'jews', 'join', 'faith', 'new', 'religion', 'especially', 'embraced', 'slaves', 'roman', 'empire', 'attracted', 'promise', 'forgiveness', 'single', 'powerful', 'god', 'unending', 'love', 'eternal', 'life', 'death', 'romans', 'saw', 'new', 'religion', 'challenge', 'state', 'religious', 'authority', 'sometimes', 'persecuted', 'christians', '330', 'ce', 'roman', 'emperor', 'constantine', 'banned', 'persecution', 'christians', '400', 'ac', 'christianity', 'replaced', 'worship', 'rome', 'traditional', 'gods', 'goddesses', 'state', 'religion', 'roman', 'empire', 'constantine', 'embraced', 'new', 'faith', 'roman', 'catholic', 'church', 'direct', 'descendent', 'roman', 'empire', 'pope', 'leader', 'catholic', 'church', 'still', 'lives', 'rome', 'vestments', 'catholic', 'priests', 'clergy', 'liturgical', 'christian', 'denominations', 'similar', 'worn', 'fourth', 'century', 'roman', 'officials', 'questions', 'discussion', 'types', 'historical', 'evidence', 'think', 'references', 'people', 'moses', 'jesus', 'muhammad', 'based', 'might', 'sources', 'differ', 'archaeological', 'sources', 'mentioned', 'previously', 'cultures', 'ancient', 'europe', 'continue', 'influence', 'life', 'modern', 'world', 'eastern', 'roman', 'empire', 'fall', 'rome', 'constantine', 'moved', 'capital', 'roman', 'empire', 'second', 'imperial', 'capital', '330', 'ce', 'byzantium', 'renamed', 'constantinople', 'powerful', 'fortress', 'controlling', 'bosphorus', 'strait', 'connects', 'black', 'sea', 'mediterranean', 'city', 'byzantium', 'already', 'thousand', 'years', 'old', 'constantine', 'moved', 'served', 'eastern', 'administrative', 'center', 'empire', 'continued', 'using', 'greek', 'rather', 'latin', 'official', 'language', 'somewhat', 'separate', 'christian', 'church', 'developed', 'greek', 'part', 'empire', 'based', 'idea', 'different', 'archbishops', 'controlled', 'spiritual', 'matters', 'group', 'pope', 'rome', 'another', 'archbishop', 'equal', 'others', '1000', 'ce', 'catholics', 'west', 'greek', 'orthodox', 'east', 'split', 'one', 'another', 'fifth', 'century', 'ce', 'germanic', 'tribes', 'northern', 'europe', 'invaded', 'roman', 'empire', 'turn', 'fleeing', 'attila', 'hun', 'invaders', 'asia', 'eventually', 'city', 'rome', 'fell', 'barbarians', '476', 'ce', 'western', 'europe', 'divided', 'among', 'various', 'germanic', 'warlords', 'although', 'empire', 'ended', 'roman', 'catholic', 'church', 'remained', 'strong', 'next', '500', 'years', 'christianity', 'spread', 'throughout', 'region', 'embraced', 'local', 'regional', 'rulers', 'church', 'preserved', 'much', 'culture', 'roman', 'empire', 'including', 'language', 'latin', 'used', 'liturgies', 'ceremonies', '1965', 'map', 'europe', '476', 'ce', 'rome', 'fell', '476', 'ce', 'western', 'europe', 'divided', 'number', 'kingdoms', 'although', 'eastern', 'roman', 'byzantine', 'empire', 'persisted', 'germanic', 'languages', 'transformed', 'contact', 'latin', 'speakers', 'english', 'language', 'good', 'example', 'germanic', 'latin', 'influences', 'consider', 'time', 'measured', 'months', 'year', 'roman', 'calendar', 'first', 'six', 'months', 'named', 'roman', 'gods', 'july', 'august', 'named', 'early', 'emperors', 'julius', 'caesar', 'caesar', 'augustus', 'remaining', 'months', 'ordinal', 'numbers', 'seven', 'ten', 'although', 'confusing', 'change', 'catholic', 'church', 'decided', 'begin', 'calendar', 'january', 'making', 'december', 'twelfth', 'month', 'instead', 'tenth', 'days', 'week', 'however', 'reveal', 'latin', 'germanic', 'influences', 'saturday', 'sunday', 'monday', 'come', 'sacred', 'roman', 'orbs', 'sky', 'spanish', 'french', 'latin', 'languages', 'continue', 'vein', 'four', 'days', 'english', 'honors', 'barbarian', 'gods', 'tieu', 'woden', 'thor', 'frija', 'remainder', 'week', 'eastern', 'roman', 'empire', 'byzantium', 'lasted', 'nearly', 'another', '1000', 'years', 'fall', 'rome', 'tell', 'european', 'peoples', 'converted', 'catholic', 'missionaries', 'proselytized', 'orthodox', 'preachers', 'looking', 'alphabets', 'russia', 'ukraine', 'bulgaria', 'example', 'use', 'greek', 'based', 'cyrillic', 'alphabet', 'western', 'european', 'languages', 'use', 'version', 'latin', 'alphabet', 'islam', 'influence', '610', 'ce', 'prophet', 'muhammad', 'began', 'preaching', 'organizing', 'new', 'religion', 'islam', 'arabian', 'peninsula', 'region', 'mecca', 'prophet', 'teachings', 'later', 'gathered', 'holy', 'quran', 'built', 'upon', 'judaism', 'christianity', 'mecca', 'long', 'site', 'religious', 'pilgrimage', 'honoring', 'hebrew', 'patriarch', 'abraham', 'jesus', 'considered', 'important', 'prophet', 'islam', 'time', 'muhammad', 'passing', '632', 'islam', 'well', 'established', 'eastern', 'arabian', 'peninsula', 'within', 'next', 'one', 'hundred', 'years', 'became', 'dominant', 'religion', 'north', 'africa', 'middle', 'east', 'persia', '1200', 'muslim', 'rulers', 'also', 'dominated', 'south', 'asia', 'iberian', 'peninsula', '1787', 'map', 'mecca', '18th', 'century', 'map', 'mecca', 'showing', 'al', 'haram', 'mosque', 'ka', 'bah', 'millions', 'muslims', 'visit', 'pilgrimages', 'every', 'year', 'islam', 'brought', 'stability', 'region', 'trade', 'learning', 'exchange', 'ideas', 'flourished', 'extent', 'muslim', 'trade', 'notable', 'establishment', 'center', 'islamic', 'study', 'timbuktu', 'middle', 'northern', 'sub', 'saharan', 'africa', 'located', 'across', 'sahara', 'desert', 'mecca', 'today', 'mali', 'religious', 'conversion', 'often', 'accompanied', 'arab', 'merchant', 'activity', 'indeed', 'nation', 'largest', 'muslim', 'population', 'world', 'indonesia', 'south', 'east', 'asian', 'archipelago', 'located', 'thousands', 'miles', 'arabian', 'peninsula', 'arab', 'traders', 'first', 'introduced', 'religion', '1200s', 'arab', 'world', 'benefitted', 'relatively', 'stable', 'administrations', 'commercial', 'links', 'allowed', 'merchants', 'bring', 'new', 'technology', 'science', 'mathematics', 'india', 'china', 'region', 'arab', 'scholars', 'refined', 'centers', 'learning', 'muslims', 'like', 'christians', 'jews', 'followers', 'world', 'religions', 'may', 'share', 'common', 'sacred', 'writings', 'liturgical', 'traditions', 'also', 'divided', 'different', 'theological', 'interpretations', 'religious', 'practices', 'islam', 'principal', 'division', 'stems', 'early', 'debate', 'led', 'religion', 'prophet', 'member', 'family', 'simply', 'anyone', 'effective', 'dynamic', 'leader', 'sunnis', '90', 'muslims', 'today', 'stem', 'group', 'believed', 'latter', 'shi', 'ites', '10', 'muslims', 'include', 'often', 'martyred', 'descendants', 'prophet', 'early', 'principle', 'imams', 'spiritual', 'leaders', 'islam', 'discussed', 'later', 'rulers', 'persia', 'today', 'iran', 'embraced', 'shi', 'ism', 'neighbors', 'sunni', 'although', 'sunnis', 'shi', 'ites', 'fought', 'one', 'another', 'early', 'years', 'islam', 'many', 'also', 'lived', 'together', 'relative', 'peace', 'centuries', 'last', 'decades', 'examined', 'later', 'chapters', 'questions', 'discussion', 'think', 'memory', 'roman', 'empire', 'affected', 'europeans', 'conflict', 'muslims', 'christians', 'shape', 'european', 'history', 'center', 'world', 'population', 'asia', 'thousands', 'years', 'hunting', 'gathering', 'ancient', 'people', 'northern', 'china', 'began', 'cultivating', 'millet', 'rice', 'time', 'much', 'way', 'people', 'middle', 'east', 'grew', 'wheat', 'people', 'americas', 'grew', 'maize', 'potatoes', 'cassava', 'china', 'recorded', 'history', 'began', '2000', 'bce', 'four', 'thousand', 'years', 'ago', 'historians', 'pretty', 'good', 'idea', 'happened', 'distant', 'past', 'based', 'irrigated', 'rice', 'agriculture', 'population', 'china', 'grew', '50', '60', 'million', 'people', 'early', '2', '000', 'years', 'ago', 'population', 'originally', 'divided', 'several', 'small', 'kingdoms', 'whose', 'ruling', 'families', 'connected', 'political', 'marriages', 'beginning', '221', 'bce', 'influential', 'powerful', 'family', 'organized', 'kingdoms', 'empire', 'covering', 'much', 'territory', 'modern', 'china', 'empire', 'lasted', 'two', 'thousand', 'years', 'series', 'dozen', 'dynasties', 'fall', 'qing', 'dynasty', '1911', 'establishment', 'republic', 'china', 'region', 'pakistan', 'india', 'indus', 'valley', 'cities', 'mohenjo', 'daro', 'harappa', 'reached', 'maturity', '2600', 'bce', 'housed', '30', '000', '60', '000', 'people', 'cultures', 'grew', 'agricultural', 'base', 'focused', 'wheat', 'barley', 'millet', 'permanent', 'nature', 'sedentary', 'agricultural', 'societies', 'led', 'thinkers', 'consider', 'complex', 'ways', 'people', 'live', 'correctly', 'world', 'led', 'establishment', 'religious', 'civil', 'structures', 'ancestors', 'sources', 'many', 'world', 'governments', 'religions', 'still', 'exist', 'today', 'vedic', 'period', 'india', 'hinduism', 'took', 'root', 'beginning', 'around', '2000', 'bce', 'based', 'stories', 'gods', 'goddesses', 'relationships', 'one', 'another', 'world', 'spiritual', 'richness', 'south', 'asia', 'inspired', 'buddha', 'originally', 'today', 'nepal', 'engage', 'spiritual', 'journey', 'enlightenment', 'fifth', 'century', 'bce', 'buddhist', 'ideas', 'inspired', 'spiritual', 'aspects', 'chinese', 'japanese', 'southeast', 'asian', 'thought', 'map', 'roman', 'han', 'empires', 'extent', 'roman', 'han', 'empires', 'around', 'year', '1', 'ce', 'earliest', 'emperors', 'china', 'began', 'large', 'public', 'works', 'programs', 'including', 'construction', 'called', 'long', 'walls', 'later', 'formed', 'basis', 'great', 'wall', 'partly', 'protect', 'northern', 'tribes', 'partly', 'expand', 'territory', 'northward', 'around', '200', 'bce', 'second', 'chinese', 'dynasty', 'han', 'established', 'trade', 'route', 'called', 'silk', 'road', 'linking', 'china', 'central', 'asia', 'europe', 'artifacts', 'roman', 'empire', 'found', 'china', 'silk', 'china', 'developed', '3000', 'bce', 'became', 'luxury', 'fabric', 'greece', 'rome', 'next', 'dynasty', 'sui', 'dug', 'grand', 'canal', 'connect', 'yellow', 'yangtze', 'rivers', 'sixth', 'century', 'ce', 'canal', 'allowed', 'rice', 'wheat', 'millet', 'transported', 'protected', 'inland', 'waterway', 'instead', 'shipped', 'ocean', 'shipments', 'could', 'threatened', 'pirates', 'china', 'also', 'led', 'world', 'iron', 'copper', 'porcelain', 'production', 'well', 'four', 'great', 'inventions', 'compass', 'gunpowder', 'paper', 'making', 'printing', 'questions', 'discussion', 'significant', 'china', 'india', 'always', 'centers', 'world', 'population', 'agricultural', 'surpluses', 'encourage', 'building', 'cities', 'kingdoms', 'empires', 'surprising', 'han', 'roman', 'empires', 'existed', 'time', 'trade', 'asia', 'europe', 'via', 'silk', 'road', 'isolated', 'americas', 'people', 'living', 'americas', 'separated', 'climate', 'change', 'eurasia', 'nearly', '12', '000', 'years', 'end', 'ice', 'age', 'created', 'beringia', 'alaska', 'siberia', 'allowed', 'eurasians', 'cross', 'americas', 'period', 'remember', 'twice', 'long', 'recorded', 'history', 'native', 'americans', 'idle', 'arrived', 'americas', 'found', 'large', 'animal', 'species', 'available', 'domesticate', 'like', 'europeans', 'asians', 'africans', 'native', 'americans', 'experienced', 'agricultural', 'revolution', 'long', 'period', 'hunting', 'gathering', 'instead', 'domesticating', 'cattle', 'horses', 'sheep', 'goats', 'pigs', 'chickens', 'americans', 'developed', 'certain', 'plants', 'creating', 'three', 'world', 'current', 'top', 'five', 'staple', 'crops', 'teosinte', 'maize', 'image', 'depicting', 'teosinte', 'maize', 'teosinte', 'hybrid', 'maize', 'developed', '7', '000', '10', '000', 'years', 'ago', 'central', 'mexico', 'staple', 'crops', 'produce', 'foods', 'provide', 'greatest', 'percentage', 'calories', 'people', 'eat', 'might', 'surprise', 'today', 'fifteen', 'staple', 'crops', 'account', '90', 'calories', 'people', 'eat', 'every', 'day', 'top', 'five', 'responsible', 'nearly', 'three', 'quarters', 'including', 'feed', 'animals', 'whose', 'meat', 'eat', 'discovered', 'invented', 'ancient', 'people', 'six', 'ten', 'thousand', 'years', 'ago', 'three', 'five', 'invented', 'americas', 'world', 'five', 'top', 'five', 'staples', 'today', 'order', 'importance', 'maize', 'corn', 'rice', 'wheat', 'potatoes', 'cassava', 'rice', 'wheat', 'known', 'europe', 'asia', 'africa', 'contact', 'americas', 'natives', 'mexico', 'developed', 'maize', 'native', 'grass', 'called', 'teosinte', 'beginning', 'nine', 'thousand', 'years', 'ago', 'use', 'spread', 'nearly', 'every', 'part', 'americas', 'generations', 'women', 'farmers', 'ancient', 'mexico', 'selectively', 'bred', 'grass', 'produce', 'bigger', 'seeds', 'maize', 'currently', 'important', 'staple', 'world', 'human', 'animal', 'feed', 'well', 'industrial', 'uses', 'like', 'high', 'fructose', 'corn', 'syrup', 'plastics', 'fuel', 'andean', 'natives', 'peru', 'bolivia', 'created', 'many', 'varieties', 'potatoes', 'beginning', '10', '000', 'years', 'ago', 'andean', 'women', 'developed', 'different', 'varieties', 'different', 'growing', 'conditions', 'learned', 'freeze', 'dry', 'potatoes', 'long', 'term', 'storage', 'people', 'amazon', 'region', 'discovered', 'manioc', 'trees', 'growing', 'rainforest', 'developed', 'processes', 'turn', 'trees', 'poisonous', 'roots', 'cassava', 'know', 'tapioca', '10', '000', '7', '000', 'years', 'ago', 'raw', 'cassava', 'root', 'toxic', 'addition', 'domesticating', 'plant', 'amazonian', 'tree', 'farmers', 'develop', 'technologies', 'combinations', 'boiling', 'drying', 'chemical', 'leaching', 'remove', 'cyanide', 'compounds', 'make', 'manioc', 'useful', 'along', 'rice', 'wheat', 'developed', 'eurasia', 'maize', 'potatoes', 'manioc', 'important', 'staple', 'crops', 'modern', 'world', 'feeding', 'billions', 'people', 'ancient', 'native', 'americans', 'thank', 'manioc', 'cassava', 'roots', 'need', 'processed', 'remove', 'poisons', 'eaten', 'course', 'eating', 'nothing', 'maize', 'potatoes', 'cassava', 'would', 'bland', 'diet', 'indigenous', 'central', 'mexico', 'developed', 'plants', 'flavor', 'cuisine', 'various', 'types', 'hot', 'peppers', 'beans', 'tomatoes', 'present', 'mexican', 'food', 'today', 'enjoyed', 'olmecs', 'toltecs', 'mexica', 'hundreds', 'years', 'encounter', 'europeans', 'sixteenth', 'century', 'meso', 'americans', 'also', 'ground', 'cocoa', 'beans', 'added', 'hot', 'water', 'peppers', 'honey', 'make', 'hot', 'chocolate', 'even', 'today', 'millions', 'latin', 'americans', 'begin', 'end', 'day', 'cup', 'prepared', 'traditional', 'olleta', 'hand', 'held', 'batidor', 'using', 'chunks', 'chocolate', 'however', 'delicious', 'drink', 'originally', 'reserved', 'nobility', 'cocoa', 'beans', 'often', 'used', 'kind', 'currency', 'questions', 'discussion', 'would', 'matter', 'large', 'animal', 'species', 'americas', 'natives', 'domesticate', 'significant', 'people', 'breeding', 'new', 'staple', 'crops', 'americas', 'mostly', 'women', 'look', 'closely', 'next', 'several', 'chapters', 'cultures', 'regions', 'entered', 'modern', 'era', 'although', 'people', 'continent', 'region', 'developed', 'different', 'traditions', 'customs', 'agriculturally', 'based', 'cultures', 'shared', 'lot', 'similarities', 'civilizations', 'comparably', 'advanced', 'beginning', 'survey', 'introduction', 'let', 'begin']\n"
     ]
    }
   ],
   "source": [
    "# remove the stopwords from the list of words\n",
    "filtered=[]\n",
    "for w in words:\n",
    "    if w not in stop_words:\n",
    "        filtered.append(w)\n",
    "        \n",
    "print(\"Filterd words:\",filtered)"
   ]
  },
  {
   "cell_type": "markdown",
   "id": "aace22ca",
   "metadata": {},
   "source": [
    "Normalize the data using Stemming, in order to reduce the noise (chops off the derivational affixes):"
   ]
  },
  {
   "cell_type": "code",
   "execution_count": 30,
   "id": "2b93058f",
   "metadata": {},
   "outputs": [
    {
     "name": "stdout",
     "output_type": "stream",
     "text": [
      "Stemmed words: ['welcom', 'modern', 'world', 'histori', 'textbook', 'undergradu', 'survey', 'cours', 'taught', 'univers', 'colleg', 'minnesota', 'state', 'system', 'similar', 'cours', 'taught', 'institut', 'around', 'unit', 'state', 'world', 'author', 'made', 'text', 'avail', 'open', 'educ', 'resourc', 'teacher', 'learner', 'read', 'adapt', 'reus', 'meet', 'need', 'like', 'hear', 'peopl', 'found', 'text', 'use', 'alway', 'open', 'question', 'suggest', 'reader', 'text', 'may', 'vari', 'level', 'familiar', 'event', 'world', 'histori', 'modern', 'period', 'cover', 'occasion', 'understand', 'text', 'may', 'requir', 'bit', 'background', 'help', 'contextu', 'materi', 'cover', 'introduct', 'cover', 'background', 'agricultur', 'revolut', 'farm', 'develop', 'number', 'differ', 'part', 'ancient', 'world', 'begin', 'record', 'histori', 'mean', 'difficult', 'historian', 'describ', 'earli', 'agricultur', 'societi', 'much', 'detail', 'like', 'also', 'none', 'written', 'record', 'historian', 'typic', 'use', 'understand', 'past', 'reli', 'much', 'greater', 'extent', 'archaeologist', 'anthropologist', 'specialist', 'data', 'inform', 'histori', 'scienc', 'support', 'field', 'advanc', 'rapidli', 'recent', 'year', 'understand', 'prehistor', 'period', 'also', 'chang', 'sometim', 'abruptli', 'neolith', 'grindston', 'neolith', 'stone', 'age', 'grindston', 'use', 'process', 'grain', 'seed', 'collect', 'gather', 'later', 'cultiv', 'farmer', 'farm', 'believ', 'develop', 'middl', 'east', 'site', 'jericho', 'mesopotamia', 'six', 'seven', 'thousand', 'year', 'ago', 'ancestor', 'modern', 'european', 'usual', 'credit', 'invent', 'agricultur', 'recent', 'respond', 'evid', 'prehistor', 'farm', 'africa', 'india', 'china', 'scholar', 'suggest', 'agricultur', 'may', 'develop', 'less', 'independ', 'sever', 'region', 'world', 'difficult', 'imagin', 'parallel', 'develop', 'could', 'occur', 'peopl', 'differ', 'part', 'world', 'make', 'basic', 'discoveri', 'make', 'pretti', 'much', 'simultan', 'even', 'recent', 'scientist', 'begun', 'suspect', 'confus', 'may', 'reflect', 'difficulti', 'find', 'archaeolog', 'evid', 'sinc', 'plant', 'materi', 'decay', 'ground', 'much', 'quickli', 'arrowhead', 'stone', 'spear', 'point', 'suggest', 'may', 'think', 'agricultur', 'wrong', 'seem', 'like', 'agricultur', 'began', 'gradual', 'process', 'goe', 'back', 'much', 'farther', 'imagin', 'human', 'speci', 'began', 'southern', 'africa', '300', '000', 'year', 'ago', 'popul', 'crisi', '150', '000', 'year', 'ago', 'modern', 'human', 'seem', 'left', 'africa', '80', '000', '100', '000', 'year', 'ago', 'first', 'member', 'human', 'famili', 'left', 'africa', 'homo', 'erectu', 'neanderth', 'denisovan', 'live', 'europ', 'asia', 'displac', 'homo', 'sapien', 'migrat', 'pattern', 'homo', 'sapien', 'recent', '2015', 'map', 'show', 'updat', 'theori', 'human', 'migrat', 'africa', 'includ', 'major', 'archaeolog', 'site', 'earli', 'millennia', 'spread', 'across', 'connect', 'contin', 'africa', 'europ', 'asia', 'modern', 'human', 'live', 'mobil', 'live', 'hunter', 'gather', 'accord', 'archaeologist', 'mani', 'left', 'trace', 'presenc', 'area', 'north', 'black', 'sea', '80', '000', '50', '000', 'year', 'ago', 'although', 'may', 'favor', 'certain', 'locat', 'long', 'period', 'time', 'ancient', 'peopl', 'forc', 'follow', 'herd', 'hunt', 'seek', 'new', 'food', 'sourc', 'condit', 'chang', 'climat', 'chang', 'slowli', 'cycl', 'glaciat', 'factor', 'human', 'develop', 'especi', 'recent', 'ice', 'age', 'began', '36', '000', 'year', 'ago', 'last', '11', '000', 'year', 'ago', 'ice', 'age', 'displac', 'anim', 'human', 'popul', 'also', 'allow', 'peopl', 'migrat', 'america', 'see', 'agricultur', 'probabl', 'began', 'hunter', 'gather', 'began', 'favor', 'certain', 'plant', 'weed', 'around', 'help', 'grow', 'larger', 'make', 'easier', 'reach', 'point', 'peopl', 'discov', 'seed', 'drop', 'rubbish', 'heap', 'sprout', 'new', 'plant', 'peopl', 'probabl', 'began', 'plant', 'transplant', 'favorit', 'closer', 'home', 'would', 'alway', 'go', 'far', 'look', 'food', 'horticultur', 'part', 'time', 'farm', 'may', 'begun', 'ancient', 'human', 'began', 'spread', 'black', 'sea', 'area', 'westward', 'europ', 'east', 'asia', 'would', 'explain', 'seemingli', 'coincident', 'parallel', 'develop', 'farm', 'across', 'much', 'globe', 'variou', 'region', 'may', 'develop', 'distinct', 'version', 'recogn', 'agricultur', 'deep', 'pool', 'common', 'techniqu', 'wheat', 'discov', 'region', 'call', 'fertil', 'crescent', 'stretch', 'persian', 'gulf', 'eastern', 'mediterranean', 'cultiv', 'spread', 'surplus', 'grain', 'produc', 'civil', 'like', 'egypt', 'mesopotamia', 'today', 'iraq', 'rose', '6', '000', '5', '000', 'year', 'ago', 'time', 'possibl', 'bit', 'earlier', 'resid', 'pearl', 'river', 'estuari', 'china', 'began', 'cultiv', 'rice', 'flood', 'field', 'call', 'paddi', 'three', 'stapl', 'crop', 'modern', 'world', 'corn', 'potato', 'cassava', 'develop', '9', '000', '7', '000', 'year', 'ago', 'nativ', 'america', 'discuss', 'transit', 'nomad', 'hunt', 'gather', 'group', 'complex', 'societi', 'base', 'agricultur', 'special', 'segment', 'work', 'allow', 'develop', 'sedentari', 'cultur', 'establish', 'govern', 'write', 'number', 'system', 'hierarch', 'social', 'system', 'abl', 'build', 'impress', 'structur', 'defend', 'sometim', 'expand', 'border', 'creat', 'art', 'music', 'let', 'look', 'briefli', 'ancient', 'societi', 'africa', 'europ', 'asia', 'america', 'prepar', 'coverag', 'earli', 'modern', 'period', 'open', 'chapter', 'question', 'discuss', 'signific', 'historian', 'must', 'reli', 'inform', 'field', 'like', 'archaeolog', 'tell', 'stori', 'ancient', 'world', 'matter', 'agricultur', 'first', 'develop', 'consid', 'human', 'migrat', 'deep', 'past', 'affect', 'opinion', 'race', 'ethnic', 'ancient', 'kingdom', 'north', 'africa', 'eastern', 'mediterranean', 'ancient', 'dynasti', 'egyptian', 'empir', 'develop', 'along', 'nile', 'begin', 'around', '3100', 'bce', 'built', 'wheat', 'surplus', 'made', 'possibl', 'annual', 'flood', 'nile', 'river', 'among', 'visibl', 'last', 'achiev', 'egyptian', 'empir', 'pyramid', 'giza', 'built', '2600', '2400', 'bce', 'serv', 'burial', 'tomb', 'sever', 'emperor', 'egyptian', 'empir', 'last', 'nearli', '2300', 'year', 'conquer', 'success', 'assyrian', 'persian', 'greek', '700', 'bce', '332', 'bce', 'giza', 'pyramid', 'complex', 'giza', 'pyramid', 'complex', 'cairo', 'background', 'societi', 'ancient', 'greec', 'particularli', 'athen', 'directli', 'influenc', 'cultur', 'intellectu', 'life', 'europ', 'middl', 'east', 'present', 'day', 'greek', 'drama', 'tragedi', 'continu', 'studi', 'perform', 'pythagora', 'mathemat', 'discoveri', 'still', 'taught', 'school', 'think', 'socrat', 'plato', 'aristotl', 'basi', 'western', 'philosophi', 'polit', 'scienc', 'today', 'word', 'democraci', 'republ', 'come', 'ancient', 'greek', 'greek', 'idea', 'cultur', 'adopt', 'roman', 'spread', 'throughout', 'empir', 'inde', 'mani', 'greek', 'god', 'becam', 'roman', 'god', 'differ', 'name', 'ancient', 'rome', 'republ', 'nearli', '500', 'year', 'expand', 'territori', 'citi', 'rome', 'western', 'coast', 'italian', 'peninsula', 'nearli', 'land', 'surround', 'mediterranean', 'sea', 'includ', 'former', 'greek', 'egyptian', 'empir', 'even', 'england', 'roman', 'spread', 'languag', 'latin', 'latin', 'alphabet', 'western', 'europ', 'particular', 'period', 'polit', 'crisi', 'republ', 'replac', 'emperor', 'caesar', 'augustu', '27', 'bce', 'egyptian', 'greek', 'assyrian', 'persian', 'roman', 'empir', 'encount', 'hebrew', 'peopl', 'maintain', 'independ', 'kingdom', 'israel', 'around', '1000', 'bce', 'hebrew', 'prophet', 'mose', 'influenc', 'spiritu', 'idea', 'variou', 'societi', 'develop', 'concept', 'one', 'god', 'peopl', 'mose', 'monoth', 'unusu', 'innov', 'era', 'societi', 'worship', 'sever', 'god', 'mani', 'honor', 'god', 'cultur', 'ten', 'command', 'law', 'regul', 'attribut', 'mose', 'torah', 'form', 'basi', 'judaism', 'also', 'christian', 'later', 'islam', 'religion', 'worship', 'singl', 'god', 'map', 'roman', 'empir', '117', 'ce', 'roman', 'empir', 'greatest', 'extent', '117', 'ce', 'shortli', 'roman', 'conquer', 'region', 'israel', 'jesu', 'nazareth', 'jewish', 'thinker', 'began', 'preach', 'new', 'peac', 'inclus', 'religion', 'salvat', 'turn', 'enemi', 'roman', 'crucifi', 'approxim', '33', 'ce', 'follow', 'led', 'especi', 'paul', 'said', 'never', 'met', 'jesu', 'preach', 'jesu', 'son', 'god', 'invit', 'gentil', 'peopl', 'jew', 'join', 'faith', 'new', 'religion', 'especi', 'embrac', 'slave', 'roman', 'empir', 'attract', 'promis', 'forgiv', 'singl', 'power', 'god', 'unend', 'love', 'etern', 'life', 'death', 'roman', 'saw', 'new', 'religion', 'challeng', 'state', 'religi', 'author', 'sometim', 'persecut', 'christian', '330', 'ce', 'roman', 'emperor', 'constantin', 'ban', 'persecut', 'christian', '400', 'ac', 'christian', 'replac', 'worship', 'rome', 'tradit', 'god', 'goddess', 'state', 'religion', 'roman', 'empir', 'constantin', 'embrac', 'new', 'faith', 'roman', 'cathol', 'church', 'direct', 'descend', 'roman', 'empir', 'pope', 'leader', 'cathol', 'church', 'still', 'live', 'rome', 'vestment', 'cathol', 'priest', 'clergi', 'liturg', 'christian', 'denomin', 'similar', 'worn', 'fourth', 'centuri', 'roman', 'offici', 'question', 'discuss', 'type', 'histor', 'evid', 'think', 'refer', 'peopl', 'mose', 'jesu', 'muhammad', 'base', 'might', 'sourc', 'differ', 'archaeolog', 'sourc', 'mention', 'previous', 'cultur', 'ancient', 'europ', 'continu', 'influenc', 'life', 'modern', 'world', 'eastern', 'roman', 'empir', 'fall', 'rome', 'constantin', 'move', 'capit', 'roman', 'empir', 'second', 'imperi', 'capit', '330', 'ce', 'byzantium', 'renam', 'constantinopl', 'power', 'fortress', 'control', 'bosphoru', 'strait', 'connect', 'black', 'sea', 'mediterranean', 'citi', 'byzantium', 'alreadi', 'thousand', 'year', 'old', 'constantin', 'move', 'serv', 'eastern', 'administr', 'center', 'empir', 'continu', 'use', 'greek', 'rather', 'latin', 'offici', 'languag', 'somewhat', 'separ', 'christian', 'church', 'develop', 'greek', 'part', 'empir', 'base', 'idea', 'differ', 'archbishop', 'control', 'spiritu', 'matter', 'group', 'pope', 'rome', 'anoth', 'archbishop', 'equal', 'other', '1000', 'ce', 'cathol', 'west', 'greek', 'orthodox', 'east', 'split', 'one', 'anoth', 'fifth', 'centuri', 'ce', 'german', 'tribe', 'northern', 'europ', 'invad', 'roman', 'empir', 'turn', 'flee', 'attila', 'hun', 'invad', 'asia', 'eventu', 'citi', 'rome', 'fell', 'barbarian', '476', 'ce', 'western', 'europ', 'divid', 'among', 'variou', 'german', 'warlord', 'although', 'empir', 'end', 'roman', 'cathol', 'church', 'remain', 'strong', 'next', '500', 'year', 'christian', 'spread', 'throughout', 'region', 'embrac', 'local', 'region', 'ruler', 'church', 'preserv', 'much', 'cultur', 'roman', 'empir', 'includ', 'languag', 'latin', 'use', 'liturgi', 'ceremoni', '1965', 'map', 'europ', '476', 'ce', 'rome', 'fell', '476', 'ce', 'western', 'europ', 'divid', 'number', 'kingdom', 'although', 'eastern', 'roman', 'byzantin', 'empir', 'persist', 'german', 'languag', 'transform', 'contact', 'latin', 'speaker', 'english', 'languag', 'good', 'exampl', 'german', 'latin', 'influenc', 'consid', 'time', 'measur', 'month', 'year', 'roman', 'calendar', 'first', 'six', 'month', 'name', 'roman', 'god', 'juli', 'august', 'name', 'earli', 'emperor', 'juliu', 'caesar', 'caesar', 'augustu', 'remain', 'month', 'ordin', 'number', 'seven', 'ten', 'although', 'confus', 'chang', 'cathol', 'church', 'decid', 'begin', 'calendar', 'januari', 'make', 'decemb', 'twelfth', 'month', 'instead', 'tenth', 'day', 'week', 'howev', 'reveal', 'latin', 'german', 'influenc', 'saturday', 'sunday', 'monday', 'come', 'sacr', 'roman', 'orb', 'sky', 'spanish', 'french', 'latin', 'languag', 'continu', 'vein', 'four', 'day', 'english', 'honor', 'barbarian', 'god', 'tieu', 'woden', 'thor', 'frija', 'remaind', 'week', 'eastern', 'roman', 'empir', 'byzantium', 'last', 'nearli', 'anoth', '1000', 'year', 'fall', 'rome', 'tell', 'european', 'peopl', 'convert', 'cathol', 'missionari', 'proselyt', 'orthodox', 'preacher', 'look', 'alphabet', 'russia', 'ukrain', 'bulgaria', 'exampl', 'use', 'greek', 'base', 'cyril', 'alphabet', 'western', 'european', 'languag', 'use', 'version', 'latin', 'alphabet', 'islam', 'influenc', '610', 'ce', 'prophet', 'muhammad', 'began', 'preach', 'organ', 'new', 'religion', 'islam', 'arabian', 'peninsula', 'region', 'mecca', 'prophet', 'teach', 'later', 'gather', 'holi', 'quran', 'built', 'upon', 'judaism', 'christian', 'mecca', 'long', 'site', 'religi', 'pilgrimag', 'honor', 'hebrew', 'patriarch', 'abraham', 'jesu', 'consid', 'import', 'prophet', 'islam', 'time', 'muhammad', 'pass', '632', 'islam', 'well', 'establish', 'eastern', 'arabian', 'peninsula', 'within', 'next', 'one', 'hundr', 'year', 'becam', 'domin', 'religion', 'north', 'africa', 'middl', 'east', 'persia', '1200', 'muslim', 'ruler', 'also', 'domin', 'south', 'asia', 'iberian', 'peninsula', '1787', 'map', 'mecca', '18th', 'centuri', 'map', 'mecca', 'show', 'al', 'haram', 'mosqu', 'ka', 'bah', 'million', 'muslim', 'visit', 'pilgrimag', 'everi', 'year', 'islam', 'brought', 'stabil', 'region', 'trade', 'learn', 'exchang', 'idea', 'flourish', 'extent', 'muslim', 'trade', 'notabl', 'establish', 'center', 'islam', 'studi', 'timbuktu', 'middl', 'northern', 'sub', 'saharan', 'africa', 'locat', 'across', 'sahara', 'desert', 'mecca', 'today', 'mali', 'religi', 'convers', 'often', 'accompani', 'arab', 'merchant', 'activ', 'inde', 'nation', 'largest', 'muslim', 'popul', 'world', 'indonesia', 'south', 'east', 'asian', 'archipelago', 'locat', 'thousand', 'mile', 'arabian', 'peninsula', 'arab', 'trader', 'first', 'introduc', 'religion', '1200', 'arab', 'world', 'benefit', 'rel', 'stabl', 'administr', 'commerci', 'link', 'allow', 'merchant', 'bring', 'new', 'technolog', 'scienc', 'mathemat', 'india', 'china', 'region', 'arab', 'scholar', 'refin', 'center', 'learn', 'muslim', 'like', 'christian', 'jew', 'follow', 'world', 'religion', 'may', 'share', 'common', 'sacr', 'write', 'liturg', 'tradit', 'also', 'divid', 'differ', 'theolog', 'interpret', 'religi', 'practic', 'islam', 'princip', 'divis', 'stem', 'earli', 'debat', 'led', 'religion', 'prophet', 'member', 'famili', 'simpli', 'anyon', 'effect', 'dynam', 'leader', 'sunni', '90', 'muslim', 'today', 'stem', 'group', 'believ', 'latter', 'shi', 'ite', '10', 'muslim', 'includ', 'often', 'martyr', 'descend', 'prophet', 'earli', 'principl', 'imam', 'spiritu', 'leader', 'islam', 'discuss', 'later', 'ruler', 'persia', 'today', 'iran', 'embrac', 'shi', 'ism', 'neighbor', 'sunni', 'although', 'sunni', 'shi', 'ite', 'fought', 'one', 'anoth', 'earli', 'year', 'islam', 'mani', 'also', 'live', 'togeth', 'rel', 'peac', 'centuri', 'last', 'decad', 'examin', 'later', 'chapter', 'question', 'discuss', 'think', 'memori', 'roman', 'empir', 'affect', 'european', 'conflict', 'muslim', 'christian', 'shape', 'european', 'histori', 'center', 'world', 'popul', 'asia', 'thousand', 'year', 'hunt', 'gather', 'ancient', 'peopl', 'northern', 'china', 'began', 'cultiv', 'millet', 'rice', 'time', 'much', 'way', 'peopl', 'middl', 'east', 'grew', 'wheat', 'peopl', 'america', 'grew', 'maiz', 'potato', 'cassava', 'china', 'record', 'histori', 'began', '2000', 'bce', 'four', 'thousand', 'year', 'ago', 'historian', 'pretti', 'good', 'idea', 'happen', 'distant', 'past', 'base', 'irrig', 'rice', 'agricultur', 'popul', 'china', 'grew', '50', '60', 'million', 'peopl', 'earli', '2', '000', 'year', 'ago', 'popul', 'origin', 'divid', 'sever', 'small', 'kingdom', 'whose', 'rule', 'famili', 'connect', 'polit', 'marriag', 'begin', '221', 'bce', 'influenti', 'power', 'famili', 'organ', 'kingdom', 'empir', 'cover', 'much', 'territori', 'modern', 'china', 'empir', 'last', 'two', 'thousand', 'year', 'seri', 'dozen', 'dynasti', 'fall', 'qing', 'dynasti', '1911', 'establish', 'republ', 'china', 'region', 'pakistan', 'india', 'indu', 'valley', 'citi', 'mohenjo', 'daro', 'harappa', 'reach', 'matur', '2600', 'bce', 'hous', '30', '000', '60', '000', 'peopl', 'cultur', 'grew', 'agricultur', 'base', 'focus', 'wheat', 'barley', 'millet', 'perman', 'natur', 'sedentari', 'agricultur', 'societi', 'led', 'thinker', 'consid', 'complex', 'way', 'peopl', 'live', 'correctli', 'world', 'led', 'establish', 'religi', 'civil', 'structur', 'ancestor', 'sourc', 'mani', 'world', 'govern', 'religion', 'still', 'exist', 'today', 'vedic', 'period', 'india', 'hinduism', 'took', 'root', 'begin', 'around', '2000', 'bce', 'base', 'stori', 'god', 'goddess', 'relationship', 'one', 'anoth', 'world', 'spiritu', 'rich', 'south', 'asia', 'inspir', 'buddha', 'origin', 'today', 'nepal', 'engag', 'spiritu', 'journey', 'enlighten', 'fifth', 'centuri', 'bce', 'buddhist', 'idea', 'inspir', 'spiritu', 'aspect', 'chines', 'japanes', 'southeast', 'asian', 'thought', 'map', 'roman', 'han', 'empir', 'extent', 'roman', 'han', 'empir', 'around', 'year', '1', 'ce', 'earliest', 'emperor', 'china', 'began', 'larg', 'public', 'work', 'program', 'includ', 'construct', 'call', 'long', 'wall', 'later', 'form', 'basi', 'great', 'wall', 'partli', 'protect', 'northern', 'tribe', 'partli', 'expand', 'territori', 'northward', 'around', '200', 'bce', 'second', 'chines', 'dynasti', 'han', 'establish', 'trade', 'rout', 'call', 'silk', 'road', 'link', 'china', 'central', 'asia', 'europ', 'artifact', 'roman', 'empir', 'found', 'china', 'silk', 'china', 'develop', '3000', 'bce', 'becam', 'luxuri', 'fabric', 'greec', 'rome', 'next', 'dynasti', 'sui', 'dug', 'grand', 'canal', 'connect', 'yellow', 'yangtz', 'river', 'sixth', 'centuri', 'ce', 'canal', 'allow', 'rice', 'wheat', 'millet', 'transport', 'protect', 'inland', 'waterway', 'instead', 'ship', 'ocean', 'shipment', 'could', 'threaten', 'pirat', 'china', 'also', 'led', 'world', 'iron', 'copper', 'porcelain', 'product', 'well', 'four', 'great', 'invent', 'compass', 'gunpowd', 'paper', 'make', 'print', 'question', 'discuss', 'signific', 'china', 'india', 'alway', 'center', 'world', 'popul', 'agricultur', 'surplus', 'encourag', 'build', 'citi', 'kingdom', 'empir', 'surpris', 'han', 'roman', 'empir', 'exist', 'time', 'trade', 'asia', 'europ', 'via', 'silk', 'road', 'isol', 'america', 'peopl', 'live', 'america', 'separ', 'climat', 'chang', 'eurasia', 'nearli', '12', '000', 'year', 'end', 'ice', 'age', 'creat', 'beringia', 'alaska', 'siberia', 'allow', 'eurasian', 'cross', 'america', 'period', 'rememb', 'twice', 'long', 'record', 'histori', 'nativ', 'american', 'idl', 'arriv', 'america', 'found', 'larg', 'anim', 'speci', 'avail', 'domest', 'like', 'european', 'asian', 'african', 'nativ', 'american', 'experienc', 'agricultur', 'revolut', 'long', 'period', 'hunt', 'gather', 'instead', 'domest', 'cattl', 'hors', 'sheep', 'goat', 'pig', 'chicken', 'american', 'develop', 'certain', 'plant', 'creat', 'three', 'world', 'current', 'top', 'five', 'stapl', 'crop', 'teosint', 'maiz', 'imag', 'depict', 'teosint', 'maiz', 'teosint', 'hybrid', 'maiz', 'develop', '7', '000', '10', '000', 'year', 'ago', 'central', 'mexico', 'stapl', 'crop', 'produc', 'food', 'provid', 'greatest', 'percentag', 'calori', 'peopl', 'eat', 'might', 'surpris', 'today', 'fifteen', 'stapl', 'crop', 'account', '90', 'calori', 'peopl', 'eat', 'everi', 'day', 'top', 'five', 'respons', 'nearli', 'three', 'quarter', 'includ', 'feed', 'anim', 'whose', 'meat', 'eat', 'discov', 'invent', 'ancient', 'peopl', 'six', 'ten', 'thousand', 'year', 'ago', 'three', 'five', 'invent', 'america', 'world', 'five', 'top', 'five', 'stapl', 'today', 'order', 'import', 'maiz', 'corn', 'rice', 'wheat', 'potato', 'cassava', 'rice', 'wheat', 'known', 'europ', 'asia', 'africa', 'contact', 'america', 'nativ', 'mexico', 'develop', 'maiz', 'nativ', 'grass', 'call', 'teosint', 'begin', 'nine', 'thousand', 'year', 'ago', 'use', 'spread', 'nearli', 'everi', 'part', 'america', 'gener', 'women', 'farmer', 'ancient', 'mexico', 'select', 'bred', 'grass', 'produc', 'bigger', 'seed', 'maiz', 'current', 'import', 'stapl', 'world', 'human', 'anim', 'feed', 'well', 'industri', 'use', 'like', 'high', 'fructos', 'corn', 'syrup', 'plastic', 'fuel', 'andean', 'nativ', 'peru', 'bolivia', 'creat', 'mani', 'varieti', 'potato', 'begin', '10', '000', 'year', 'ago', 'andean', 'women', 'develop', 'differ', 'varieti', 'differ', 'grow', 'condit', 'learn', 'freez', 'dri', 'potato', 'long', 'term', 'storag', 'peopl', 'amazon', 'region', 'discov', 'manioc', 'tree', 'grow', 'rainforest', 'develop', 'process', 'turn', 'tree', 'poison', 'root', 'cassava', 'know', 'tapioca', '10', '000', '7', '000', 'year', 'ago', 'raw', 'cassava', 'root', 'toxic', 'addit', 'domest', 'plant', 'amazonian', 'tree', 'farmer', 'develop', 'technolog', 'combin', 'boil', 'dri', 'chemic', 'leach', 'remov', 'cyanid', 'compound', 'make', 'manioc', 'use', 'along', 'rice', 'wheat', 'develop', 'eurasia', 'maiz', 'potato', 'manioc', 'import', 'stapl', 'crop', 'modern', 'world', 'feed', 'billion', 'peopl', 'ancient', 'nativ', 'american', 'thank', 'manioc', 'cassava', 'root', 'need', 'process', 'remov', 'poison', 'eaten', 'cours', 'eat', 'noth', 'maiz', 'potato', 'cassava', 'would', 'bland', 'diet', 'indigen', 'central', 'mexico', 'develop', 'plant', 'flavor', 'cuisin', 'variou', 'type', 'hot', 'pepper', 'bean', 'tomato', 'present', 'mexican', 'food', 'today', 'enjoy', 'olmec', 'toltec', 'mexica', 'hundr', 'year', 'encount', 'european', 'sixteenth', 'centuri', 'meso', 'american', 'also', 'ground', 'cocoa', 'bean', 'ad', 'hot', 'water', 'pepper', 'honey', 'make', 'hot', 'chocol', 'even', 'today', 'million', 'latin', 'american', 'begin', 'end', 'day', 'cup', 'prepar', 'tradit', 'olleta', 'hand', 'held', 'batidor', 'use', 'chunk', 'chocol', 'howev', 'delici', 'drink', 'origin', 'reserv', 'nobil', 'cocoa', 'bean', 'often', 'use', 'kind', 'currenc', 'question', 'discuss', 'would', 'matter', 'larg', 'anim', 'speci', 'america', 'nativ', 'domest', 'signific', 'peopl', 'breed', 'new', 'stapl', 'crop', 'america', 'mostli', 'women', 'look', 'close', 'next', 'sever', 'chapter', 'cultur', 'region', 'enter', 'modern', 'era', 'although', 'peopl', 'contin', 'region', 'develop', 'differ', 'tradit', 'custom', 'agricultur', 'base', 'cultur', 'share', 'lot', 'similar', 'civil', 'compar', 'advanc', 'begin', 'survey', 'introduct', 'let', 'begin']\n"
     ]
    }
   ],
   "source": [
    "ps = PorterStemmer()\n",
    "\n",
    "stemmed_words=[]\n",
    "for w in filtered:\n",
    "    stemmed_words.append(ps.stem(w))\n",
    "\n",
    "print(\"Stemmed words:\",stemmed_words)"
   ]
  },
  {
   "cell_type": "code",
   "execution_count": 31,
   "id": "03a61cfb",
   "metadata": {},
   "outputs": [
    {
     "data": {
      "text/plain": [
       "[('year', 31),\n",
       " ('roman', 30),\n",
       " ('empir', 28),\n",
       " ('peopl', 25),\n",
       " ('develop', 23),\n",
       " ('world', 22),\n",
       " ('000', 21),\n",
       " ('agricultur', 16),\n",
       " ('ago', 16),\n",
       " ('ancient', 15),\n",
       " ('china', 14),\n",
       " ('europ', 14),\n",
       " ('region', 13),\n",
       " ('began', 13),\n",
       " ('america', 13)]"
      ]
     },
     "execution_count": 31,
     "metadata": {},
     "output_type": "execute_result"
    }
   ],
   "source": [
    "# find the frequency distributions of words\n",
    "fdist_s = FreqDist(stemmed_words)\n",
    "fdist_s.most_common(15)"
   ]
  },
  {
   "cell_type": "markdown",
   "id": "0a66f34a",
   "metadata": {},
   "source": [
    "Now we get the idea of what the text is about!!"
   ]
  },
  {
   "cell_type": "markdown",
   "id": "43877b98",
   "metadata": {},
   "source": [
    "# Nivell 3\n",
    "## Exercici 1\n",
    "Realitza sentiment analysis al teu conjunt de dades."
   ]
  },
  {
   "cell_type": "markdown",
   "id": "1a79e30e",
   "metadata": {},
   "source": [
    "TextBlob measures polarity and subjectivity. \n",
    "* Polarity: from -1 to 1 (-1 defines a negative sentiment and 1 defines a positive sentiment) \n",
    "* Subjectivity from 0  to 1  (Subjectivity quantifies the amount of personal opinion and factual information contained in the text. The higher subjectivity means that the text contains personal opinion rather than factual information.)"
   ]
  },
  {
   "cell_type": "code",
   "execution_count": 40,
   "id": "3ab0edc6",
   "metadata": {},
   "outputs": [
    {
     "name": "stdout",
     "output_type": "stream",
     "text": [
      "Polarity:\n",
      "Positive\n",
      "Text is more objective\n"
     ]
    }
   ],
   "source": [
    "def sentiment_analysis(text):\n",
    "    # Get the polarity\n",
    "    def getPolarity(text):\n",
    "        score = TextBlob(text).sentiment.polarity\n",
    "        print('Polarity:')\n",
    "        if score < 0:\n",
    "            print('Negative')\n",
    "        elif score == 0:\n",
    "            print('Neutral')\n",
    "        else:\n",
    "            print('Positive')\n",
    "      \n",
    "    # Get the subjectivity\n",
    "    def getSubjectivity(text):\n",
    "        score = TextBlob(text).sentiment.subjectivity\n",
    "        if score < 0.5:\n",
    "            print('Text is more objective')\n",
    "        else:\n",
    "            print('Text is more subjective')\n",
    "            \n",
    "    getPolarity(text)\n",
    "    getSubjectivity(text)\n",
    " \n",
    "sentiment_analysis(text)"
   ]
  },
  {
   "cell_type": "raw",
   "id": "e5bc9b2c",
   "metadata": {},
   "source": [
    "It makes sense because it's a historical text. "
   ]
  },
  {
   "cell_type": "code",
   "execution_count": 41,
   "id": "ba4fe3f0",
   "metadata": {},
   "outputs": [],
   "source": [
    "f.close()"
   ]
  }
 ],
 "metadata": {
  "kernelspec": {
   "display_name": "Python 3",
   "language": "python",
   "name": "python3"
  },
  "language_info": {
   "codemirror_mode": {
    "name": "ipython",
    "version": 3
   },
   "file_extension": ".py",
   "mimetype": "text/x-python",
   "name": "python",
   "nbconvert_exporter": "python",
   "pygments_lexer": "ipython3",
   "version": "3.8.8"
  }
 },
 "nbformat": 4,
 "nbformat_minor": 5
}
